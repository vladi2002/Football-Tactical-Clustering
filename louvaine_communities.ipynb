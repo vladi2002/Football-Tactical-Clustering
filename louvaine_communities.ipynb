{
 "cells": [
  {
   "cell_type": "markdown",
   "id": "3572c3d7",
   "metadata": {},
   "source": [
    "Imports\n"
   ]
  },
  {
   "cell_type": "code",
   "execution_count": 43,
   "id": "18c5ae34",
   "metadata": {},
   "outputs": [],
   "source": [
    "import numpy as np\n",
    "import networkx as nx\n",
    "import matplotlib.pyplot as plt\n",
    "import matplotlib.patches as patches\n",
    "import matplotlib.cm as cm\n",
    "from kloppy import wyscout, statsbomb\n",
    "from kloppy.domain import Orientation\n",
    "import kloppy\n",
    "import pandas as pd\n",
    "import warnings\n",
    "from graph import build_transition_graph, visualise_transition_graph, ZoneTransformer"
   ]
  },
  {
   "cell_type": "markdown",
   "id": "36f5b72a",
   "metadata": {},
   "source": [
    "Gathering Match Data"
   ]
  },
  {
   "cell_type": "code",
   "execution_count": 37,
   "id": "6b1a9685",
   "metadata": {},
   "outputs": [],
   "source": [
    "zt = ZoneTransformer()\n",
    "\n",
    "match_id = 2499843\n",
    "match_data = wyscout.load_open_data(match_id)\n",
    "match_data = match_data.transform(Orientation.ACTION_EXECUTING_TEAM)\n",
    "\n",
    "home_team, away_team = match_data.metadata.teams\n",
    "home_id, away_id = int(home_team.team_id), int(away_team.team_id)\n",
    "\n",
    "match_df = match_data.to_df(*zt.INCLUDE_COLS, engine='pandas')\n",
    "match_df.set_index('event_id', inplace=True)\n",
    "match_df = zt.transform(match_df)\n",
    "\n",
    "home_df = match_df[match_df['team_id'] == home_id]\n",
    "away_df = match_df[match_df['team_id'] == away_id]\n",
    "\n",
    "G_home = build_transition_graph(home_df)\n",
    "G_away = build_transition_graph(away_df)"
   ]
  },
  {
   "cell_type": "markdown",
   "id": "cd04d5e2",
   "metadata": {},
   "source": [
    "Visualize the Louvaine communities"
   ]
  },
  {
   "cell_type": "code",
   "execution_count": null,
   "id": "5ae5aa62",
   "metadata": {},
   "outputs": [],
   "source": [
    "def visualize_louvaine(G):\n",
    "    community_dict = {}\n",
    "    communities = nx.community.louvain_communities(G, weight='weight')\n",
    "    for comm_id, comm in enumerate(communities):\n",
    "        for node in comm:\n",
    "            community_dict[node] = comm_id\n",
    "\n",
    "    pos = {zone_id: zt.get_zone_center(zone_id) for zone_id in G.nodes()}\n",
    "    weights = [G[u][v][\"weight\"] for u, v in G.edges()]\n",
    "\n",
    "    num_comm = len(communities)\n",
    "    cmap = cm.get_cmap('tab10', num_comm)\n",
    "    node_colors = [community_dict[node] for node in G.nodes()]\n",
    "    nx.draw(\n",
    "        G,\n",
    "        pos,\n",
    "        with_labels=True,\n",
    "        node_size=500,\n",
    "        node_color=node_colors,\n",
    "        arrowsize=20,\n",
    "        edge_color=weights,\n",
    "        cmap=cmap,\n",
    "        edge_cmap=plt.cm.Blues,\n",
    "        width=2,\n",
    "    )\n",
    "\n",
    "    plt.title(\"Graph with Louvain communities\")\n",
    "    plt.axis('off')\n",
    "    plt.tight_layout()\n",
    "    plt.show()"
   ]
  },
  {
   "cell_type": "code",
   "execution_count": null,
   "id": "c1f278e4",
   "metadata": {},
   "outputs": [
    {
     "ename": "TypeError",
     "evalue": "unhashable type: 'set'",
     "output_type": "error",
     "traceback": [
      "\u001b[31m---------------------------------------------------------------------------\u001b[39m",
      "\u001b[31mTypeError\u001b[39m                                 Traceback (most recent call last)",
      "\u001b[36mCell\u001b[39m\u001b[36m \u001b[39m\u001b[32mIn[121]\u001b[39m\u001b[32m, line 2\u001b[39m\n\u001b[32m      1\u001b[39m \u001b[38;5;66;03m# Example use\u001b[39;00m\n\u001b[32m----> \u001b[39m\u001b[32m2\u001b[39m \u001b[43mvisualize_louvaine\u001b[49m\u001b[43m(\u001b[49m\u001b[43mG_away\u001b[49m\u001b[43m,\u001b[49m\u001b[43m \u001b[49m\u001b[43mmode\u001b[49m\u001b[43m=\u001b[49m\u001b[33;43m'\u001b[39;49m\u001b[33;43mpartitions\u001b[39;49m\u001b[33;43m'\u001b[39;49m\u001b[43m)\u001b[49m\n",
      "\u001b[36mCell\u001b[39m\u001b[36m \u001b[39m\u001b[32mIn[120]\u001b[39m\u001b[32m, line 9\u001b[39m, in \u001b[36mvisualize_louvaine\u001b[39m\u001b[34m(G, mode)\u001b[39m\n\u001b[32m      7\u001b[39m \u001b[38;5;28;01mfor\u001b[39;00m comm_id, comm \u001b[38;5;129;01min\u001b[39;00m \u001b[38;5;28menumerate\u001b[39m(communities):\n\u001b[32m      8\u001b[39m     \u001b[38;5;28;01mfor\u001b[39;00m node \u001b[38;5;129;01min\u001b[39;00m comm:\n\u001b[32m----> \u001b[39m\u001b[32m9\u001b[39m         \u001b[43mcommunity_dict\u001b[49m\u001b[43m[\u001b[49m\u001b[43mnode\u001b[49m\u001b[43m]\u001b[49m = comm_id\n\u001b[32m     11\u001b[39m pos = {zone_id: zt.get_zone_center(zone_id) \u001b[38;5;28;01mfor\u001b[39;00m zone_id \u001b[38;5;129;01min\u001b[39;00m G.nodes()}\n\u001b[32m     12\u001b[39m weights = [G[u][v][\u001b[33m\"\u001b[39m\u001b[33mweight\u001b[39m\u001b[33m\"\u001b[39m] \u001b[38;5;28;01mfor\u001b[39;00m u, v \u001b[38;5;129;01min\u001b[39;00m G.edges()]\n",
      "\u001b[31mTypeError\u001b[39m: unhashable type: 'set'"
     ]
    }
   ],
   "source": [
    "# Example use\n",
    "visualize_louvaine(G_away)"
   ]
  }
 ],
 "metadata": {
  "kernelspec": {
   "display_name": "python_venv",
   "language": "python",
   "name": "python3"
  },
  "language_info": {
   "codemirror_mode": {
    "name": "ipython",
    "version": 3
   },
   "file_extension": ".py",
   "mimetype": "text/x-python",
   "name": "python",
   "nbconvert_exporter": "python",
   "pygments_lexer": "ipython3",
   "version": "3.12.3"
  }
 },
 "nbformat": 4,
 "nbformat_minor": 5
}
