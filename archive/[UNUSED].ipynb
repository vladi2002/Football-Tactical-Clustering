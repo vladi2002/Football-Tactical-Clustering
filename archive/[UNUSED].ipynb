{
 "cells": [
  {
   "cell_type": "markdown",
   "id": "6ef8c224",
   "metadata": {},
   "source": [
    "Potential: event types (pass, duel, etc.), most common event (max frequency).\n",
    "\n",
    "The players are important for the transitions. How do we encode them? Distribution, counts?\n",
    "\n",
    "Distribution of positions (GK, DEF, MID, ATT). Prune events for only PASSES, SHOTS, DUEL (TACKLES?)"
   ]
  },
  {
   "cell_type": "code",
   "execution_count": null,
   "id": "8b2a4343",
   "metadata": {},
   "outputs": [],
   "source": [
    "df_players = pd.read_json(\"data/players.json\")\n",
    "df_players = pd.json_normalize(df_players.to_dict(\"records\"), sep=\"_\")\n",
    "\n",
    "# replace null strings with actual nulls\n",
    "df_players = df_players.replace(\"null\", pd.NA)\n",
    "\n",
    "# decode unicode escape sequences in name columns\n",
    "for col in [\"firstName\", \"middleName\", \"lastName\", \"shortName\"]:\n",
    "    df_players[col] = df_players[col].apply(\n",
    "        lambda x: x.encode().decode(\"unicode-escape\") if isinstance(x, str) else x\n",
    "    )\n",
    "\n",
    "df_players.rename(\n",
    "    columns={\"wyId\": \"player_id\", \"currentTeamId\": \"team_id\"}, inplace=True\n",
    ")\n",
    "\n",
    "# rename all cols to snake_case\n",
    "df_players.columns = [\n",
    "    \"\".join([\"_\" + i.lower() if i.isupper() else i for i in col]).lstrip(\"_\")\n",
    "    for col in df_players.columns\n",
    "]\n",
    "\n",
    "df_players.set_index(\"player_id\", inplace=True)\n",
    "df_players"
   ]
  },
  {
   "cell_type": "code",
   "execution_count": null,
   "id": "06e60fad",
   "metadata": {},
   "outputs": [],
   "source": [
    "match_id = 8658  # France vs Croatia World Cup Final 2018\n",
    "\n",
    "data = statsbomb.load_open_data(match_id)\n",
    "data = data.transform(\n",
    "    Orientation.ACTION_EXECUTING_TEAM\n",
    ")  # the team that executes the action always plays from left to right (with x=100 being the opponent's goal)\n",
    "\n",
    "home_team, away_team = data.metadata.teams\n",
    "home_team_id, away_team_id = home_team.team_id, away_team.team_id\n",
    "print(f\"Home team: {home_team.name} ({home_team_id})\")\n",
    "print(f\"Away team: {away_team.name} ({away_team_id})\")\n",
    "\n",
    "df_raw = data.to_df(*zt.INCLUDE_COLS, engine=\"pandas\")\n",
    "df_raw.set_index(\"event_id\", inplace=True)\n",
    "df_raw = zt.transform(df_raw)\n",
    "df_raw"
   ]
  }
 ],
 "metadata": {
  "language_info": {
   "name": "python"
  }
 },
 "nbformat": 4,
 "nbformat_minor": 5
}
