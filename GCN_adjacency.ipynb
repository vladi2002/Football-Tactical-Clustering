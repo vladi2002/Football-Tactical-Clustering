{
 "cells": [
  {
   "cell_type": "code",
   "execution_count": 146,
   "id": "52b0db18",
   "metadata": {},
   "outputs": [
    {
     "name": "stdout",
     "output_type": "stream",
     "text": [
      "2.2.6\n"
     ]
    }
   ],
   "source": [
    "import pickle\n",
    "import glob\n",
    "import os\n",
    "import numpy\n",
    "import re\n",
    "from collections import defaultdict\n",
    "import torch\n",
    "import torch.nn.functional as F\n",
    "from torch_geometric.nn import GCNConv\n",
    "from torch_geometric.utils import from_networkx\n",
    "from torch_geometric.loader import DataLoader\n",
    "import networkx as nx\n",
    "import numpy as np\n",
    "from tqdm.notebook import tqdm\n",
    "import matplotlib.pyplot as plt\n",
    "import seaborn as sns\n",
    "\n",
    "from src.ZoneTransformer import zt\n",
    "\n",
    "print(numpy.__version__)"
   ]
  },
  {
   "cell_type": "code",
   "execution_count": 95,
   "id": "b566696b",
   "metadata": {},
   "outputs": [
    {
     "name": "stdout",
     "output_type": "stream",
     "text": [
      "Loaded 112 graphs successfully!\n"
     ]
    }
   ],
   "source": [
    "# Path to your folder containing the .pkl files\n",
    "folder_path = \"./graphs\"   # or \"/absolute/path/to/graphs\" if outside your project folder\n",
    "\n",
    "graphs = []\n",
    "\n",
    "# Loop through all .pkl files in the folder\n",
    "for file in glob.glob(os.path.join(folder_path, \"*.pkl\")):\n",
    "    with open(file, 'rb') as f:\n",
    "        graphs.append(pickle.load(f))\n",
    "\n",
    "print(f\"Loaded {len(graphs)} graphs successfully!\")\n"
   ]
  },
  {
   "cell_type": "code",
   "execution_count": null,
   "id": "bbcedb6f",
   "metadata": {},
   "outputs": [
    {
     "name": "stdout",
     "output_type": "stream",
     "text": [
      "Loaded graphs for 3 teams:\n",
      "  Team 1609: 38 graphs\n",
      "  Team 1625: 37 graphs\n",
      "  Team 1612: 37 graphs\n"
     ]
    }
   ],
   "source": [
    "folder_path = \"./graphs\"\n",
    "\n",
    "# Dictionary: teamID → list of graphs\n",
    "team_graphs = defaultdict(list)\n",
    "\n",
    "# Regex pattern to extract teamID from filenames\n",
    "pattern = re.compile(r\"team(\\d+)\\.pkl\")\n",
    "\n",
    "for file in glob.glob(os.path.join(folder_path, \"graph_match*_team*.pkl\")):\n",
    "    match = pattern.search(file)\n",
    "    if match:\n",
    "        team = int(match.group(1))  # convert to integer if needed\n",
    "        with open(file, \"rb\") as f:\n",
    "            graph = pickle.load(f)\n",
    "        team_graphs[team].append(graph)\n",
    "\n",
    "print(f\"Loaded graphs for {len(team_graphs)} teams:\")\n",
    "for team, graphs in team_graphs.items():\n",
    "    print(f\"  Team {team}: {len(graphs)} graphs\")"
   ]
  },
  {
   "cell_type": "code",
   "execution_count": 98,
   "id": "8cfddcfb",
   "metadata": {},
   "outputs": [
    {
     "name": "stdout",
     "output_type": "stream",
     "text": [
      "Arsenal: 38 graphs\n",
      "Manchester City: 37 graphs\n",
      "Liverpool: 37 graphs\n"
     ]
    }
   ],
   "source": [
    "# map team IDs to friendly names\n",
    "team_name_map = {\n",
    "    1609: \"Arsenal\",\n",
    "    1612: \"Liverpool\",\n",
    "    1625: \"Manchester City\",\n",
    "}\n",
    "\n",
    "# build new dictionary with readable team names\n",
    "team_graphs_dict = {\n",
    "    team_name_map[team_id]: graphs\n",
    "    for team_id, graphs in team_graphs.items()\n",
    "    if team_id in team_name_map\n",
    "}\n",
    "\n",
    "# Quick summary\n",
    "for name, graphs in team_graphs_dict.items():\n",
    "    print(f\"{name}: {len(graphs)} graphs\")"
   ]
  },
  {
   "cell_type": "code",
   "execution_count": null,
   "id": "a79539c1",
   "metadata": {},
   "outputs": [],
   "source": [
    "# ===========================================\n",
    "#  TEAM-LEVEL GCN AUTOENCODER FOR TACTICAL CLUSTERING\n",
    "# ===========================================\n",
    "\n",
    "\n",
    "# -----------------------------\n",
    "# 1. Prepare each graph as PyG data\n",
    "# -----------------------------\n",
    "def prepare_pyg_data(G, zt=None, add_spatial=True):\n",
    "    \"\"\"\n",
    "    Converts a zone transition graph into a PyTorch Geometric Data object.\n",
    "    Includes node features + edge weights.\n",
    "    \"\"\"\n",
    "\n",
    "    features = []\n",
    "    for n in G.nodes():\n",
    "        node = G.nodes[n]\n",
    "        in_deg, out_deg = node[\"in_deg\"], node[\"out_deg\"]\n",
    "        x_center, y_center = node[\"x_center\"], node[\"y_center\"]\n",
    "        event_count = node[\"event_count\"]\n",
    "        unique_players = node[\"unique_players\"]\n",
    "        role_dist = node[\"role_distribution\"]\n",
    "        event_dist = node[\"event_distribution\"]\n",
    "\n",
    "        features.append(\n",
    "            [\n",
    "                x_center,\n",
    "                y_center,\n",
    "                in_deg,\n",
    "                out_deg,\n",
    "                event_count,\n",
    "                unique_players,\n",
    "                *role_dist,\n",
    "                *event_dist,\n",
    "            ]\n",
    "        )\n",
    "\n",
    "    X = torch.tensor(np.array(features, dtype=float), dtype=torch.float32)\n",
    "\n",
    "    data = from_networkx(G)\n",
    "    data.x = X\n",
    "\n",
    "    # add edge weights as attributes\n",
    "    edge_weights = [G[u][v][\"weight\"] for u, v in G.edges()]\n",
    "    data.edge_attr = torch.tensor(edge_weights, dtype=torch.float32)\n",
    "\n",
    "    return data\n",
    "\n",
    "\n",
    "# -----------------------------\n",
    "# 2. Define the GCN Autoencoder\n",
    "# -----------------------------\n",
    "class GCNEncoder(torch.nn.Module):\n",
    "    def __init__(self, in_channels, hidden_channels, latent_channels):\n",
    "        super().__init__()\n",
    "        self.conv1 = GCNConv(in_channels, hidden_channels)\n",
    "        self.conv2 = GCNConv(hidden_channels, latent_channels)\n",
    "\n",
    "    def forward(self, x, edge_index, edge_weight=None):\n",
    "        x = F.relu(self.conv1(x, edge_index, edge_weight=edge_weight))\n",
    "        z = self.conv2(x, edge_index, edge_weight=edge_weight)\n",
    "        return z\n",
    "\n",
    "\n",
    "class GraphAutoencoder(torch.nn.Module):\n",
    "    def __init__(self, in_channels, hidden_channels, latent_channels):\n",
    "        super().__init__()\n",
    "        self.encoder = GCNEncoder(in_channels, hidden_channels, latent_channels)\n",
    "\n",
    "    def forward(self, data):\n",
    "        z = self.encoder(data.x, data.edge_index, data.edge_attr)\n",
    "        # Adjacency reconstruction (inner product)\n",
    "        adj_pred = torch.sigmoid(torch.mm(z, z.t()))\n",
    "        return adj_pred, z\n",
    "\n",
    "\n",
    "# -----------------------------\n",
    "# 3. Train on all team graphs jointly\n",
    "# -----------------------------\n",
    "def train_team_autoencoder(\n",
    "    team_graphs,\n",
    "    zt=None,\n",
    "    hidden_dim=16,\n",
    "    latent_dim=3,\n",
    "    epochs=200,\n",
    "    lr=0.005,\n",
    "    batch_size=1,\n",
    "    device=\"cpu\",\n",
    "):\n",
    "    # Prepare PyG data objects\n",
    "    data_list = [prepare_pyg_data(G, zt) for G in team_graphs]\n",
    "    loader = DataLoader(data_list, batch_size=batch_size, shuffle=True)\n",
    "\n",
    "    # Model setup\n",
    "    in_dim = data_list[0].x.shape[1]\n",
    "    model = GraphAutoencoder(in_dim, hidden_dim, latent_dim).to(device)\n",
    "    optimizer = torch.optim.Adam(model.parameters(), lr=lr)\n",
    "\n",
    "    # Training loop\n",
    "    model.train()\n",
    "    for epoch in tqdm(range(epochs), desc=\"Training GCN Autoencoder\"):\n",
    "        total_loss = 0\n",
    "        for data in loader:\n",
    "            data = data.to(device)\n",
    "            optimizer.zero_grad()\n",
    "            A_pred, _ = model(data)\n",
    "\n",
    "            # Ground-truth adjacency\n",
    "            A_true = torch.zeros_like(A_pred)\n",
    "            for i, (u, v) in enumerate(data.edge_index.t()):\n",
    "                A_true[u, v] = 1.0\n",
    "\n",
    "            loss = F.mse_loss(A_pred, A_true)\n",
    "            loss.backward()\n",
    "            optimizer.step()\n",
    "            total_loss += loss.item()\n",
    "\n",
    "        # if (epoch + 1) % 20 == 0:\n",
    "        #     print(f\"Epoch {epoch+1}/{epochs}, Loss: {total_loss:.4f}\")\n",
    "\n",
    "    return model\n",
    "\n",
    "\n",
    "# -----------------------------\n",
    "# 4. Extract embeddings for each match\n",
    "# -----------------------------\n",
    "def get_team_embeddings(model, team_graphs, zt=None, device=\"cpu\"):\n",
    "    model.eval()\n",
    "    embeddings_per_match = []\n",
    "    with torch.no_grad():\n",
    "        for G in team_graphs:\n",
    "            data = prepare_pyg_data(G, zt).to(device)\n",
    "            _, z = model(data)\n",
    "            # Instead of .numpy(), just keep as list\n",
    "            embeddings_per_match.append(z.cpu().tolist())\n",
    "    return embeddings_per_match"
   ]
  },
  {
   "cell_type": "code",
   "execution_count": 105,
   "id": "9ede1b29",
   "metadata": {},
   "outputs": [],
   "source": [
    "# Training models\n",
    "if os.path.exists(\"models/GCN_model_team1609.pkl\"):\n",
    "    model_arsenal = pickle.load(open(\"models/GCN_model_team1609.pkl\", \"rb\"))\n",
    "else:\n",
    "    model_arsenal = train_team_autoencoder(team_graphs_dict[\"Arsenal\"], zt, epochs=200)\n",
    "if os.path.exists(\"models/GCN_model_team1612.pkl\"):\n",
    "    model_liverpool = pickle.load(open(\"models/GCN_model_team1612.pkl\", \"rb\"))\n",
    "else:\n",
    "    model_liverpool = train_team_autoencoder(\n",
    "        team_graphs_dict[\"Liverpool\"], zt, epochs=200\n",
    "    )\n",
    "if os.path.exists(\"models/GCN_model_team1625.pkl\"):\n",
    "    model_man_city = pickle.load(open(\"models/GCN_model_team1625.pkl\", \"rb\"))\n",
    "else:\n",
    "    model_man_city = train_team_autoencoder(\n",
    "        team_graphs_dict[\"Manchester City\"], zt, epochs=200\n",
    "    )"
   ]
  },
  {
   "cell_type": "code",
   "execution_count": null,
   "id": "9c07c440",
   "metadata": {},
   "outputs": [],
   "source": [
    "# save models to disk\n",
    "# with open(\"model_teamA.pkl\", \"wb\") as f:\n",
    "#     pickle.dump(model_A, f)\n",
    "# with open(\"model_teamB.pkl\", \"wb\") as f:\n",
    "#     pickle.dump(model_B, f)\n",
    "# with open(\"model_teamC.pkl\", \"wb\") as f:\n",
    "#     pickle.dump(model_C, f)"
   ]
  },
  {
   "cell_type": "code",
   "execution_count": 106,
   "id": "73652273",
   "metadata": {},
   "outputs": [],
   "source": [
    "# KMeans clustering (but only works with entirely with PyTorch because met with problem with NumPy, can also use NumPy directly)\n",
    "\n",
    "import torch\n",
    "\n",
    "def kmeans_torch(X, n_clusters=3, n_iters=100, verbose=False):\n",
    "    \"\"\"\n",
    "    Simple KMeans clustering in PyTorch\n",
    "    X: tensor of shape (n_samples, n_features)\n",
    "    Returns: cluster assignments, centroids\n",
    "    \"\"\"\n",
    "    n_samples, n_features = X.shape\n",
    "\n",
    "    # Initialize centroids randomly from data points\n",
    "    indices = torch.randperm(n_samples)[:n_clusters]\n",
    "    centroids = X[indices]\n",
    "\n",
    "    for i in range(n_iters):\n",
    "        # Compute distances (squared Euclidean)\n",
    "        dists = torch.cdist(X, centroids, p=2)  # (n_samples, n_clusters)\n",
    "        # Assign clusters\n",
    "        cluster_ids = torch.argmin(dists, dim=1)\n",
    "        # Update centroids\n",
    "        new_centroids = torch.stack([\n",
    "            X[cluster_ids == k].mean(dim=0) if (cluster_ids == k).sum() > 0 else centroids[k]\n",
    "            for k in range(n_clusters)\n",
    "        ])\n",
    "        # Check for convergence\n",
    "        if torch.allclose(centroids, new_centroids):\n",
    "            break\n",
    "        centroids = new_centroids\n",
    "        if verbose:\n",
    "            print(f\"Iteration {i+1} done\")\n",
    "    return cluster_ids, centroids\n"
   ]
  },
  {
   "cell_type": "code",
   "execution_count": 109,
   "id": "5ae36cce",
   "metadata": {},
   "outputs": [],
   "source": [
    "# Example: get embeddings from trained autoencoders\n",
    "emb_arsenal = get_team_embeddings(model_arsenal, team_graphs_dict[\"Arsenal\"], zt)\n",
    "emb_liverpool = get_team_embeddings(model_liverpool, team_graphs_dict[\"Liverpool\"], zt)\n",
    "emb_man_city = get_team_embeddings(\n",
    "    model_man_city, team_graphs_dict[\"Manchester City\"], zt\n",
    ")"
   ]
  },
  {
   "cell_type": "code",
   "execution_count": 110,
   "id": "7acc9b9b",
   "metadata": {},
   "outputs": [],
   "source": [
    "# Convert your embeddings to a tensor\n",
    "tensor_emb_arsenal = torch.tensor(\n",
    "    [item for match in emb_arsenal for item in match], dtype=torch.float32\n",
    ")\n",
    "tensor_emb_liverpool = torch.tensor(\n",
    "    [item for match in emb_liverpool for item in match], dtype=torch.float32\n",
    ")\n",
    "tensor_emb_man_city = torch.tensor(\n",
    "    [item for match in emb_man_city for item in match], dtype=torch.float32\n",
    ")"
   ]
  },
  {
   "cell_type": "code",
   "execution_count": 111,
   "id": "fa951012",
   "metadata": {},
   "outputs": [],
   "source": [
    "# Cluster\n",
    "clusters_arsenal, centroids_arsenal = kmeans_torch(tensor_emb_arsenal, n_clusters=3)\n",
    "clusters_liverpool, centroids_liverpool = kmeans_torch(\n",
    "    tensor_emb_liverpool, n_clusters=3\n",
    ")\n",
    "clusters_man_city, centroids_man_city = kmeans_torch(tensor_emb_man_city, n_clusters=3)"
   ]
  },
  {
   "cell_type": "code",
   "execution_count": 120,
   "id": "e9b393df",
   "metadata": {},
   "outputs": [],
   "source": [
    "# Visualization\n",
    "\n",
    "import torch\n",
    "from PIL import Image, ImageDraw, ImageFont\n",
    "from IPython.display import display  # optional, only for notebook\n",
    "\n",
    "\n",
    "# -------------------------\n",
    "# 1) PyTorch KMeans\n",
    "# -------------------------\n",
    "def kmeans_torch(X, n_clusters=4, n_iters=200, tol=1e-4, verbose=False, device=\"cpu\"):\n",
    "    X = X.to(device)\n",
    "    n_samples, n_features = X.shape\n",
    "    rand_idx = torch.randperm(n_samples, device=device)[:n_clusters]\n",
    "    centroids = X[rand_idx].clone()\n",
    "\n",
    "    for it in range(n_iters):\n",
    "        dists = torch.cdist(X, centroids, p=2)\n",
    "        labels = torch.argmin(dists, dim=1)\n",
    "\n",
    "        new_centroids = torch.zeros_like(centroids)\n",
    "        converged = True\n",
    "        for k in range(n_clusters):\n",
    "            mask = labels == k\n",
    "            if mask.sum() == 0:\n",
    "                new_centroids[k] = centroids[k]\n",
    "            else:\n",
    "                new_centroids[k] = X[mask].mean(dim=0)\n",
    "            if not torch.allclose(new_centroids[k], centroids[k], atol=tol):\n",
    "                converged = False\n",
    "        centroids = new_centroids\n",
    "        if verbose and (it % 20 == 0 or converged):\n",
    "            print(f\"KMeans iter {it}, converged={converged}\")\n",
    "        if converged:\n",
    "            break\n",
    "    return labels.cpu(), centroids.cpu()\n",
    "\n",
    "\n",
    "# -------------------------\n",
    "# 2) Pillow visualization\n",
    "# -------------------------\n",
    "DEFAULT_COLORS = [\n",
    "    (31, 119, 180),\n",
    "    (255, 127, 14),\n",
    "    (44, 160, 44),\n",
    "    (214, 39, 40),\n",
    "    (148, 103, 189),\n",
    "    (140, 86, 75),\n",
    "    (227, 119, 194),\n",
    "    (127, 127, 127),\n",
    "]\n",
    "\n",
    "\n",
    "def draw_pitch_zone_clusters(\n",
    "    zt, clusters_per_zone, out_path, figsize=(1000, 640), title=None\n",
    "):\n",
    "    W, H = figsize\n",
    "    im = Image.new(\"RGB\", (W, H), (26, 26, 26))\n",
    "    draw = ImageDraw.Draw(im)\n",
    "    margin = 30\n",
    "\n",
    "    def to_px(x, y):\n",
    "        px = margin + (x / 100.0) * (W - 2 * margin)\n",
    "        py = margin + ((100 - y) / 100.0) * (H - 2 * margin)\n",
    "        return px, py\n",
    "\n",
    "    # pitch border\n",
    "    draw.rectangle([to_px(0, 100), to_px(100, 0)], outline=(255, 255, 255), width=3)\n",
    "\n",
    "    for zid, cid in enumerate(clusters_per_zone):\n",
    "        x_min, x_max, y_min, y_max = zt.get_zone_bounds(zid)\n",
    "        tl = to_px(x_min, y_max)\n",
    "        br = to_px(x_max, y_min)\n",
    "        color = DEFAULT_COLORS[cid % len(DEFAULT_COLORS)]\n",
    "        draw.rectangle([tl, br], fill=color, outline=(255, 255, 255))\n",
    "        cx, cy = zt.get_zone_center(zid)\n",
    "        px, py = to_px(cx, cy)\n",
    "        try:\n",
    "            font = ImageFont.truetype(\"DejaVuSans-Bold.ttf\", size=18)\n",
    "        except:\n",
    "            font = ImageFont.load_default()\n",
    "        draw.text((px - 10, py - 8), str(zid), fill=(255, 255, 255), font=font)\n",
    "\n",
    "    if title:\n",
    "        try:\n",
    "            font = ImageFont.truetype(\"DejaVuSans-Bold.ttf\", size=22)\n",
    "        except:\n",
    "            font = ImageFont.load_default()\n",
    "        draw.text((W // 2 - 200, 10), title, fill=(255, 255, 255), font=font)\n",
    "\n",
    "    im.save(out_path)\n",
    "    return out_path\n",
    "\n",
    "\n",
    "# -------------------------\n",
    "# 3) Cluster + draw per team\n",
    "# -------------------------\n",
    "def cluster_and_draw_team(\n",
    "    embeddings, zt, team_name=\"Team\", n_clusters=4, verbose=False\n",
    "):\n",
    "    \"\"\"\n",
    "    embeddings: list-of-matches, each match = list (n_zones x feature_dim)\n",
    "    Produces: saved PNG per match and returns majority-vote cluster per zone\n",
    "    \"\"\"\n",
    "    n_matches = len(embeddings)\n",
    "    all_zone_labels_per_match = []\n",
    "\n",
    "    for i, match_emb in enumerate(embeddings):\n",
    "        X = torch.tensor(match_emb, dtype=torch.float32)\n",
    "        labels, _ = kmeans_torch(X, n_clusters=n_clusters, verbose=verbose)\n",
    "        zone_labels = labels.tolist()\n",
    "        all_zone_labels_per_match.append(zone_labels)\n",
    "\n",
    "        # draw per match\n",
    "        out_path = f\"{team_name}_match{i+1}_clusters.png\"\n",
    "        # draw_pitch_zone_clusters(zt, zone_labels, out_path, title=f\"{team_name} Match {i+1}\")\n",
    "        if verbose:\n",
    "            print(f\"Saved {out_path}\")\n",
    "\n",
    "    # -------------------------\n",
    "    # Compute per-zone majority vote across matches\n",
    "    # -------------------------\n",
    "    max_zones = max(len(m) for m in embeddings)\n",
    "    majority_zone_labels = []\n",
    "    for zid in range(max_zones):\n",
    "        votes = []\n",
    "        for match_labels in all_zone_labels_per_match:\n",
    "            if zid < len(match_labels):\n",
    "                votes.append(match_labels[zid])\n",
    "        if votes:\n",
    "            # majority vote\n",
    "            vals, counts = torch.unique(torch.tensor(votes), return_counts=True)\n",
    "            majority = vals[torch.argmax(counts)].item()\n",
    "        else:\n",
    "            majority = 0\n",
    "        majority_zone_labels.append(majority)\n",
    "\n",
    "    # draw team-level cluster\n",
    "    team_out_path = f\"images/{team_name}_team_clusters.png\"\n",
    "    draw_pitch_zone_clusters(\n",
    "        zt, majority_zone_labels, team_out_path, title=f\"{team_name} Majority Clusters\"\n",
    "    )\n",
    "    if verbose:\n",
    "        print(f\"Saved team-level clusters: {team_out_path}\")\n",
    "\n",
    "    return majority_zone_labels, all_zone_labels_per_match, team_out_path"
   ]
  },
  {
   "cell_type": "code",
   "execution_count": 121,
   "id": "35d7b8ea",
   "metadata": {},
   "outputs": [],
   "source": [
    "majority_arsenal, per_match_arsenal, path_arsenal = cluster_and_draw_team(\n",
    "    emb_arsenal, zt, team_name=\"Arsenal\", n_clusters=4\n",
    ")\n",
    "majority_liverpool, per_match_liverpool, path_liverpool = cluster_and_draw_team(\n",
    "    emb_liverpool, zt, team_name=\"Liverpool\", n_clusters=4\n",
    ")\n",
    "majority_C, per_match_C, path_C = cluster_and_draw_team(\n",
    "    emb_man_city, zt, team_name=\"Manchester City\", n_clusters=4\n",
    ")"
   ]
  },
  {
   "cell_type": "code",
   "execution_count": 122,
   "id": "efa8c5f3",
   "metadata": {},
   "outputs": [],
   "source": [
    "class EncoderWrapper(torch.nn.Module):\n",
    "    def __init__(self, encoder):\n",
    "        super().__init__()\n",
    "        self.encoder = encoder\n",
    "\n",
    "    def forward(self, x, edge_index, **kwargs):\n",
    "        # ignore extra args\n",
    "        return self.encoder(x, edge_index)"
   ]
  },
  {
   "cell_type": "code",
   "execution_count": null,
   "id": "54c13c69",
   "metadata": {},
   "outputs": [],
   "source": [
    "import torch\n",
    "from torch_geometric.explain import Explainer, GNNExplainer, ModelConfig\n",
    "from torch_geometric.utils import from_networkx\n",
    "\n",
    "\n",
    "def explain_team_autoencoder(\n",
    "    model, team_graph, zt=None, device=\"cpu\", node_id=None, epochs=200\n",
    "):\n",
    "    \"\"\"\n",
    "    Run GNNExplainer on a trained team-level GCN Autoencoder model.\n",
    "\n",
    "    Args:\n",
    "        model: trained GraphAutoencoder instance\n",
    "        team_graph: one NetworkX graph (team-match graph)\n",
    "        zt: ZoneTransformer (optional, adds spatial info)\n",
    "        device: 'cpu' or 'cuda'\n",
    "        node_id: int, zone ID to explain (default = most central zone)\n",
    "        epochs: number of explainer optimization steps\n",
    "    \"\"\"\n",
    "    data = from_networkx(team_graph)\n",
    "    data = prepare_pyg_data(team_graph, zt).to(device)\n",
    "\n",
    "    # pick a node to explain\n",
    "    if node_id is None:\n",
    "        node_id = max(\n",
    "            dict(team_graph.degree(weight=\"weight\")).items(), key=lambda x: x[1]\n",
    "        )[0]\n",
    "\n",
    "    model_config = ModelConfig(\n",
    "        mode=\"regression\",  # GAE reconstructs continuous adjacency strengths\n",
    "        task_level=\"node\",  # we explain node embeddings\n",
    "        return_type=\"raw\",  # GAE outputs continuous embeddings\n",
    "    )\n",
    "\n",
    "    explainer = Explainer(\n",
    "        model=EncoderWrapper(\n",
    "            model.encoder\n",
    "        ),  # only the encoder part produces embeddings\n",
    "        algorithm=GNNExplainer(epochs=epochs),\n",
    "        explanation_type=\"model\",  # we explain the model behavior, not a specific label\n",
    "        node_mask_type=\"attributes\",\n",
    "        edge_mask_type=\"object\",\n",
    "        model_config=model_config,\n",
    "    )\n",
    "\n",
    "    explanation = explainer(x=data.x, edge_index=data.edge_index, node_index=node_id)\n",
    "\n",
    "    # print(f\"Explained zone {node_id} ({zt.get_zone_name(node_id) if zt else node_id})\")\n",
    "    # print(f\"Available explanations: {explanation.available_explanations}\")\n",
    "\n",
    "    return explanation"
   ]
  },
  {
   "cell_type": "code",
   "execution_count": 142,
   "id": "40e7d05c",
   "metadata": {},
   "outputs": [],
   "source": [
    "feat_labels = [\n",
    "    \"x_center\",\n",
    "    \"y_center\",\n",
    "    \"in_deg\",\n",
    "    \"out_deg\",\n",
    "    \"event_count\",\n",
    "    \"unique_players\",\n",
    "    \"role_GK\",\n",
    "    \"role_DEF\",\n",
    "    \"role_MID\",\n",
    "    \"role_FWD\",\n",
    "    \"event_pass\",\n",
    "    \"event_shot\",\n",
    "    \"event_duel\",\n",
    "    \"event_goalkeeper\",\n",
    "]"
   ]
  },
  {
   "cell_type": "code",
   "execution_count": 143,
   "id": "f049e247",
   "metadata": {},
   "outputs": [],
   "source": [
    "G_example_arsenal = team_graphs_dict[\"Arsenal\"][0]\n",
    "G_example_liverpool = team_graphs_dict[\"Liverpool\"][0]\n",
    "G_example_man_city = team_graphs_dict[\"Manchester City\"][0]\n",
    "\n",
    "explanation_example_arsenal = explain_team_autoencoder(\n",
    "    model_arsenal, G_example_arsenal, zt, node_id=14\n",
    ")\n",
    "explanation_example_liverpool = explain_team_autoencoder(\n",
    "    model_liverpool, G_example_liverpool, zt, node_id=14\n",
    ")\n",
    "explanation_example_man_city = explain_team_autoencoder(\n",
    "    model_man_city, G_example_man_city, zt, node_id=14\n",
    ")"
   ]
  },
  {
   "cell_type": "code",
   "execution_count": 149,
   "id": "8d514b56",
   "metadata": {},
   "outputs": [
    {
     "name": "stdout",
     "output_type": "stream",
     "text": [
      "Feature importance:\n",
      "  Feature x_center: 0.283\n",
      "  Feature y_center: 0.400\n",
      "  Feature in_deg: 0.225\n",
      "  Feature out_deg: 0.254\n",
      "  Feature event_count: 0.355\n",
      "  Feature unique_players: 0.186\n",
      "  Feature role_GK: 0.024\n",
      "  Feature role_DEF: 0.127\n",
      "  Feature role_MID: 0.127\n",
      "  Feature role_FWD: 0.100\n",
      "  Feature event_pass: 0.149\n",
      "  Feature event_shot: 0.043\n",
      "  Feature event_duel: 0.000\n",
      "  Feature event_goalkeeper: 0.000\n"
     ]
    }
   ],
   "source": [
    "feat_importance_arsenal = (\n",
    "    explanation_example_arsenal.node_mask.detach().cpu().numpy().mean(axis=0)\n",
    ")\n",
    "print(\"Feature importance:\")\n",
    "for feat, val in zip(feat_labels, feat_importance_arsenal):\n",
    "    print(f\"  Feature {feat}: {val:.3f}\")"
   ]
  },
  {
   "cell_type": "code",
   "execution_count": null,
   "id": "59a63339",
   "metadata": {},
   "outputs": [
    {
     "data": {
      "image/png": "[encoded data removed]",
      "text/plain": [
       "<Figure size 1000x600 with 1 Axes>"
      ]
     },
     "metadata": {},
     "output_type": "display_data"
    }
   ],
   "source": [
    "plt.figure(figsize=(10, 6))\n",
    "plt.bar(range(len(feat_importance_arsenal)), feat_importance_arsenal)\n",
    "plt.xticks(range(len(feat_labels)), feat_labels, rotation=45, ha=\"right\")\n",
    "plt.title(\"Feature importance for Arsenal GCN Autoencoder\")\n",
    "plt.ylabel(\"Importance\")\n",
    "plt.xlabel(\"Feature\")\n",
    "plt.tight_layout()\n",
    "plt.show()"
   ]
  },
  {
   "cell_type": "code",
   "execution_count": null,
   "id": "10bfc9fb",
   "metadata": {},
   "outputs": [
    {
     "data": {
      "image/png": "[encoded data removed]",
      "text/plain": [
       "<Figure size 1000x700 with 1 Axes>"
      ]
     },
     "metadata": {},
     "output_type": "display_data"
    }
   ],
   "source": [
    "explanation_example_arsenal.visualize_feature_importance(feat_labels=feat_labels)"
   ]
  },
  {
   "cell_type": "code",
   "execution_count": 139,
   "id": "0fb57d72",
   "metadata": {},
   "outputs": [
    {
     "data": {
      "image/png": "[encoded data removed]",
      "text/plain": [
       "<Figure size 1000x700 with 1 Axes>"
      ]
     },
     "metadata": {},
     "output_type": "display_data"
    }
   ],
   "source": [
    "explanation_example_liverpool.visualize_feature_importance(feat_labels=feat_labels)"
   ]
  },
  {
   "cell_type": "code",
   "execution_count": 140,
   "id": "c3321e73",
   "metadata": {},
   "outputs": [
    {
     "data": {
      "image/png": "[encoded data removed]",
      "text/plain": [
       "<Figure size 1000x700 with 1 Axes>"
      ]
     },
     "metadata": {},
     "output_type": "display_data"
    }
   ],
   "source": [
    "explanation_example_man_city.visualize_feature_importance(feat_labels=feat_labels)"
   ]
  },
  {
   "cell_type": "code",
   "execution_count": 173,
   "id": "4d68a625",
   "metadata": {},
   "outputs": [],
   "source": [
    "def global_feature_importance(model, team, zt, device=\"cpu\", sample_zones=range(40)):\n",
    "    all_masks = []\n",
    "    for G in tqdm(\n",
    "        team_graphs_dict[team],\n",
    "        desc=f\"Computing global feature importance for {team}\",\n",
    "        position=tqdm._get_free_pos(),\n",
    "    ):\n",
    "        for node_id in tqdm(\n",
    "            sample_zones,\n",
    "            desc=\"Zones\",\n",
    "            position=tqdm._get_free_pos(),\n",
    "            leave=False,\n",
    "        ):\n",
    "            try:\n",
    "                exp = explain_team_autoencoder(\n",
    "                    model, G, zt, device=device, node_id=node_id, epochs=100\n",
    "                )\n",
    "                all_masks.append(exp.node_mask.detach().cpu().numpy().mean(axis=0))\n",
    "            except Exception:\n",
    "                continue\n",
    "\n",
    "    all_masks = np.array(all_masks)\n",
    "    return all_masks"
   ]
  },
  {
   "cell_type": "code",
   "execution_count": null,
   "id": "7cbfb5fe",
   "metadata": {},
   "outputs": [
    {
     "data": {
      "application/vnd.jupyter.widget-view+json": {
       "model_id": "60f74adaba0940ccb8cda47eaf1f35ed",
       "version_major": 2,
       "version_minor": 0
      },
      "text/plain": [
       "Computing global feature importance for Arsenal:   0%|          | 0/38 [00:00<?, ?it/s]"
      ]
     },
     "metadata": {},
     "output_type": "display_data"
    },
    {
     "data": {
      "application/vnd.jupyter.widget-view+json": {
       "model_id": "4721af4cb5344f4ea8510668e634d45b",
       "version_major": 2,
       "version_minor": 0
      },
      "text/plain": [
       "Zones:   0%|          | 0/40 [00:00<?, ?it/s]"
      ]
     },
     "metadata": {},
     "output_type": "display_data"
    },
    {
     "data": {
      "application/vnd.jupyter.widget-view+json": {
       "model_id": "451cbb5421ba46898927170189990c29",
       "version_major": 2,
       "version_minor": 0
      },
      "text/plain": [
       "Zones:   0%|          | 0/40 [00:00<?, ?it/s]"
      ]
     },
     "metadata": {},
     "output_type": "display_data"
    },
    {
     "data": {
      "application/vnd.jupyter.widget-view+json": {
       "model_id": "f6a498e735694ea6bd386931e2506b09",
       "version_major": 2,
       "version_minor": 0
      },
      "text/plain": [
       "Zones:   0%|          | 0/40 [00:00<?, ?it/s]"
      ]
     },
     "metadata": {},
     "output_type": "display_data"
    },
    {
     "data": {
      "application/vnd.jupyter.widget-view+json": {
       "model_id": "8f1717e9595e47dfbe5322bdaa22dd40",
       "version_major": 2,
       "version_minor": 0
      },
      "text/plain": [
       "Zones:   0%|          | 0/40 [00:00<?, ?it/s]"
      ]
     },
     "metadata": {},
     "output_type": "display_data"
    },
    {
     "data": {
      "application/vnd.jupyter.widget-view+json": {
       "model_id": "00073976112b40b8a4ebf3b4d628f080",
       "version_major": 2,
       "version_minor": 0
      },
      "text/plain": [
       "Zones:   0%|          | 0/40 [00:00<?, ?it/s]"
      ]
     },
     "metadata": {},
     "output_type": "display_data"
    },
    {
     "data": {
      "application/vnd.jupyter.widget-view+json": {
       "model_id": "d6464211764f43b091fb2d860583cbdf",
       "version_major": 2,
       "version_minor": 0
      },
      "text/plain": [
       "Zones:   0%|          | 0/40 [00:00<?, ?it/s]"
      ]
     },
     "metadata": {},
     "output_type": "display_data"
    },
    {
     "data": {
      "application/vnd.jupyter.widget-view+json": {
       "model_id": "9e9f2529fa054b8d94450aba7c797115",
       "version_major": 2,
       "version_minor": 0
      },
      "text/plain": [
       "Zones:   0%|          | 0/40 [00:00<?, ?it/s]"
      ]
     },
     "metadata": {},
     "output_type": "display_data"
    },
    {
     "data": {
      "application/vnd.jupyter.widget-view+json": {
       "model_id": "1e43bae6c0f74ab1ac9cd76af8e2adc6",
       "version_major": 2,
       "version_minor": 0
      },
      "text/plain": [
       "Zones:   0%|          | 0/40 [00:00<?, ?it/s]"
      ]
     },
     "metadata": {},
     "output_type": "display_data"
    },
    {
     "data": {
      "application/vnd.jupyter.widget-view+json": {
       "model_id": "ee01be55b9e04d03ad59713a50a892dc",
       "version_major": 2,
       "version_minor": 0
      },
      "text/plain": [
       "Zones:   0%|          | 0/40 [00:00<?, ?it/s]"
      ]
     },
     "metadata": {},
     "output_type": "display_data"
    },
    {
     "data": {
      "application/vnd.jupyter.widget-view+json": {
       "model_id": "6361ea5eebd34fe5bb5da74fa827d6f7",
       "version_major": 2,
       "version_minor": 0
      },
      "text/plain": [
       "Zones:   0%|          | 0/40 [00:00<?, ?it/s]"
      ]
     },
     "metadata": {},
     "output_type": "display_data"
    },
    {
     "data": {
      "application/vnd.jupyter.widget-view+json": {
       "model_id": "d62d6eab20bd4c8e90eed5a0e5f08b44",
       "version_major": 2,
       "version_minor": 0
      },
      "text/plain": [
       "Zones:   0%|          | 0/40 [00:00<?, ?it/s]"
      ]
     },
     "metadata": {},
     "output_type": "display_data"
    },
    {
     "data": {
      "application/vnd.jupyter.widget-view+json": {
       "model_id": "3c35b8ecff824dc4b088efcb874fcdad",
       "version_major": 2,
       "version_minor": 0
      },
      "text/plain": [
       "Zones:   0%|          | 0/40 [00:00<?, ?it/s]"
      ]
     },
     "metadata": {},
     "output_type": "display_data"
    },
    {
     "data": {
      "application/vnd.jupyter.widget-view+json": {
       "model_id": "171f6599cacb43a0ad589ad83c7539d7",
       "version_major": 2,
       "version_minor": 0
      },
      "text/plain": [
       "Zones:   0%|          | 0/40 [00:00<?, ?it/s]"
      ]
     },
     "metadata": {},
     "output_type": "display_data"
    },
    {
     "data": {
      "application/vnd.jupyter.widget-view+json": {
       "model_id": "5a041f52355f4c5291b8f6eee4288e25",
       "version_major": 2,
       "version_minor": 0
      },
      "text/plain": [
       "Zones:   0%|          | 0/40 [00:00<?, ?it/s]"
      ]
     },
     "metadata": {},
     "output_type": "display_data"
    },
    {
     "data": {
      "application/vnd.jupyter.widget-view+json": {
       "model_id": "5c6919c2175c44398c4f9aef0785677a",
       "version_major": 2,
       "version_minor": 0
      },
      "text/plain": [
       "Zones:   0%|          | 0/40 [00:00<?, ?it/s]"
      ]
     },
     "metadata": {},
     "output_type": "display_data"
    },
    {
     "data": {
      "application/vnd.jupyter.widget-view+json": {
       "model_id": "e45492aebe3d49438cba0b6ae2bbba7b",
       "version_major": 2,
       "version_minor": 0
      },
      "text/plain": [
       "Zones:   0%|          | 0/40 [00:00<?, ?it/s]"
      ]
     },
     "metadata": {},
     "output_type": "display_data"
    },
    {
     "data": {
      "application/vnd.jupyter.widget-view+json": {
       "model_id": "c3ab07560593404a9e7401ce717bd930",
       "version_major": 2,
       "version_minor": 0
      },
      "text/plain": [
       "Zones:   0%|          | 0/40 [00:00<?, ?it/s]"
      ]
     },
     "metadata": {},
     "output_type": "display_data"
    },
    {
     "data": {
      "application/vnd.jupyter.widget-view+json": {
       "model_id": "4802fe2e561d4267a3e8077ba49df1a9",
       "version_major": 2,
       "version_minor": 0
      },
      "text/plain": [
       "Zones:   0%|          | 0/40 [00:00<?, ?it/s]"
      ]
     },
     "metadata": {},
     "output_type": "display_data"
    },
    {
     "data": {
      "application/vnd.jupyter.widget-view+json": {
       "model_id": "374c0735208e46c2b3bf5e168355f36d",
       "version_major": 2,
       "version_minor": 0
      },
      "text/plain": [
       "Zones:   0%|          | 0/40 [00:00<?, ?it/s]"
      ]
     },
     "metadata": {},
     "output_type": "display_data"
    },
    {
     "data": {
      "application/vnd.jupyter.widget-view+json": {
       "model_id": "95e9d3b41af74594a08b9dae7394c489",
       "version_major": 2,
       "version_minor": 0
      },
      "text/plain": [
       "Zones:   0%|          | 0/40 [00:00<?, ?it/s]"
      ]
     },
     "metadata": {},
     "output_type": "display_data"
    },
    {
     "data": {
      "application/vnd.jupyter.widget-view+json": {
       "model_id": "e7f16dd889b04beeb5c9975d7d393a5e",
       "version_major": 2,
       "version_minor": 0
      },
      "text/plain": [
       "Zones:   0%|          | 0/40 [00:00<?, ?it/s]"
      ]
     },
     "metadata": {},
     "output_type": "display_data"
    },
    {
     "data": {
      "application/vnd.jupyter.widget-view+json": {
       "model_id": "e57dc930fda1487384df1dec54ec2db6",
       "version_major": 2,
       "version_minor": 0
      },
      "text/plain": [
       "Zones:   0%|          | 0/40 [00:00<?, ?it/s]"
      ]
     },
     "metadata": {},
     "output_type": "display_data"
    },
    {
     "data": {
      "application/vnd.jupyter.widget-view+json": {
       "model_id": "363a1a3101a147b689945d31d7d13466",
       "version_major": 2,
       "version_minor": 0
      },
      "text/plain": [
       "Zones:   0%|          | 0/40 [00:00<?, ?it/s]"
      ]
     },
     "metadata": {},
     "output_type": "display_data"
    },
    {
     "data": {
      "application/vnd.jupyter.widget-view+json": {
       "model_id": "b77e241f84844ab9a43acb516b10fc8c",
       "version_major": 2,
       "version_minor": 0
      },
      "text/plain": [
       "Zones:   0%|          | 0/40 [00:00<?, ?it/s]"
      ]
     },
     "metadata": {},
     "output_type": "display_data"
    },
    {
     "data": {
      "application/vnd.jupyter.widget-view+json": {
       "model_id": "8ae014672ee54e678d74b9c1579306be",
       "version_major": 2,
       "version_minor": 0
      },
      "text/plain": [
       "Zones:   0%|          | 0/40 [00:00<?, ?it/s]"
      ]
     },
     "metadata": {},
     "output_type": "display_data"
    },
    {
     "data": {
      "application/vnd.jupyter.widget-view+json": {
       "model_id": "83b3078212b447c9b1a19b2110ee8a20",
       "version_major": 2,
       "version_minor": 0
      },
      "text/plain": [
       "Zones:   0%|          | 0/40 [00:00<?, ?it/s]"
      ]
     },
     "metadata": {},
     "output_type": "display_data"
    },
    {
     "data": {
      "application/vnd.jupyter.widget-view+json": {
       "model_id": "55558fc5d3fc41de98b4f746e18fdc08",
       "version_major": 2,
       "version_minor": 0
      },
      "text/plain": [
       "Zones:   0%|          | 0/40 [00:00<?, ?it/s]"
      ]
     },
     "metadata": {},
     "output_type": "display_data"
    },
    {
     "data": {
      "application/vnd.jupyter.widget-view+json": {
       "model_id": "017cd4d64e7444b8b46db43b62f54110",
       "version_major": 2,
       "version_minor": 0
      },
      "text/plain": [
       "Zones:   0%|          | 0/40 [00:00<?, ?it/s]"
      ]
     },
     "metadata": {},
     "output_type": "display_data"
    },
    {
     "data": {
      "application/vnd.jupyter.widget-view+json": {
       "model_id": "058e889b27a54bc18b81f8dd8c765b75",
       "version_major": 2,
       "version_minor": 0
      },
      "text/plain": [
       "Zones:   0%|          | 0/40 [00:00<?, ?it/s]"
      ]
     },
     "metadata": {},
     "output_type": "display_data"
    },
    {
     "data": {
      "application/vnd.jupyter.widget-view+json": {
       "model_id": "06461098ecb54eae8cb0032b1985bf5d",
       "version_major": 2,
       "version_minor": 0
      },
      "text/plain": [
       "Zones:   0%|          | 0/40 [00:00<?, ?it/s]"
      ]
     },
     "metadata": {},
     "output_type": "display_data"
    },
    {
     "data": {
      "application/vnd.jupyter.widget-view+json": {
       "model_id": "bf5cb7f698584299be1d9e25e2ee569b",
       "version_major": 2,
       "version_minor": 0
      },
      "text/plain": [
       "Zones:   0%|          | 0/40 [00:00<?, ?it/s]"
      ]
     },
     "metadata": {},
     "output_type": "display_data"
    },
    {
     "data": {
      "application/vnd.jupyter.widget-view+json": {
       "model_id": "f1f2f168dc334775983a1f42ef9a7751",
       "version_major": 2,
       "version_minor": 0
      },
      "text/plain": [
       "Zones:   0%|          | 0/40 [00:00<?, ?it/s]"
      ]
     },
     "metadata": {},
     "output_type": "display_data"
    },
    {
     "data": {
      "application/vnd.jupyter.widget-view+json": {
       "model_id": "11f360e8c1c84bc6bfe16ffa73b437a6",
       "version_major": 2,
       "version_minor": 0
      },
      "text/plain": [
       "Zones:   0%|          | 0/40 [00:00<?, ?it/s]"
      ]
     },
     "metadata": {},
     "output_type": "display_data"
    },
    {
     "data": {
      "application/vnd.jupyter.widget-view+json": {
       "model_id": "f8b4f9882b214cebad5b84164bbea6fd",
       "version_major": 2,
       "version_minor": 0
      },
      "text/plain": [
       "Zones:   0%|          | 0/40 [00:00<?, ?it/s]"
      ]
     },
     "metadata": {},
     "output_type": "display_data"
    },
    {
     "data": {
      "application/vnd.jupyter.widget-view+json": {
       "model_id": "ada55a1c5d6b49ba81eec760420b276f",
       "version_major": 2,
       "version_minor": 0
      },
      "text/plain": [
       "Zones:   0%|          | 0/40 [00:00<?, ?it/s]"
      ]
     },
     "metadata": {},
     "output_type": "display_data"
    },
    {
     "data": {
      "application/vnd.jupyter.widget-view+json": {
       "model_id": "7a4e901f92614a5cb3236ad6aa9f6300",
       "version_major": 2,
       "version_minor": 0
      },
      "text/plain": [
       "Zones:   0%|          | 0/40 [00:00<?, ?it/s]"
      ]
     },
     "metadata": {},
     "output_type": "display_data"
    },
    {
     "data": {
      "application/vnd.jupyter.widget-view+json": {
       "model_id": "ad93c2c48f8c46a8b10cba662aa822ee",
       "version_major": 2,
       "version_minor": 0
      },
      "text/plain": [
       "Zones:   0%|          | 0/40 [00:00<?, ?it/s]"
      ]
     },
     "metadata": {},
     "output_type": "display_data"
    },
    {
     "data": {
      "application/vnd.jupyter.widget-view+json": {
       "model_id": "2a087395f6bb460ab3bbbc9e51508bc7",
       "version_major": 2,
       "version_minor": 0
      },
      "text/plain": [
       "Zones:   0%|          | 0/40 [00:00<?, ?it/s]"
      ]
     },
     "metadata": {},
     "output_type": "display_data"
    }
   ],
   "source": [
    "global_all_masks_arsenal = global_feature_importance(model_arsenal, \"Arsenal\", zt)"
   ]
  },
  {
   "cell_type": "code",
   "execution_count": 182,
   "id": "9df57852",
   "metadata": {},
   "outputs": [
    {
     "data": {
      "text/plain": [
       "(1520, 14)"
      ]
     },
     "execution_count": 182,
     "metadata": {},
     "output_type": "execute_result"
    }
   ],
   "source": [
    "global_all_masks_arsenal.shape"
   ]
  },
  {
   "cell_type": "code",
   "execution_count": 181,
   "id": "d2ffcdb1",
   "metadata": {},
   "outputs": [
    {
     "data": {
      "text/plain": [
       "(14,)"
      ]
     },
     "execution_count": 181,
     "metadata": {},
     "output_type": "execute_result"
    }
   ],
   "source": [
    "global_importance_arsenal = global_all_masks_arsenal.mean(axis=0)\n",
    "global_importance_arsenal.shape"
   ]
  },
  {
   "cell_type": "code",
   "execution_count": null,
   "id": "8905fc46",
   "metadata": {},
   "outputs": [],
   "source": []
  },
  {
   "cell_type": "code",
   "execution_count": 180,
   "id": "a28f318e",
   "metadata": {},
   "outputs": [
    {
     "data": {
      "image/png": "[encoded data removed]",
      "text/plain": [
       "<Figure size 1000x600 with 1 Axes>"
      ]
     },
     "metadata": {},
     "output_type": "display_data"
    }
   ],
   "source": [
    "plt.figure(figsize=(10, 6))\n",
    "plt.bar(range(len(global_importance_arsenal)), global_importance_arsenal)\n",
    "plt.xticks(range(len(feat_labels)), feat_labels, rotation=45, ha=\"right\")\n",
    "plt.title(\"Feature importance for Arsenal GCN Autoencoder\")\n",
    "plt.ylabel(\"Importance\")\n",
    "plt.xlabel(\"Feature\")\n",
    "plt.tight_layout()\n",
    "plt.show()"
   ]
  }
 ],
 "metadata": {
  "kernelspec": {
   "display_name": "Python 3",
   "language": "python",
   "name": "python3"
  },
  "language_info": {
   "codemirror_mode": {
    "name": "ipython",
    "version": 3
   },
   "file_extension": ".py",
   "mimetype": "text/x-python",
   "name": "python",
   "nbconvert_exporter": "python",
   "pygments_lexer": "ipython3",
   "version": "3.10.0"
  }
 },
 "nbformat": 4,
 "nbformat_minor": 5
}
