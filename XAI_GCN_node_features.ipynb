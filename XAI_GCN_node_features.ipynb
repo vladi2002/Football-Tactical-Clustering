{
 "cells": [
  {
   "cell_type": "markdown",
   "id": "8bb92f7b",
   "metadata": {},
   "source": [
    "# Imports"
   ]
  },
  {
   "cell_type": "code",
   "execution_count": 1,
   "id": "a341ffc4",
   "metadata": {},
   "outputs": [],
   "source": [
    "from typing import Optional, Tuple\n",
    "import torch\n",
    "import scipy.sparse as sp\n",
    "import numpy as np\n",
    "import networkx as nx\n",
    "import os, pickle\n",
    "import torch\n",
    "import torch.nn as nn\n",
    "import torch.nn.functional as F\n",
    "import numpy as np\n",
    "import scipy.sparse as sp\n",
    "import random\n",
    "from sklearn.cluster import KMeans\n",
    "from torch_geometric.utils import from_networkx\n",
    "from sklearn.metrics import silhouette_score\n",
    "import numpy as np\n",
    "from tqdm.notebook import tqdm\n",
    "import matplotlib.pyplot as plt\n",
    "from graph import ZoneTransformer\n",
    "from torch_geometric.explain import (\n",
    "    Explainer,\n",
    "    GNNExplainer,\n",
    "    ModelConfig,\n",
    "    CaptumExplainer,\n",
    "    DummyExplainer,\n",
    "    unfaithfulness,\n",
    "    fidelity,\n",
    ")\n",
    "import captum\n",
    "from cluster_visualization import visualize_clusters"
   ]
  },
  {
   "cell_type": "markdown",
   "id": "67b2aa66",
   "metadata": {},
   "source": [
    "# Feature Encoding"
   ]
  },
  {
   "cell_type": "code",
   "execution_count": 2,
   "id": "c622ab76",
   "metadata": {},
   "outputs": [],
   "source": [
    "def print_attrs(path):\n",
    "    with open(path, \"rb\") as f:\n",
    "        g = pickle.load(f)\n",
    "        for _, attrs in g.nodes(data=True):\n",
    "            print(attrs)\n",
    "            break"
   ]
  },
  {
   "cell_type": "code",
   "execution_count": 3,
   "id": "602d6a90",
   "metadata": {},
   "outputs": [
    {
     "name": "stdout",
     "output_type": "stream",
     "text": [
      "{'zone_name': 'LEFT_WING_DEF_BOX', 'x_center': 3.0, 'y_center': 90.5, 'in_deg': 0, 'out_deg': 0, 'event_distribution': [0, 0, 0, 0], 'unique_players': 0, 'event_count': 0, 'most_common_event': None, 'role_distribution': [0, 0, 0, 0]}\n"
     ]
    }
   ],
   "source": [
    "print_attrs(\"graphs/graph_match2499719_team1609.pkl\")"
   ]
  },
  {
   "cell_type": "code",
   "execution_count": 88,
   "id": "e6725cc4",
   "metadata": {},
   "outputs": [
    {
     "name": "stdout",
     "output_type": "stream",
     "text": [
      "Events:  ['DUEL', 'GOALKEEPER', 'PASS', 'SHOT']\n",
      "Zones:  ['CENTER_ATT_PENALTY', 'CENTER_ATT_THIRD', 'CENTER_DEF_BOX', 'CENTER_DEF_PENALTY', 'CENTER_DEF_THIRD', 'CENTER_DEF_THIRD_DEEP', 'CENTER_MID_THIRD_ATT', 'CENTER_MID_THIRD_DEF', 'LEFT_HALF_ATT_PENALTY', 'LEFT_HALF_ATT_THIRD', 'LEFT_HALF_DEF_BOX', 'LEFT_HALF_DEF_PENALTY', 'LEFT_HALF_DEF_THIRD', 'LEFT_HALF_DEF_THIRD_DEEP', 'LEFT_HALF_MID_THIRD_ATT', 'LEFT_HALF_MID_THIRD_DEF', 'LEFT_WING_ATT_PENALTY', 'LEFT_WING_ATT_THIRD', 'LEFT_WING_DEF_BOX', 'LEFT_WING_DEF_PENALTY', 'LEFT_WING_DEF_THIRD', 'LEFT_WING_DEF_THIRD_DEEP', 'LEFT_WING_MID_THIRD_ATT', 'LEFT_WING_MID_THIRD_DEF', 'OUTSIDE', 'RIGHT_HALF_ATT_PENALTY', 'RIGHT_HALF_ATT_THIRD', 'RIGHT_HALF_DEF_BOX', 'RIGHT_HALF_DEF_PENALTY', 'RIGHT_HALF_DEF_THIRD', 'RIGHT_HALF_DEF_THIRD_DEEP', 'RIGHT_HALF_MID_THIRD_ATT', 'RIGHT_HALF_MID_THIRD_DEF', 'RIGHT_WING_ATT_PENALTY', 'RIGHT_WING_ATT_THIRD', 'RIGHT_WING_DEF_BOX', 'RIGHT_WING_DEF_PENALTY', 'RIGHT_WING_DEF_THIRD', 'RIGHT_WING_DEF_THIRD_DEEP', 'RIGHT_WING_MID_THIRD_ATT', 'RIGHT_WING_MID_THIRD_DEF']\n"
     ]
    }
   ],
   "source": [
    "def build_vocab(source):\n",
    "    event_vocab, zone_vocab = set(), set()\n",
    "    if isinstance(source, str):\n",
    "        file_paths = [os.path.join(source, f) for f in os.listdir(source)\n",
    "                      if os.path.isfile(os.path.join(source, f))]\n",
    "    else:\n",
    "        file_paths = list(source)\n",
    "\n",
    "    for p in file_paths:\n",
    "        with open(p, \"rb\") as f:\n",
    "            g = pickle.load(f)\n",
    "        for _, attrs in g.nodes(data=True):\n",
    "            ev = attrs.get(\"most_common_event\")\n",
    "            zn = attrs.get(\"zone_name\")\n",
    "            if ev is not None: event_vocab.add(str(ev))\n",
    "            if zn is not None: zone_vocab.add(str(zn))\n",
    "\n",
    "    return sorted(event_vocab), sorted(zone_vocab)\n",
    "\n",
    "event_vocab, zone_vocab = build_vocab('graphs')\n",
    "print(\"Events: \", event_vocab)\n",
    "print(\"Zones: \", zone_vocab)"
   ]
  },
  {
   "cell_type": "code",
   "execution_count": 89,
   "id": "34db6ddf",
   "metadata": {},
   "outputs": [],
   "source": [
    "def encode_node_attributes(attrs, event_vocab, zone_vocab):\n",
    "    event_onehot = np.zeros(len(event_vocab), dtype=np.float32)\n",
    "    if attrs[\"most_common_event\"] in event_vocab:\n",
    "        event_onehot[event_vocab.index(attrs[\"most_common_event\"])] = 1.0\n",
    "\n",
    "    numeric = np.array(\n",
    "        [attrs[\"event_count\"], attrs[\"unique_players\"]], dtype=np.float32\n",
    "    )\n",
    "    role = np.array(attrs[\"role_distribution\"], dtype=np.float32)\n",
    "\n",
    "    return np.concatenate([numeric, role, event_onehot])"
   ]
  },
  {
   "cell_type": "markdown",
   "id": "20d575b4",
   "metadata": {},
   "source": [
    "# Helpers"
   ]
  },
  {
   "cell_type": "code",
   "execution_count": 90,
   "id": "0a5978b2",
   "metadata": {},
   "outputs": [],
   "source": [
    "def normalize_adj(adj):\n",
    "    adj = adj + sp.eye(adj.shape[0])\n",
    "    rowsum = np.array(adj.sum(1)).flatten()\n",
    "    d_inv_sqrt = np.power(rowsum, -0.5, where=rowsum > 0)\n",
    "    D_inv_sqrt = sp.diags(d_inv_sqrt)\n",
    "    return D_inv_sqrt @ adj @ D_inv_sqrt\n",
    "\n",
    "\n",
    "def scipy_to_torch_sparse(mat):\n",
    "    mat = mat.tocoo()\n",
    "    indices = np.vstack((mat.row, mat.col))\n",
    "    values = mat.data.astype(np.float32)\n",
    "    edge_index = torch.tensor(indices, dtype=torch.long)\n",
    "    edge_weight = torch.tensor(values, dtype=torch.float32)\n",
    "    return edge_index, edge_weight"
   ]
  },
  {
   "cell_type": "code",
   "execution_count": 91,
   "id": "01248242",
   "metadata": {},
   "outputs": [],
   "source": [
    "def get_graph_embedding(path, encoder, event_vocab, zone_vocab, device=\"cpu\"):\n",
    "    A_norm, A_dense, X = load_graph(path, event_vocab, zone_vocab)\n",
    "\n",
    "    with open(path, \"rb\") as file:\n",
    "        G = pickle.load(file)\n",
    "    node_order = list(G.nodes)\n",
    "\n",
    "    # Use dense normalized adjacency directly\n",
    "    A_hat = torch.tensor(A_dense, dtype=torch.float32).to(device)\n",
    "    x = torch.tensor(X, dtype=torch.float32).to(device)\n",
    "\n",
    "    encoder.eval()\n",
    "    with torch.no_grad():\n",
    "        Z = encoder(x, A_hat, training=False).cpu().numpy()\n",
    "\n",
    "    return Z, node_order, G"
   ]
  },
  {
   "cell_type": "code",
   "execution_count": 92,
   "id": "0d945470",
   "metadata": {},
   "outputs": [],
   "source": [
    "def cluster_graph_embedding(Z: np.ndarray, n_clusters: Optional[int] = None, random_state: int = 42):\n",
    "    \"\"\"Cluster a single graph's embeddings Z and return labels (len = n_nodes).\n",
    "    If n_clusters is None, we use a simple heuristic based on graph size.\n",
    "    \"\"\"\n",
    "    n = Z.shape[0]\n",
    "    if n_clusters is None:\n",
    "        k = max(2, min(12, int(np.ceil(np.sqrt(max(n, 1))/1.5))))\n",
    "    else:\n",
    "        k = int(n_clusters)\n",
    "    km = KMeans(n_clusters=k, n_init=10, random_state=random_state)\n",
    "    clusters = km.fit_predict(Z)\n",
    "    return clusters\n"
   ]
  },
  {
   "cell_type": "code",
   "execution_count": 93,
   "id": "6bef87cd",
   "metadata": {},
   "outputs": [],
   "source": [
    "def visualize_clusters_on_graph(\n",
    "    G: nx.Graph,\n",
    "    labels: np.ndarray,\n",
    "    layout: str = \"spring\",\n",
    "    title: Optional[str] = None,\n",
    "    node_size: int = 140,\n",
    "):\n",
    "    nodes = list(G.nodes())\n",
    "    if len(labels) != len(nodes):\n",
    "        raise ValueError(\"labels length must equal number of nodes in G\")\n",
    "\n",
    "    if layout == \"kamada\":\n",
    "        pos = nx.kamada_kawai_layout(G)\n",
    "    elif layout == \"embedding\":\n",
    "        raise ValueError(\n",
    "            \"Use 'embedding' layout via visualize_with_embedding(...) below.\"\n",
    "        )\n",
    "    else:\n",
    "        pos = nx.spring_layout(G, seed=42)\n",
    "\n",
    "    n_clusters = int(labels.max()) + 1 if len(labels) else 1\n",
    "    cmap = plt.get_cmap(\"tab20\" if n_clusters > 10 else \"tab10\", max(n_clusters, 1))\n",
    "    colors = [cmap(int(c)) for c in labels]\n",
    "\n",
    "    plt.figure(figsize=(8, 6))\n",
    "    nx.draw_networkx_edges(G, pos, alpha=0.25, width=0.8)\n",
    "    nx.draw_networkx_nodes(\n",
    "        G, pos, node_color=colors, node_size=node_size, edgecolors=\"k\", linewidths=0.3\n",
    "    )\n",
    "\n",
    "    # Optional: small zone labels if present\n",
    "    zone_labels = {}\n",
    "    for n in nodes:\n",
    "        zname = G.nodes[n].get(\"zone_name\")\n",
    "        if isinstance(zname, str) and zname:\n",
    "            zone_labels[n] = zname\n",
    "    if zone_labels:\n",
    "        nx.draw_networkx_labels(G, pos, labels=zone_labels, font_size=7)\n",
    "\n",
    "    if title:\n",
    "        plt.title(title)\n",
    "    plt.axis(\"off\")\n",
    "    plt.show()"
   ]
  },
  {
   "cell_type": "markdown",
   "id": "1ff1bc69",
   "metadata": {},
   "source": [
    "# Data Loading"
   ]
  },
  {
   "cell_type": "code",
   "execution_count": 94,
   "id": "f892dc9e",
   "metadata": {},
   "outputs": [],
   "source": [
    "def load_data(directory, event_vocab, zone_vocab):\n",
    "    file_name = os.listdir(directory)[0]\n",
    "    with open(os.path.join(directory, file_name), 'rb') as f:\n",
    "        graph_data = pickle.load(f)\n",
    "    adj = nx.adjacency_matrix(graph_data)\n",
    "    features = [encode_node_attributes(attrs, event_vocab, zone_vocab)\n",
    "                for _, attrs in graph_data.nodes(data=True)]\n",
    "    X = np.vstack(features)\n",
    "\n",
    "    return adj, X"
   ]
  },
  {
   "cell_type": "code",
   "execution_count": 95,
   "id": "ddfa4e37",
   "metadata": {},
   "outputs": [],
   "source": [
    "def list_graph_paths(directory):\n",
    "    paths = [os.path.join(directory, f) for f in os.listdir(directory)\n",
    "             if os.path.isfile(os.path.join(directory, f))]\n",
    "    paths.sort()\n",
    "    return paths"
   ]
  },
  {
   "cell_type": "code",
   "execution_count": 96,
   "id": "e9e880ae",
   "metadata": {},
   "outputs": [],
   "source": [
    "def load_graph(path, event_vocab, zone_vocab):\n",
    "    with open(path, \"rb\") as f:\n",
    "        graph = pickle.load(f)\n",
    "    A = nx.adjacency_matrix(graph)\n",
    "    X = np.stack(\n",
    "        [\n",
    "            encode_node_attributes(attrs, event_vocab, zone_vocab)\n",
    "            for _, attrs in graph.nodes(data=True)\n",
    "        ]\n",
    "    ).astype(np.float32)\n",
    "\n",
    "    A_norm = normalize_adj(A)\n",
    "    A_tf = scipy_to_torch_sparse(A_norm)\n",
    "    A_dense = np.asarray(A_norm.todense(), dtype=np.float32)\n",
    "\n",
    "    return A_tf, A_dense, X"
   ]
  },
  {
   "cell_type": "markdown",
   "id": "109e2c6c",
   "metadata": {},
   "source": [
    "# Model"
   ]
  },
  {
   "cell_type": "code",
   "execution_count": 99,
   "id": "16721d10",
   "metadata": {},
   "outputs": [],
   "source": [
    "class GCN(nn.Module):\n",
    "    def __init__(\n",
    "        self,\n",
    "        in_features: int,\n",
    "        out_features: int,\n",
    "        activation: str = \"relu\",\n",
    "        dropout: float = 0.0,\n",
    "        use_bias: bool = True,\n",
    "        name: str = None,\n",
    "    ):\n",
    "        super().__init__()\n",
    "        self.in_features = in_features\n",
    "        self.out_features = out_features\n",
    "        self.use_bias = use_bias\n",
    "        self.dropout = nn.Dropout(dropout) if dropout and dropout > 0.0 else None\n",
    "\n",
    "        self.weight = nn.Parameter(torch.empty(in_features, out_features))\n",
    "        if use_bias:\n",
    "            self.bias = nn.Parameter(torch.zeros(out_features))\n",
    "        else:\n",
    "            self.register_parameter(\"bias\", None)\n",
    "\n",
    "        self.reset_parameters()\n",
    "        self.activation = getattr(F, activation) if activation else None\n",
    "\n",
    "    def reset_parameters(self):\n",
    "        nn.init.xavier_uniform_(self.weight)\n",
    "\n",
    "    def forward(self, x: torch.Tensor, A_hat: torch.Tensor, training: bool = False):\n",
    "        if self.dropout is not None and training:\n",
    "            x = self.dropout(x)\n",
    "\n",
    "        support = torch.matmul(x, self.weight)\n",
    "        Z = torch.matmul(\n",
    "            A_hat, support\n",
    "        )  # A_hat should be dense; if sparse, use torch.sparse.mm\n",
    "        if self.bias is not None:\n",
    "            Z = Z + self.bias\n",
    "\n",
    "        if self.activation is not None:\n",
    "            Z = self.activation(Z)\n",
    "        return Z"
   ]
  },
  {
   "cell_type": "code",
   "execution_count": 100,
   "id": "09dd2ff3",
   "metadata": {},
   "outputs": [],
   "source": [
    "class GAEEncoder(torch.nn.Module):\n",
    "    def __init__(\n",
    "        self, input_dim: int, hidden_dim: int, latent_dim: int, dropout: float = 0.0\n",
    "    ):\n",
    "        super().__init__()\n",
    "        self.gcn_hidden = GCN(\n",
    "            in_features=input_dim,\n",
    "            out_features=hidden_dim,\n",
    "            activation=\"relu\",\n",
    "            dropout=dropout,\n",
    "        )\n",
    "        self.gcn_mu = GCN(\n",
    "            in_features=hidden_dim,\n",
    "            out_features=latent_dim,\n",
    "            activation=None,\n",
    "            dropout=dropout,\n",
    "        )\n",
    "\n",
    "    def forward(self, X: torch.Tensor, A_hat: torch.Tensor, training: bool = False):\n",
    "        H = self.gcn_hidden(X, A_hat, training=training)\n",
    "        Z = self.gcn_mu(H, A_hat, training=training)\n",
    "        return Z"
   ]
  },
  {
   "cell_type": "code",
   "execution_count": 101,
   "id": "3cb7a3ff",
   "metadata": {},
   "outputs": [],
   "source": [
    "class GAEFeatureDecoder(nn.Module):\n",
    "    def __init__(\n",
    "        self,\n",
    "        in_dim: int,\n",
    "        out_units: int,\n",
    "        hidden_units: int = 64,\n",
    "        activation: str = \"relu\",\n",
    "    ):\n",
    "        super().__init__()\n",
    "        self.fc1 = nn.Linear(in_dim, hidden_units)\n",
    "        self.fc2 = nn.Linear(hidden_units, out_units)\n",
    "        self.activation = getattr(F, activation) if activation else None\n",
    "\n",
    "    def forward(self, Z: torch.Tensor, training: bool = False):\n",
    "        h = self.fc1(Z)\n",
    "        if self.activation:\n",
    "            h = self.activation(h)\n",
    "        X_hat = self.fc2(h)\n",
    "        return X_hat"
   ]
  },
  {
   "cell_type": "markdown",
   "id": "1f7efdb4",
   "metadata": {},
   "source": [
    "# Training"
   ]
  },
  {
   "cell_type": "code",
   "execution_count": 102,
   "id": "1948040c",
   "metadata": {},
   "outputs": [],
   "source": [
    "sample_path = list_graph_paths(\"graphs\")[0]\n",
    "_, _, X_sample = load_graph(sample_path, event_vocab, zone_vocab)\n",
    "input_dim = X_sample.shape[1]\n",
    "feature_dim = int(X_sample.shape[1])\n",
    "latent_dim = 8\n",
    "encoder = GAEEncoder(\n",
    "    input_dim=input_dim, hidden_dim=32, latent_dim=latent_dim, dropout=0.1\n",
    ")\n",
    "decoder = GAEFeatureDecoder(in_dim=latent_dim, out_units=feature_dim, hidden_units=64)"
   ]
  },
  {
   "cell_type": "code",
   "execution_count": 103,
   "id": "556727ca",
   "metadata": {},
   "outputs": [],
   "source": [
    "optimizer = torch.optim.Adam(\n",
    "    list(encoder.parameters()) + list(decoder.parameters()), lr=1e-3\n",
    ")\n",
    "mse = nn.MSELoss()"
   ]
  },
  {
   "cell_type": "code",
   "execution_count": 104,
   "id": "43535098",
   "metadata": {},
   "outputs": [],
   "source": [
    "def train_step(X, A_hat, encoder, decoder, optimizer, mse):\n",
    "    encoder.train()\n",
    "    decoder.train()\n",
    "\n",
    "    optimizer.zero_grad()\n",
    "\n",
    "    # Forward pass\n",
    "    Z = encoder(X, A_hat, training=True)\n",
    "    X_hat = decoder(Z, training=True)\n",
    "\n",
    "    # Optional safety check (usually unnecessary if decoder is defined properly)\n",
    "    if X_hat.shape[-1] != X.shape[-1]:\n",
    "        decoder.fc2 = torch.nn.Linear(X_hat.shape[-1], X.shape[-1])\n",
    "        X_hat = decoder(Z, training=True)\n",
    "\n",
    "    # Compute loss\n",
    "    loss = mse(X_hat, X)\n",
    "\n",
    "    # Backpropagation\n",
    "    loss.backward()\n",
    "    optimizer.step()\n",
    "\n",
    "    return loss.item()"
   ]
  },
  {
   "cell_type": "code",
   "execution_count": 34,
   "id": "e669b992",
   "metadata": {},
   "outputs": [
    {
     "name": "stdout",
     "output_type": "stream",
     "text": [
      "Train graphs: 89, Test graphs: 23\n"
     ]
    }
   ],
   "source": [
    "all_paths = list_graph_paths(\"graphs\")\n",
    "random.Random(42).shuffle(all_paths)\n",
    "cut = int(0.8 * len(all_paths))\n",
    "train_paths, test_paths = all_paths[:cut], all_paths[cut:]\n",
    "print(f\"Train graphs: {len(train_paths)}, Test graphs: {len(test_paths)}\")"
   ]
  },
  {
   "cell_type": "code",
   "execution_count": 105,
   "id": "f6fb06e4",
   "metadata": {},
   "outputs": [
    {
     "data": {
      "application/vnd.jupyter.widget-view+json": {
       "model_id": "3e98eed7ae944bbca40a8eca429b82d1",
       "version_major": 2,
       "version_minor": 0
      },
      "text/plain": [
       "Training epochs:   0%|          | 0/200 [00:00<?, ?it/s]"
      ]
     },
     "metadata": {},
     "output_type": "display_data"
    }
   ],
   "source": [
    "num_epochs = 200\n",
    "\n",
    "for epoch in tqdm(range(1, num_epochs + 1), desc=\"Training epochs\"):\n",
    "    train_losses = []\n",
    "\n",
    "    for path in train_paths:\n",
    "        A_norm, A_dense, X_np = load_graph(path, event_vocab, zone_vocab)\n",
    "\n",
    "        # Convert to torch tensors\n",
    "        X = torch.tensor(X_np, dtype=torch.float32)\n",
    "        A_hat = torch.tensor(A_dense, dtype=torch.float32)\n",
    "\n",
    "        loss = train_step(X, A_hat, encoder, decoder, optimizer, mse)\n",
    "        train_losses.append(loss)\n",
    "\n",
    "    # if epoch % 5 == 0 or epoch == num_epochs:\n",
    "    #     mean_loss = np.mean(train_losses)\n",
    "    #     print(f\"Epoch {epoch}, Train Loss: {mean_loss:.4f}\")"
   ]
  },
  {
   "cell_type": "code",
   "execution_count": 246,
   "id": "a7b0bf3a",
   "metadata": {},
   "outputs": [],
   "source": [
    "@torch.no_grad()\n",
    "def embedding_fidelity(\n",
    "    encoder, A_hat, x, explanation, node_id=0, topk=0.2, mode=\"mask_active\"\n",
    "):\n",
    "    \"\"\"\n",
    "    Embedding fidelity for dense GAE models with sparse one-hot inputs.\n",
    "\n",
    "    Measures how much the node embedding changes when important features are masked or perturbed.\n",
    "\n",
    "    Args:\n",
    "        encoder: trained GAEEncoder (dense adjacency model)\n",
    "        A_hat: normalized adjacency matrix (torch.Tensor)\n",
    "        x: node feature matrix (torch.Tensor)\n",
    "        explanation: explanation object from GNNExplainer or Integrated Gradients\n",
    "        node_id: node index to explain\n",
    "        topk: fraction (0-1) of most important features to mask\n",
    "        mode: \"mask_active\" (default) or \"perturb\" — how to modify important features\n",
    "    \"\"\"\n",
    "    encoder.eval()\n",
    "    x = x.clone().detach().to(\"cpu\")\n",
    "    A_hat = A_hat.to(\"cpu\")\n",
    "\n",
    "    # Original embedding\n",
    "    z_orig = encoder(x, A_hat, training=False)\n",
    "\n",
    "    # Get node-level importance\n",
    "    importance = explanation.node_mask\n",
    "    if importance.dim() > 1:\n",
    "        importance = importance[node_id]\n",
    "\n",
    "    importance = importance.to(\"cpu\")\n",
    "    importance = torch.abs(importance)\n",
    "\n",
    "    # Only consider features that are nonzero for this node\n",
    "    active_idx = (x[node_id] != 0).nonzero(as_tuple=True)[0]\n",
    "    if len(active_idx) == 0:\n",
    "        return float(\"nan\")  # no active features to mask\n",
    "\n",
    "    # Restrict importance to active features\n",
    "    imp_active = importance[active_idx]\n",
    "    k = max(1, int(len(imp_active) * topk))\n",
    "    top_idx_rel = torch.topk(imp_active, k).indices\n",
    "    top_idx = active_idx[top_idx_rel]\n",
    "\n",
    "    # Mask or perturb those active features\n",
    "    x_masked = x.clone()\n",
    "    if mode == \"mask_active\":\n",
    "        x_masked[node_id, top_idx] = 0.0\n",
    "    elif mode == \"perturb\":\n",
    "        noise = torch.randn_like(x_masked[node_id, top_idx]) * 0.1\n",
    "        x_masked[node_id, top_idx] += noise\n",
    "\n",
    "    # New embedding\n",
    "    z_masked = encoder(x_masked, A_hat, training=False)\n",
    "\n",
    "    # Cosine similarity (clamped for numerical safety)\n",
    "    sim = torch.cosine_similarity(\n",
    "        z_orig[node_id].unsqueeze(0),\n",
    "        z_masked[node_id].unsqueeze(0),\n",
    "    ).clamp(-1.0, 1.0)\n",
    "\n",
    "    return sim.item()"
   ]
  },
  {
   "cell_type": "code",
   "execution_count": 188,
   "id": "69023fa7",
   "metadata": {},
   "outputs": [],
   "source": [
    "def embedding_fidelity_old(encoder, decoder, X, A_hat, device=\"cpu\"):\n",
    "    from sklearn.metrics import mean_squared_error\n",
    "    from scipy.stats import spearmanr\n",
    "    \"\"\"\n",
    "    Compute embedding fidelity metrics for a trained Graph Autoencoder.\n",
    "\n",
    "    Measures:\n",
    "      1. Reconstruction fidelity (MSE between X and X_hat)\n",
    "      2. Structural fidelity (Spearman correlation between adjacency similarity\n",
    "         and embedding similarity)\n",
    "    \"\"\"\n",
    "    encoder.eval()\n",
    "    decoder.eval()\n",
    "    if not isinstance(X, torch.Tensor):\n",
    "        X = torch.tensor(X, dtype=torch.float32)\n",
    "\n",
    "    if not isinstance(A_hat, torch.Tensor):\n",
    "        A_hat = torch.tensor(A_hat, dtype=torch.float32)\n",
    "\n",
    "    with torch.no_grad():\n",
    "        Z = encoder(X, A_hat, training=False)\n",
    "        X_hat = decoder(Z, training=False)\n",
    "\n",
    "    recon_mse = mean_squared_error(X.cpu().numpy(), X_hat.cpu().numpy())\n",
    "\n",
    "    A_np = A_hat.cpu().numpy()\n",
    "    # cosine similarity of embeddings\n",
    "    Z_np = Z.cpu().numpy()\n",
    "    Z_norm = Z_np / np.linalg.norm(Z_np, axis=1, keepdims=True)\n",
    "    sim_emb = Z_norm @ Z_norm.T\n",
    "    # flatten both matrices\n",
    "    A_flat = A_np.flatten()\n",
    "    sim_flat = sim_emb.flatten()\n",
    "    # Spearman correlation between adjacency and embedding similarity\n",
    "    corr, _ = spearmanr(A_flat, sim_flat)\n",
    "\n",
    "    return {\"reconstruction_mse\": recon_mse, \"structural_fidelity\": corr}"
   ]
  },
  {
   "cell_type": "code",
   "execution_count": 180,
   "id": "1e2b1229",
   "metadata": {},
   "outputs": [],
   "source": [
    "def mask_entropy(mask: np.ndarray, eps: float = 1e-12):\n",
    "    mask = np.clip(mask, eps, 1.0)\n",
    "    if mask.ndim == 1:\n",
    "        entropy = -np.sum(mask * np.log(mask))\n",
    "    else:\n",
    "        entropy = -np.sum(mask * np.log(mask), axis=1)\n",
    "    return entropy"
   ]
  },
  {
   "cell_type": "code",
   "execution_count": 108,
   "id": "0f2c8c2d",
   "metadata": {},
   "outputs": [],
   "source": [
    "def softmax_entropy(mask: np.ndarray, eps: float = 1e-12):\n",
    "    exp_mask = np.exp(mask - np.max(mask, axis=-1, keepdims=True))\n",
    "    softmax_mask = exp_mask / (np.sum(exp_mask, axis=-1, keepdims=True) + eps)\n",
    "\n",
    "    return mask_entropy(softmax_mask, eps)"
   ]
  },
  {
   "cell_type": "code",
   "execution_count": 189,
   "id": "55e575bd",
   "metadata": {},
   "outputs": [],
   "source": [
    "class EncoderWrapper(torch.nn.Module):\n",
    "    def __init__(self, encoder):\n",
    "        super().__init__()\n",
    "        self.encoder = encoder\n",
    "\n",
    "    def forward(self, x, edge_index, *args, **kwargs):\n",
    "        # ignore extra args\n",
    "        return self.encoder(x, edge_index)"
   ]
  },
  {
   "cell_type": "code",
   "execution_count": 229,
   "id": "d842ed5e",
   "metadata": {},
   "outputs": [],
   "source": [
    "class DenseEncoderWrapper(torch.nn.Module):\n",
    "    \"\"\"Wraps a dense GAE encoder for compatibility with PyG's Explainer.\"\"\"\n",
    "\n",
    "    def __init__(self, encoder, A_hat):\n",
    "        super().__init__()\n",
    "        self.encoder = encoder\n",
    "        self.A_hat = A_hat\n",
    "\n",
    "    def forward(self, x, edge_index=None, **kwargs):\n",
    "        # accepts arbitrary kwargs (e.g., node_index, target)\n",
    "        return self.encoder(x, self.A_hat, training=False)"
   ]
  },
  {
   "cell_type": "code",
   "execution_count": 212,
   "id": "f628bbb5",
   "metadata": {},
   "outputs": [],
   "source": [
    "def gnn_explainer(\n",
    "    encoder, path, event_vocab, zone_vocab, device=\"cpu\", node_id=0, epochs=50\n",
    "):\n",
    "    \"\"\"\n",
    "    Run GNNExplainer on dense GAEEncoder model.\n",
    "\n",
    "    Args:\n",
    "        encoder: trained GAEEncoder instance\n",
    "        path: path to pickled graph file\n",
    "        event_vocab, zone_vocab: vocabularies used for feature encoding\n",
    "        device: 'cpu' or 'cuda'\n",
    "        node_id: node index to explain\n",
    "        epochs: explainer optimization steps\n",
    "    \"\"\"\n",
    "    A_tf, A_dense, X = load_graph(path, event_vocab, zone_vocab)\n",
    "\n",
    "    with open(path, \"rb\") as f:\n",
    "        team_graph = pickle.load(f)\n",
    "\n",
    "    x = torch.tensor(X, dtype=torch.float32)\n",
    "\n",
    "    A_hat = torch.tensor(A_dense, dtype=torch.float32)\n",
    "\n",
    "    data = from_networkx(team_graph)\n",
    "\n",
    "    wrapped_model = DenseEncoderWrapper(encoder.to(device), A_hat)\n",
    "\n",
    "    model_config = ModelConfig(\n",
    "        mode=\"regression\",\n",
    "        task_level=\"node\",\n",
    "        return_type=\"raw\",\n",
    "    )\n",
    "\n",
    "    explainer = Explainer(\n",
    "        model=wrapped_model,\n",
    "        algorithm=GNNExplainer(epochs=epochs),\n",
    "        explanation_type=\"model\",\n",
    "        node_mask_type=\"attributes\",\n",
    "        edge_mask_type=None,\n",
    "        model_config=model_config,\n",
    "    )\n",
    "\n",
    "    explanation = explainer(\n",
    "        x=x, edge_index=data.edge_index.to(device), node_index=node_id\n",
    "    )\n",
    "    return (A_hat, x), explanation"
   ]
  },
  {
   "cell_type": "code",
   "execution_count": 185,
   "id": "533bf292",
   "metadata": {},
   "outputs": [
    {
     "name": "stdout",
     "output_type": "stream",
     "text": [
      "10\n"
     ]
    }
   ],
   "source": [
    "feat_labels = (\n",
    "    [\"event_count\", \"unique_players\"]\n",
    "    + [f\"role_{i}\" for i in [\"GK\", \"DEF\", \"MID\", \"FWD\"]]\n",
    "    + [f\"event_{e}\" for e in event_vocab]\n",
    ")\n",
    "print(len(feat_labels))"
   ]
  },
  {
   "cell_type": "code",
   "execution_count": 139,
   "id": "76555e66",
   "metadata": {},
   "outputs": [
    {
     "data": {
      "application/vnd.jupyter.widget-view+json": {
       "model_id": "590bb2141f6a4d05bdd8cfa2a2463657",
       "version_major": 2,
       "version_minor": 0
      },
      "text/plain": [
       "Computing global feature importance:   0%|          | 0/112 [00:00<?, ?it/s]"
      ]
     },
     "metadata": {},
     "output_type": "display_data"
    },
    {
     "data": {
      "application/vnd.jupyter.widget-view+json": {
       "model_id": "9e3f3d32063a4c32a8639fe80be9279b",
       "version_major": 2,
       "version_minor": 0
      },
      "text/plain": [
       "Zones:   0%|          | 0/40 [00:00<?, ?it/s]"
      ]
     },
     "metadata": {},
     "output_type": "display_data"
    },
    {
     "data": {
      "application/vnd.jupyter.widget-view+json": {
       "model_id": "9361a861327a43b4b09e586c226bbba7",
       "version_major": 2,
       "version_minor": 0
      },
      "text/plain": [
       "Zones:   0%|          | 0/40 [00:00<?, ?it/s]"
      ]
     },
     "metadata": {},
     "output_type": "display_data"
    },
    {
     "data": {
      "application/vnd.jupyter.widget-view+json": {
       "model_id": "0b5628f5339744d9a84391f0bb5c8535",
       "version_major": 2,
       "version_minor": 0
      },
      "text/plain": [
       "Zones:   0%|          | 0/40 [00:00<?, ?it/s]"
      ]
     },
     "metadata": {},
     "output_type": "display_data"
    },
    {
     "data": {
      "application/vnd.jupyter.widget-view+json": {
       "model_id": "0381099ec7a449cbb42a2c5262bfd066",
       "version_major": 2,
       "version_minor": 0
      },
      "text/plain": [
       "Zones:   0%|          | 0/40 [00:00<?, ?it/s]"
      ]
     },
     "metadata": {},
     "output_type": "display_data"
    },
    {
     "data": {
      "application/vnd.jupyter.widget-view+json": {
       "model_id": "909a0ef1bf844a3a85cfcd3c7b8988b1",
       "version_major": 2,
       "version_minor": 0
      },
      "text/plain": [
       "Zones:   0%|          | 0/40 [00:00<?, ?it/s]"
      ]
     },
     "metadata": {},
     "output_type": "display_data"
    },
    {
     "data": {
      "application/vnd.jupyter.widget-view+json": {
       "model_id": "7c0a07e48f1647a2b359d6493e438d8b",
       "version_major": 2,
       "version_minor": 0
      },
      "text/plain": [
       "Zones:   0%|          | 0/40 [00:00<?, ?it/s]"
      ]
     },
     "metadata": {},
     "output_type": "display_data"
    },
    {
     "data": {
      "application/vnd.jupyter.widget-view+json": {
       "model_id": "2c43c1b8ae9f4d7aaffdb5a9461720c4",
       "version_major": 2,
       "version_minor": 0
      },
      "text/plain": [
       "Zones:   0%|          | 0/40 [00:00<?, ?it/s]"
      ]
     },
     "metadata": {},
     "output_type": "display_data"
    },
    {
     "data": {
      "application/vnd.jupyter.widget-view+json": {
       "model_id": "094d760a8bd546ef97ab36d4c65217fd",
       "version_major": 2,
       "version_minor": 0
      },
      "text/plain": [
       "Zones:   0%|          | 0/40 [00:00<?, ?it/s]"
      ]
     },
     "metadata": {},
     "output_type": "display_data"
    },
    {
     "data": {
      "application/vnd.jupyter.widget-view+json": {
       "model_id": "a44f9d16ed0748aea1f9c856195904db",
       "version_major": 2,
       "version_minor": 0
      },
      "text/plain": [
       "Zones:   0%|          | 0/40 [00:00<?, ?it/s]"
      ]
     },
     "metadata": {},
     "output_type": "display_data"
    },
    {
     "data": {
      "application/vnd.jupyter.widget-view+json": {
       "model_id": "49133f33c52e4724894e78e905699f67",
       "version_major": 2,
       "version_minor": 0
      },
      "text/plain": [
       "Zones:   0%|          | 0/40 [00:00<?, ?it/s]"
      ]
     },
     "metadata": {},
     "output_type": "display_data"
    },
    {
     "data": {
      "application/vnd.jupyter.widget-view+json": {
       "model_id": "9b40df5b09f749369d84c05e5505a2a6",
       "version_major": 2,
       "version_minor": 0
      },
      "text/plain": [
       "Zones:   0%|          | 0/40 [00:00<?, ?it/s]"
      ]
     },
     "metadata": {},
     "output_type": "display_data"
    },
    {
     "data": {
      "application/vnd.jupyter.widget-view+json": {
       "model_id": "8d930c0d7778460e876ef74444f0b47c",
       "version_major": 2,
       "version_minor": 0
      },
      "text/plain": [
       "Zones:   0%|          | 0/40 [00:00<?, ?it/s]"
      ]
     },
     "metadata": {},
     "output_type": "display_data"
    },
    {
     "data": {
      "application/vnd.jupyter.widget-view+json": {
       "model_id": "fd0b3f1b7a584e63937500ddae368e41",
       "version_major": 2,
       "version_minor": 0
      },
      "text/plain": [
       "Zones:   0%|          | 0/40 [00:00<?, ?it/s]"
      ]
     },
     "metadata": {},
     "output_type": "display_data"
    },
    {
     "data": {
      "application/vnd.jupyter.widget-view+json": {
       "model_id": "031f42486f4e428187e8de535b7fc19b",
       "version_major": 2,
       "version_minor": 0
      },
      "text/plain": [
       "Zones:   0%|          | 0/40 [00:00<?, ?it/s]"
      ]
     },
     "metadata": {},
     "output_type": "display_data"
    },
    {
     "data": {
      "application/vnd.jupyter.widget-view+json": {
       "model_id": "4ce05c938ebb4da99ae8164ece6cdd0c",
       "version_major": 2,
       "version_minor": 0
      },
      "text/plain": [
       "Zones:   0%|          | 0/40 [00:00<?, ?it/s]"
      ]
     },
     "metadata": {},
     "output_type": "display_data"
    },
    {
     "data": {
      "application/vnd.jupyter.widget-view+json": {
       "model_id": "359b67058d514e7da82fb735a142c1f8",
       "version_major": 2,
       "version_minor": 0
      },
      "text/plain": [
       "Zones:   0%|          | 0/40 [00:00<?, ?it/s]"
      ]
     },
     "metadata": {},
     "output_type": "display_data"
    },
    {
     "data": {
      "application/vnd.jupyter.widget-view+json": {
       "model_id": "1efbc7dd749543bd8cf0152861af344e",
       "version_major": 2,
       "version_minor": 0
      },
      "text/plain": [
       "Zones:   0%|          | 0/40 [00:00<?, ?it/s]"
      ]
     },
     "metadata": {},
     "output_type": "display_data"
    },
    {
     "data": {
      "application/vnd.jupyter.widget-view+json": {
       "model_id": "4cea6c04978847f0b122c4cc043562e3",
       "version_major": 2,
       "version_minor": 0
      },
      "text/plain": [
       "Zones:   0%|          | 0/40 [00:00<?, ?it/s]"
      ]
     },
     "metadata": {},
     "output_type": "display_data"
    },
    {
     "data": {
      "application/vnd.jupyter.widget-view+json": {
       "model_id": "9e6c9830e21f4475a3894278d3079575",
       "version_major": 2,
       "version_minor": 0
      },
      "text/plain": [
       "Zones:   0%|          | 0/40 [00:00<?, ?it/s]"
      ]
     },
     "metadata": {},
     "output_type": "display_data"
    },
    {
     "data": {
      "application/vnd.jupyter.widget-view+json": {
       "model_id": "35146a1177014ae1a6fbffe9cf34feaa",
       "version_major": 2,
       "version_minor": 0
      },
      "text/plain": [
       "Zones:   0%|          | 0/40 [00:00<?, ?it/s]"
      ]
     },
     "metadata": {},
     "output_type": "display_data"
    },
    {
     "data": {
      "application/vnd.jupyter.widget-view+json": {
       "model_id": "f93f5a2e08a544e5b5b1a398dbfd65ba",
       "version_major": 2,
       "version_minor": 0
      },
      "text/plain": [
       "Zones:   0%|          | 0/40 [00:00<?, ?it/s]"
      ]
     },
     "metadata": {},
     "output_type": "display_data"
    },
    {
     "data": {
      "application/vnd.jupyter.widget-view+json": {
       "model_id": "0177247c285b4fe3adc0278f8db5ae48",
       "version_major": 2,
       "version_minor": 0
      },
      "text/plain": [
       "Zones:   0%|          | 0/40 [00:00<?, ?it/s]"
      ]
     },
     "metadata": {},
     "output_type": "display_data"
    },
    {
     "data": {
      "application/vnd.jupyter.widget-view+json": {
       "model_id": "33fe84a2aec24972b6bceb90cc6afe45",
       "version_major": 2,
       "version_minor": 0
      },
      "text/plain": [
       "Zones:   0%|          | 0/40 [00:00<?, ?it/s]"
      ]
     },
     "metadata": {},
     "output_type": "display_data"
    },
    {
     "data": {
      "application/vnd.jupyter.widget-view+json": {
       "model_id": "585dfedb8e5b46d7bb235006791ecd06",
       "version_major": 2,
       "version_minor": 0
      },
      "text/plain": [
       "Zones:   0%|          | 0/40 [00:00<?, ?it/s]"
      ]
     },
     "metadata": {},
     "output_type": "display_data"
    },
    {
     "data": {
      "application/vnd.jupyter.widget-view+json": {
       "model_id": "c636f142003e47bbbcc49b82af562e68",
       "version_major": 2,
       "version_minor": 0
      },
      "text/plain": [
       "Zones:   0%|          | 0/40 [00:00<?, ?it/s]"
      ]
     },
     "metadata": {},
     "output_type": "display_data"
    },
    {
     "data": {
      "application/vnd.jupyter.widget-view+json": {
       "model_id": "869d7e34a1604cdf986aaaa5784e4984",
       "version_major": 2,
       "version_minor": 0
      },
      "text/plain": [
       "Zones:   0%|          | 0/40 [00:00<?, ?it/s]"
      ]
     },
     "metadata": {},
     "output_type": "display_data"
    },
    {
     "data": {
      "application/vnd.jupyter.widget-view+json": {
       "model_id": "46545284f5e64415b3a11d452393f3b4",
       "version_major": 2,
       "version_minor": 0
      },
      "text/plain": [
       "Zones:   0%|          | 0/40 [00:00<?, ?it/s]"
      ]
     },
     "metadata": {},
     "output_type": "display_data"
    },
    {
     "data": {
      "application/vnd.jupyter.widget-view+json": {
       "model_id": "d94f51023d80408aae065a08a8470120",
       "version_major": 2,
       "version_minor": 0
      },
      "text/plain": [
       "Zones:   0%|          | 0/40 [00:00<?, ?it/s]"
      ]
     },
     "metadata": {},
     "output_type": "display_data"
    },
    {
     "data": {
      "application/vnd.jupyter.widget-view+json": {
       "model_id": "369d443d993b40ddb139c291563e86e6",
       "version_major": 2,
       "version_minor": 0
      },
      "text/plain": [
       "Zones:   0%|          | 0/40 [00:00<?, ?it/s]"
      ]
     },
     "metadata": {},
     "output_type": "display_data"
    },
    {
     "data": {
      "application/vnd.jupyter.widget-view+json": {
       "model_id": "35c8d53c40dc47a397ad29ddc39d8c61",
       "version_major": 2,
       "version_minor": 0
      },
      "text/plain": [
       "Zones:   0%|          | 0/40 [00:00<?, ?it/s]"
      ]
     },
     "metadata": {},
     "output_type": "display_data"
    },
    {
     "data": {
      "application/vnd.jupyter.widget-view+json": {
       "model_id": "21b1519da447466a979f81ea41c84dca",
       "version_major": 2,
       "version_minor": 0
      },
      "text/plain": [
       "Zones:   0%|          | 0/40 [00:00<?, ?it/s]"
      ]
     },
     "metadata": {},
     "output_type": "display_data"
    },
    {
     "data": {
      "application/vnd.jupyter.widget-view+json": {
       "model_id": "682ccfdd2aae409d943a8a211c779653",
       "version_major": 2,
       "version_minor": 0
      },
      "text/plain": [
       "Zones:   0%|          | 0/40 [00:00<?, ?it/s]"
      ]
     },
     "metadata": {},
     "output_type": "display_data"
    },
    {
     "data": {
      "application/vnd.jupyter.widget-view+json": {
       "model_id": "c16f392f17b2467a9bdf7fd6dfb49764",
       "version_major": 2,
       "version_minor": 0
      },
      "text/plain": [
       "Zones:   0%|          | 0/40 [00:00<?, ?it/s]"
      ]
     },
     "metadata": {},
     "output_type": "display_data"
    },
    {
     "data": {
      "application/vnd.jupyter.widget-view+json": {
       "model_id": "b51a8b344e454841bea0a705074756d8",
       "version_major": 2,
       "version_minor": 0
      },
      "text/plain": [
       "Zones:   0%|          | 0/40 [00:00<?, ?it/s]"
      ]
     },
     "metadata": {},
     "output_type": "display_data"
    },
    {
     "data": {
      "application/vnd.jupyter.widget-view+json": {
       "model_id": "4c5d12b68e1c4c1a8deb47caa7054616",
       "version_major": 2,
       "version_minor": 0
      },
      "text/plain": [
       "Zones:   0%|          | 0/40 [00:00<?, ?it/s]"
      ]
     },
     "metadata": {},
     "output_type": "display_data"
    },
    {
     "data": {
      "application/vnd.jupyter.widget-view+json": {
       "model_id": "886ab0aeaba84f72b5c973fe1864d927",
       "version_major": 2,
       "version_minor": 0
      },
      "text/plain": [
       "Zones:   0%|          | 0/40 [00:00<?, ?it/s]"
      ]
     },
     "metadata": {},
     "output_type": "display_data"
    },
    {
     "data": {
      "application/vnd.jupyter.widget-view+json": {
       "model_id": "c9c4cd1761ec40cba9f09ed93b9d6db6",
       "version_major": 2,
       "version_minor": 0
      },
      "text/plain": [
       "Zones:   0%|          | 0/40 [00:00<?, ?it/s]"
      ]
     },
     "metadata": {},
     "output_type": "display_data"
    },
    {
     "data": {
      "application/vnd.jupyter.widget-view+json": {
       "model_id": "a0b26ba0f5b9444ba6826c1405e61389",
       "version_major": 2,
       "version_minor": 0
      },
      "text/plain": [
       "Zones:   0%|          | 0/40 [00:00<?, ?it/s]"
      ]
     },
     "metadata": {},
     "output_type": "display_data"
    },
    {
     "data": {
      "application/vnd.jupyter.widget-view+json": {
       "model_id": "035ec1c864b64c3885da8ddc3334efd8",
       "version_major": 2,
       "version_minor": 0
      },
      "text/plain": [
       "Zones:   0%|          | 0/40 [00:00<?, ?it/s]"
      ]
     },
     "metadata": {},
     "output_type": "display_data"
    },
    {
     "data": {
      "application/vnd.jupyter.widget-view+json": {
       "model_id": "0fd69bf05ca44e3b95d8dcd5f4960084",
       "version_major": 2,
       "version_minor": 0
      },
      "text/plain": [
       "Zones:   0%|          | 0/40 [00:00<?, ?it/s]"
      ]
     },
     "metadata": {},
     "output_type": "display_data"
    },
    {
     "data": {
      "application/vnd.jupyter.widget-view+json": {
       "model_id": "ee2abb68ed964c6bb46d6ef0531a4e7d",
       "version_major": 2,
       "version_minor": 0
      },
      "text/plain": [
       "Zones:   0%|          | 0/40 [00:00<?, ?it/s]"
      ]
     },
     "metadata": {},
     "output_type": "display_data"
    },
    {
     "data": {
      "application/vnd.jupyter.widget-view+json": {
       "model_id": "7a8dd758c1694f5b8511870cc0067e30",
       "version_major": 2,
       "version_minor": 0
      },
      "text/plain": [
       "Zones:   0%|          | 0/40 [00:00<?, ?it/s]"
      ]
     },
     "metadata": {},
     "output_type": "display_data"
    },
    {
     "data": {
      "application/vnd.jupyter.widget-view+json": {
       "model_id": "e6af51c3c4754365b4e51e9244cce40f",
       "version_major": 2,
       "version_minor": 0
      },
      "text/plain": [
       "Zones:   0%|          | 0/40 [00:00<?, ?it/s]"
      ]
     },
     "metadata": {},
     "output_type": "display_data"
    },
    {
     "data": {
      "application/vnd.jupyter.widget-view+json": {
       "model_id": "055ed7e419dc4e65a51b916ddce6213b",
       "version_major": 2,
       "version_minor": 0
      },
      "text/plain": [
       "Zones:   0%|          | 0/40 [00:00<?, ?it/s]"
      ]
     },
     "metadata": {},
     "output_type": "display_data"
    },
    {
     "data": {
      "application/vnd.jupyter.widget-view+json": {
       "model_id": "e2c5b3528e7646548bcaed5e39d22626",
       "version_major": 2,
       "version_minor": 0
      },
      "text/plain": [
       "Zones:   0%|          | 0/40 [00:00<?, ?it/s]"
      ]
     },
     "metadata": {},
     "output_type": "display_data"
    },
    {
     "data": {
      "application/vnd.jupyter.widget-view+json": {
       "model_id": "3d12304a8c3946b38fb501183a0c06cf",
       "version_major": 2,
       "version_minor": 0
      },
      "text/plain": [
       "Zones:   0%|          | 0/40 [00:00<?, ?it/s]"
      ]
     },
     "metadata": {},
     "output_type": "display_data"
    },
    {
     "data": {
      "application/vnd.jupyter.widget-view+json": {
       "model_id": "6b5db6899cc940639d2d9c5e10df8445",
       "version_major": 2,
       "version_minor": 0
      },
      "text/plain": [
       "Zones:   0%|          | 0/40 [00:00<?, ?it/s]"
      ]
     },
     "metadata": {},
     "output_type": "display_data"
    },
    {
     "data": {
      "application/vnd.jupyter.widget-view+json": {
       "model_id": "233f34e8e2984c829e990bb1572266f7",
       "version_major": 2,
       "version_minor": 0
      },
      "text/plain": [
       "Zones:   0%|          | 0/40 [00:00<?, ?it/s]"
      ]
     },
     "metadata": {},
     "output_type": "display_data"
    },
    {
     "data": {
      "application/vnd.jupyter.widget-view+json": {
       "model_id": "649fdc1e5533439eb2d2fd584e905c53",
       "version_major": 2,
       "version_minor": 0
      },
      "text/plain": [
       "Zones:   0%|          | 0/40 [00:00<?, ?it/s]"
      ]
     },
     "metadata": {},
     "output_type": "display_data"
    },
    {
     "data": {
      "application/vnd.jupyter.widget-view+json": {
       "model_id": "372464f2aaba429595bfc901b8ad5ba9",
       "version_major": 2,
       "version_minor": 0
      },
      "text/plain": [
       "Zones:   0%|          | 0/40 [00:00<?, ?it/s]"
      ]
     },
     "metadata": {},
     "output_type": "display_data"
    },
    {
     "data": {
      "application/vnd.jupyter.widget-view+json": {
       "model_id": "cf22c42de5c54f6b9ef97282f11dce12",
       "version_major": 2,
       "version_minor": 0
      },
      "text/plain": [
       "Zones:   0%|          | 0/40 [00:00<?, ?it/s]"
      ]
     },
     "metadata": {},
     "output_type": "display_data"
    },
    {
     "data": {
      "application/vnd.jupyter.widget-view+json": {
       "model_id": "67240ad15ca34e01a9b5021237e830b4",
       "version_major": 2,
       "version_minor": 0
      },
      "text/plain": [
       "Zones:   0%|          | 0/40 [00:00<?, ?it/s]"
      ]
     },
     "metadata": {},
     "output_type": "display_data"
    },
    {
     "data": {
      "application/vnd.jupyter.widget-view+json": {
       "model_id": "ca552224e12341fdbe3618c70a5e9f50",
       "version_major": 2,
       "version_minor": 0
      },
      "text/plain": [
       "Zones:   0%|          | 0/40 [00:00<?, ?it/s]"
      ]
     },
     "metadata": {},
     "output_type": "display_data"
    },
    {
     "data": {
      "application/vnd.jupyter.widget-view+json": {
       "model_id": "661319419d1b4ca99926eabc0f911d0f",
       "version_major": 2,
       "version_minor": 0
      },
      "text/plain": [
       "Zones:   0%|          | 0/40 [00:00<?, ?it/s]"
      ]
     },
     "metadata": {},
     "output_type": "display_data"
    },
    {
     "data": {
      "application/vnd.jupyter.widget-view+json": {
       "model_id": "87008ebefd654bbf8d814d533593f555",
       "version_major": 2,
       "version_minor": 0
      },
      "text/plain": [
       "Zones:   0%|          | 0/40 [00:00<?, ?it/s]"
      ]
     },
     "metadata": {},
     "output_type": "display_data"
    },
    {
     "data": {
      "application/vnd.jupyter.widget-view+json": {
       "model_id": "434df0fdac2b4124a23bde8341246a26",
       "version_major": 2,
       "version_minor": 0
      },
      "text/plain": [
       "Zones:   0%|          | 0/40 [00:00<?, ?it/s]"
      ]
     },
     "metadata": {},
     "output_type": "display_data"
    },
    {
     "data": {
      "application/vnd.jupyter.widget-view+json": {
       "model_id": "a6239a2ff2584ebb92881102bffdfb5e",
       "version_major": 2,
       "version_minor": 0
      },
      "text/plain": [
       "Zones:   0%|          | 0/40 [00:00<?, ?it/s]"
      ]
     },
     "metadata": {},
     "output_type": "display_data"
    },
    {
     "data": {
      "application/vnd.jupyter.widget-view+json": {
       "model_id": "e868308f127a4161a4ecc05e8a08a2af",
       "version_major": 2,
       "version_minor": 0
      },
      "text/plain": [
       "Zones:   0%|          | 0/40 [00:00<?, ?it/s]"
      ]
     },
     "metadata": {},
     "output_type": "display_data"
    },
    {
     "data": {
      "application/vnd.jupyter.widget-view+json": {
       "model_id": "3cf5b9c56e77415398d26d6d11b9a8eb",
       "version_major": 2,
       "version_minor": 0
      },
      "text/plain": [
       "Zones:   0%|          | 0/40 [00:00<?, ?it/s]"
      ]
     },
     "metadata": {},
     "output_type": "display_data"
    },
    {
     "data": {
      "application/vnd.jupyter.widget-view+json": {
       "model_id": "6cbd79a8258d47198956f2653661d2eb",
       "version_major": 2,
       "version_minor": 0
      },
      "text/plain": [
       "Zones:   0%|          | 0/40 [00:00<?, ?it/s]"
      ]
     },
     "metadata": {},
     "output_type": "display_data"
    },
    {
     "data": {
      "application/vnd.jupyter.widget-view+json": {
       "model_id": "d10d99269fe74ee099ee39b998a5bddc",
       "version_major": 2,
       "version_minor": 0
      },
      "text/plain": [
       "Zones:   0%|          | 0/40 [00:00<?, ?it/s]"
      ]
     },
     "metadata": {},
     "output_type": "display_data"
    },
    {
     "data": {
      "application/vnd.jupyter.widget-view+json": {
       "model_id": "a4cd90b14e98446a8f8ae75b85848dd4",
       "version_major": 2,
       "version_minor": 0
      },
      "text/plain": [
       "Zones:   0%|          | 0/40 [00:00<?, ?it/s]"
      ]
     },
     "metadata": {},
     "output_type": "display_data"
    },
    {
     "data": {
      "application/vnd.jupyter.widget-view+json": {
       "model_id": "3b557c711e4c4c5e8d2406dbb5b73ffa",
       "version_major": 2,
       "version_minor": 0
      },
      "text/plain": [
       "Zones:   0%|          | 0/40 [00:00<?, ?it/s]"
      ]
     },
     "metadata": {},
     "output_type": "display_data"
    },
    {
     "data": {
      "application/vnd.jupyter.widget-view+json": {
       "model_id": "1af6ea6bb4e946eb854beebaf87da1f5",
       "version_major": 2,
       "version_minor": 0
      },
      "text/plain": [
       "Zones:   0%|          | 0/40 [00:00<?, ?it/s]"
      ]
     },
     "metadata": {},
     "output_type": "display_data"
    },
    {
     "data": {
      "application/vnd.jupyter.widget-view+json": {
       "model_id": "5c7f92b2a9c74efab54eac59de1c54a3",
       "version_major": 2,
       "version_minor": 0
      },
      "text/plain": [
       "Zones:   0%|          | 0/40 [00:00<?, ?it/s]"
      ]
     },
     "metadata": {},
     "output_type": "display_data"
    },
    {
     "data": {
      "application/vnd.jupyter.widget-view+json": {
       "model_id": "eb2d9ef69dc140269932229d11c66789",
       "version_major": 2,
       "version_minor": 0
      },
      "text/plain": [
       "Zones:   0%|          | 0/40 [00:00<?, ?it/s]"
      ]
     },
     "metadata": {},
     "output_type": "display_data"
    },
    {
     "data": {
      "application/vnd.jupyter.widget-view+json": {
       "model_id": "97606114d43a4405994852adfdd9147c",
       "version_major": 2,
       "version_minor": 0
      },
      "text/plain": [
       "Zones:   0%|          | 0/40 [00:00<?, ?it/s]"
      ]
     },
     "metadata": {},
     "output_type": "display_data"
    },
    {
     "data": {
      "application/vnd.jupyter.widget-view+json": {
       "model_id": "98988f6cfa6b4fd0a0e9f367c2111a7b",
       "version_major": 2,
       "version_minor": 0
      },
      "text/plain": [
       "Zones:   0%|          | 0/40 [00:00<?, ?it/s]"
      ]
     },
     "metadata": {},
     "output_type": "display_data"
    },
    {
     "data": {
      "application/vnd.jupyter.widget-view+json": {
       "model_id": "04100dbf45bd4ccdbc6996f4b7f90234",
       "version_major": 2,
       "version_minor": 0
      },
      "text/plain": [
       "Zones:   0%|          | 0/40 [00:00<?, ?it/s]"
      ]
     },
     "metadata": {},
     "output_type": "display_data"
    },
    {
     "data": {
      "application/vnd.jupyter.widget-view+json": {
       "model_id": "346c4f6e109c4f8497cc715481bfdf21",
       "version_major": 2,
       "version_minor": 0
      },
      "text/plain": [
       "Zones:   0%|          | 0/40 [00:00<?, ?it/s]"
      ]
     },
     "metadata": {},
     "output_type": "display_data"
    },
    {
     "data": {
      "application/vnd.jupyter.widget-view+json": {
       "model_id": "89e9c38065a44c84ad703055343affa6",
       "version_major": 2,
       "version_minor": 0
      },
      "text/plain": [
       "Zones:   0%|          | 0/40 [00:00<?, ?it/s]"
      ]
     },
     "metadata": {},
     "output_type": "display_data"
    },
    {
     "data": {
      "application/vnd.jupyter.widget-view+json": {
       "model_id": "b053397999f1401bbc2e1d7e43d18ec4",
       "version_major": 2,
       "version_minor": 0
      },
      "text/plain": [
       "Zones:   0%|          | 0/40 [00:00<?, ?it/s]"
      ]
     },
     "metadata": {},
     "output_type": "display_data"
    },
    {
     "data": {
      "application/vnd.jupyter.widget-view+json": {
       "model_id": "399b9f0a2a044225bbf984a5dec01a71",
       "version_major": 2,
       "version_minor": 0
      },
      "text/plain": [
       "Zones:   0%|          | 0/40 [00:00<?, ?it/s]"
      ]
     },
     "metadata": {},
     "output_type": "display_data"
    },
    {
     "data": {
      "application/vnd.jupyter.widget-view+json": {
       "model_id": "092743097b404ac4b1ab22bddf3e7dd7",
       "version_major": 2,
       "version_minor": 0
      },
      "text/plain": [
       "Zones:   0%|          | 0/40 [00:00<?, ?it/s]"
      ]
     },
     "metadata": {},
     "output_type": "display_data"
    },
    {
     "data": {
      "application/vnd.jupyter.widget-view+json": {
       "model_id": "ea4af6e431ff421f9117cfffea2b89c8",
       "version_major": 2,
       "version_minor": 0
      },
      "text/plain": [
       "Zones:   0%|          | 0/40 [00:00<?, ?it/s]"
      ]
     },
     "metadata": {},
     "output_type": "display_data"
    },
    {
     "data": {
      "application/vnd.jupyter.widget-view+json": {
       "model_id": "e5bae113f22a4cc1816e65f201956723",
       "version_major": 2,
       "version_minor": 0
      },
      "text/plain": [
       "Zones:   0%|          | 0/40 [00:00<?, ?it/s]"
      ]
     },
     "metadata": {},
     "output_type": "display_data"
    },
    {
     "data": {
      "application/vnd.jupyter.widget-view+json": {
       "model_id": "4b2faa2c53104c278d2ff907318ca05f",
       "version_major": 2,
       "version_minor": 0
      },
      "text/plain": [
       "Zones:   0%|          | 0/40 [00:00<?, ?it/s]"
      ]
     },
     "metadata": {},
     "output_type": "display_data"
    },
    {
     "data": {
      "application/vnd.jupyter.widget-view+json": {
       "model_id": "3501d5028eaf4d22b671455d05910f4e",
       "version_major": 2,
       "version_minor": 0
      },
      "text/plain": [
       "Zones:   0%|          | 0/40 [00:00<?, ?it/s]"
      ]
     },
     "metadata": {},
     "output_type": "display_data"
    },
    {
     "data": {
      "application/vnd.jupyter.widget-view+json": {
       "model_id": "23b896bb358943b7aff3bd92b68bd0a1",
       "version_major": 2,
       "version_minor": 0
      },
      "text/plain": [
       "Zones:   0%|          | 0/40 [00:00<?, ?it/s]"
      ]
     },
     "metadata": {},
     "output_type": "display_data"
    },
    {
     "data": {
      "application/vnd.jupyter.widget-view+json": {
       "model_id": "5fe2668c9f444fcfa2ad27133841c162",
       "version_major": 2,
       "version_minor": 0
      },
      "text/plain": [
       "Zones:   0%|          | 0/40 [00:00<?, ?it/s]"
      ]
     },
     "metadata": {},
     "output_type": "display_data"
    },
    {
     "data": {
      "application/vnd.jupyter.widget-view+json": {
       "model_id": "110fa3c58c494edd8191185a3febbf49",
       "version_major": 2,
       "version_minor": 0
      },
      "text/plain": [
       "Zones:   0%|          | 0/40 [00:00<?, ?it/s]"
      ]
     },
     "metadata": {},
     "output_type": "display_data"
    },
    {
     "data": {
      "application/vnd.jupyter.widget-view+json": {
       "model_id": "cdd0a8b2d9064352b214373991685172",
       "version_major": 2,
       "version_minor": 0
      },
      "text/plain": [
       "Zones:   0%|          | 0/40 [00:00<?, ?it/s]"
      ]
     },
     "metadata": {},
     "output_type": "display_data"
    },
    {
     "data": {
      "application/vnd.jupyter.widget-view+json": {
       "model_id": "fd3a770c759d4c5aa9dd453b975f4d25",
       "version_major": 2,
       "version_minor": 0
      },
      "text/plain": [
       "Zones:   0%|          | 0/40 [00:00<?, ?it/s]"
      ]
     },
     "metadata": {},
     "output_type": "display_data"
    },
    {
     "data": {
      "application/vnd.jupyter.widget-view+json": {
       "model_id": "89f7f8a9f7ce4a38aedfae5f1fff78ac",
       "version_major": 2,
       "version_minor": 0
      },
      "text/plain": [
       "Zones:   0%|          | 0/40 [00:00<?, ?it/s]"
      ]
     },
     "metadata": {},
     "output_type": "display_data"
    },
    {
     "data": {
      "application/vnd.jupyter.widget-view+json": {
       "model_id": "2e5b1b56b835496498a71652e5ce815f",
       "version_major": 2,
       "version_minor": 0
      },
      "text/plain": [
       "Zones:   0%|          | 0/40 [00:00<?, ?it/s]"
      ]
     },
     "metadata": {},
     "output_type": "display_data"
    },
    {
     "data": {
      "application/vnd.jupyter.widget-view+json": {
       "model_id": "c5379611cbd7427da7b8e9512a814c01",
       "version_major": 2,
       "version_minor": 0
      },
      "text/plain": [
       "Zones:   0%|          | 0/40 [00:00<?, ?it/s]"
      ]
     },
     "metadata": {},
     "output_type": "display_data"
    },
    {
     "data": {
      "application/vnd.jupyter.widget-view+json": {
       "model_id": "90795fed2eb24a18af4a56777d64aeb2",
       "version_major": 2,
       "version_minor": 0
      },
      "text/plain": [
       "Zones:   0%|          | 0/40 [00:00<?, ?it/s]"
      ]
     },
     "metadata": {},
     "output_type": "display_data"
    },
    {
     "data": {
      "application/vnd.jupyter.widget-view+json": {
       "model_id": "684602f0652c46e1b94b38424bb5c4ed",
       "version_major": 2,
       "version_minor": 0
      },
      "text/plain": [
       "Zones:   0%|          | 0/40 [00:00<?, ?it/s]"
      ]
     },
     "metadata": {},
     "output_type": "display_data"
    },
    {
     "data": {
      "application/vnd.jupyter.widget-view+json": {
       "model_id": "a29a7a18fc4e4d0fa4255c1772de99b2",
       "version_major": 2,
       "version_minor": 0
      },
      "text/plain": [
       "Zones:   0%|          | 0/40 [00:00<?, ?it/s]"
      ]
     },
     "metadata": {},
     "output_type": "display_data"
    },
    {
     "data": {
      "application/vnd.jupyter.widget-view+json": {
       "model_id": "c71ca062d4d84b12b50aac4f145bbc87",
       "version_major": 2,
       "version_minor": 0
      },
      "text/plain": [
       "Zones:   0%|          | 0/40 [00:00<?, ?it/s]"
      ]
     },
     "metadata": {},
     "output_type": "display_data"
    },
    {
     "data": {
      "application/vnd.jupyter.widget-view+json": {
       "model_id": "3edc1712c2c44593b104cd6e726b3f99",
       "version_major": 2,
       "version_minor": 0
      },
      "text/plain": [
       "Zones:   0%|          | 0/40 [00:00<?, ?it/s]"
      ]
     },
     "metadata": {},
     "output_type": "display_data"
    },
    {
     "data": {
      "application/vnd.jupyter.widget-view+json": {
       "model_id": "8d11486f67a8467cbf7027c52d6948ef",
       "version_major": 2,
       "version_minor": 0
      },
      "text/plain": [
       "Zones:   0%|          | 0/40 [00:00<?, ?it/s]"
      ]
     },
     "metadata": {},
     "output_type": "display_data"
    },
    {
     "data": {
      "application/vnd.jupyter.widget-view+json": {
       "model_id": "3fe2a910947e448ab5ccac9e86f1c1e6",
       "version_major": 2,
       "version_minor": 0
      },
      "text/plain": [
       "Zones:   0%|          | 0/40 [00:00<?, ?it/s]"
      ]
     },
     "metadata": {},
     "output_type": "display_data"
    },
    {
     "data": {
      "application/vnd.jupyter.widget-view+json": {
       "model_id": "48b803c89f35413ca5e9a34e39c48e6c",
       "version_major": 2,
       "version_minor": 0
      },
      "text/plain": [
       "Zones:   0%|          | 0/40 [00:00<?, ?it/s]"
      ]
     },
     "metadata": {},
     "output_type": "display_data"
    },
    {
     "data": {
      "application/vnd.jupyter.widget-view+json": {
       "model_id": "abe16bf0922d4b0e836423e470bbe001",
       "version_major": 2,
       "version_minor": 0
      },
      "text/plain": [
       "Zones:   0%|          | 0/40 [00:00<?, ?it/s]"
      ]
     },
     "metadata": {},
     "output_type": "display_data"
    },
    {
     "data": {
      "application/vnd.jupyter.widget-view+json": {
       "model_id": "7093f2e181394146b374ef4964eef603",
       "version_major": 2,
       "version_minor": 0
      },
      "text/plain": [
       "Zones:   0%|          | 0/40 [00:00<?, ?it/s]"
      ]
     },
     "metadata": {},
     "output_type": "display_data"
    },
    {
     "data": {
      "application/vnd.jupyter.widget-view+json": {
       "model_id": "f68c848b56f843f59efc28dca8c7e900",
       "version_major": 2,
       "version_minor": 0
      },
      "text/plain": [
       "Zones:   0%|          | 0/40 [00:00<?, ?it/s]"
      ]
     },
     "metadata": {},
     "output_type": "display_data"
    },
    {
     "data": {
      "application/vnd.jupyter.widget-view+json": {
       "model_id": "859c6ed85db44f20ad3cc607ce49816f",
       "version_major": 2,
       "version_minor": 0
      },
      "text/plain": [
       "Zones:   0%|          | 0/40 [00:00<?, ?it/s]"
      ]
     },
     "metadata": {},
     "output_type": "display_data"
    },
    {
     "data": {
      "application/vnd.jupyter.widget-view+json": {
       "model_id": "aa1b1587dcf6411b8bd3aab0c298fee4",
       "version_major": 2,
       "version_minor": 0
      },
      "text/plain": [
       "Zones:   0%|          | 0/40 [00:00<?, ?it/s]"
      ]
     },
     "metadata": {},
     "output_type": "display_data"
    },
    {
     "data": {
      "application/vnd.jupyter.widget-view+json": {
       "model_id": "276a9cc1407f497f824258423899d84f",
       "version_major": 2,
       "version_minor": 0
      },
      "text/plain": [
       "Zones:   0%|          | 0/40 [00:00<?, ?it/s]"
      ]
     },
     "metadata": {},
     "output_type": "display_data"
    },
    {
     "data": {
      "application/vnd.jupyter.widget-view+json": {
       "model_id": "691b0a00d1f24f9f8dfe64119105c9c3",
       "version_major": 2,
       "version_minor": 0
      },
      "text/plain": [
       "Zones:   0%|          | 0/40 [00:00<?, ?it/s]"
      ]
     },
     "metadata": {},
     "output_type": "display_data"
    },
    {
     "data": {
      "application/vnd.jupyter.widget-view+json": {
       "model_id": "39e196b3791041d69ab9e283b652a333",
       "version_major": 2,
       "version_minor": 0
      },
      "text/plain": [
       "Zones:   0%|          | 0/40 [00:00<?, ?it/s]"
      ]
     },
     "metadata": {},
     "output_type": "display_data"
    },
    {
     "data": {
      "application/vnd.jupyter.widget-view+json": {
       "model_id": "824e4373b65c475d8af9ca5a22079d71",
       "version_major": 2,
       "version_minor": 0
      },
      "text/plain": [
       "Zones:   0%|          | 0/40 [00:00<?, ?it/s]"
      ]
     },
     "metadata": {},
     "output_type": "display_data"
    },
    {
     "data": {
      "application/vnd.jupyter.widget-view+json": {
       "model_id": "5d3ca45177824d66b95e64a3f4b930c0",
       "version_major": 2,
       "version_minor": 0
      },
      "text/plain": [
       "Zones:   0%|          | 0/40 [00:00<?, ?it/s]"
      ]
     },
     "metadata": {},
     "output_type": "display_data"
    },
    {
     "data": {
      "application/vnd.jupyter.widget-view+json": {
       "model_id": "9c4d0ac13af14fed981c369f60759b4d",
       "version_major": 2,
       "version_minor": 0
      },
      "text/plain": [
       "Zones:   0%|          | 0/40 [00:00<?, ?it/s]"
      ]
     },
     "metadata": {},
     "output_type": "display_data"
    },
    {
     "data": {
      "application/vnd.jupyter.widget-view+json": {
       "model_id": "51690bfb06454e4c9e3c4cad3a525eb9",
       "version_major": 2,
       "version_minor": 0
      },
      "text/plain": [
       "Zones:   0%|          | 0/40 [00:00<?, ?it/s]"
      ]
     },
     "metadata": {},
     "output_type": "display_data"
    },
    {
     "data": {
      "application/vnd.jupyter.widget-view+json": {
       "model_id": "aa30167a75c1414b953eb227fa8f9db8",
       "version_major": 2,
       "version_minor": 0
      },
      "text/plain": [
       "Zones:   0%|          | 0/40 [00:00<?, ?it/s]"
      ]
     },
     "metadata": {},
     "output_type": "display_data"
    },
    {
     "data": {
      "application/vnd.jupyter.widget-view+json": {
       "model_id": "4d5fbc698b794eb482af93b1a51ea273",
       "version_major": 2,
       "version_minor": 0
      },
      "text/plain": [
       "Zones:   0%|          | 0/40 [00:00<?, ?it/s]"
      ]
     },
     "metadata": {},
     "output_type": "display_data"
    },
    {
     "data": {
      "application/vnd.jupyter.widget-view+json": {
       "model_id": "26be065cbfd041d0bcca3dc64dbadc3c",
       "version_major": 2,
       "version_minor": 0
      },
      "text/plain": [
       "Zones:   0%|          | 0/40 [00:00<?, ?it/s]"
      ]
     },
     "metadata": {},
     "output_type": "display_data"
    },
    {
     "data": {
      "application/vnd.jupyter.widget-view+json": {
       "model_id": "75876a614ecc449f9877643b09e03ae4",
       "version_major": 2,
       "version_minor": 0
      },
      "text/plain": [
       "Zones:   0%|          | 0/40 [00:00<?, ?it/s]"
      ]
     },
     "metadata": {},
     "output_type": "display_data"
    },
    {
     "data": {
      "application/vnd.jupyter.widget-view+json": {
       "model_id": "75d17627db0a43d1bbba4f114c43fe8d",
       "version_major": 2,
       "version_minor": 0
      },
      "text/plain": [
       "Zones:   0%|          | 0/40 [00:00<?, ?it/s]"
      ]
     },
     "metadata": {},
     "output_type": "display_data"
    },
    {
     "data": {
      "application/vnd.jupyter.widget-view+json": {
       "model_id": "56e1a49a9806478b9764fc546aae2de9",
       "version_major": 2,
       "version_minor": 0
      },
      "text/plain": [
       "Zones:   0%|          | 0/40 [00:00<?, ?it/s]"
      ]
     },
     "metadata": {},
     "output_type": "display_data"
    }
   ],
   "source": [
    "gnn_data = {\n",
    "    \"exp\": [],\n",
    "    \"all_masks\": [],\n",
    "    \"fidelity\": [],\n",
    "}\n",
    "for path in tqdm(\n",
    "    list_graph_paths(f\"graphs\"),\n",
    "    desc=f\"Computing global feature importance\",\n",
    "    position=tqdm._get_free_pos(),\n",
    "):\n",
    "    for node_id in tqdm(\n",
    "        range(40),\n",
    "        desc=\"Zones\",\n",
    "        position=tqdm._get_free_pos(),\n",
    "        leave=False,\n",
    "    ):\n",
    "        d, exp = gnn_explainer(\n",
    "            encoder, path, event_vocab, zone_vocab, device=\"cpu\", node_id=0\n",
    "        )\n",
    "        gnn_data[\"exp\"].append(exp)\n",
    "        gnn_data[\"all_masks\"].append(exp.node_mask.detach().cpu().numpy().mean(axis=0))\n",
    "        gnn_data[\"fidelity\"].append(embedding_fidelity(encoder, d[0], d[1], exp))"
   ]
  },
  {
   "cell_type": "code",
   "execution_count": 142,
   "id": "07a96964",
   "metadata": {},
   "outputs": [
    {
     "data": {
      "image/png": "[encoded data removed]",
      "text/plain": [
       "<Figure size 1200x600 with 1 Axes>"
      ]
     },
     "metadata": {},
     "output_type": "display_data"
    }
   ],
   "source": [
    "# plot feature importance\n",
    "gnn_feat_imp = np.mean(gnn_data[\"all_masks\"], axis=0)\n",
    "\n",
    "plt.figure(figsize=(12, 6))\n",
    "plt.bar(range(len(gnn_feat_imp)), gnn_feat_imp)\n",
    "plt.xticks(range(len(gnn_feat_imp)), feat_labels, rotation=90)\n",
    "plt.title(\"Feature importance (GNNExplainer) for GCN node features\")\n",
    "plt.tight_layout()\n",
    "plt.show()"
   ]
  },
  {
   "cell_type": "code",
   "execution_count": 146,
   "id": "f05d926d",
   "metadata": {},
   "outputs": [
    {
     "data": {
      "text/plain": [
       "0.4487340723550714"
      ]
     },
     "execution_count": 146,
     "metadata": {},
     "output_type": "execute_result"
    }
   ],
   "source": [
    "np.mean([i[\"structural_fidelity\"] for i in gnn_data[\"fidelity\"]])"
   ]
  },
  {
   "cell_type": "code",
   "execution_count": 147,
   "id": "1c4a771f",
   "metadata": {},
   "outputs": [
    {
     "data": {
      "text/plain": [
       "1.4935257456132345"
      ]
     },
     "execution_count": 147,
     "metadata": {},
     "output_type": "execute_result"
    }
   ],
   "source": [
    "np.mean([i[\"reconstruction_mse\"] for i in gnn_data[\"fidelity\"]])"
   ]
  },
  {
   "cell_type": "code",
   "execution_count": 214,
   "id": "ba550f6a",
   "metadata": {},
   "outputs": [
    {
     "data": {
      "text/plain": [
       "2.527618"
      ]
     },
     "execution_count": 214,
     "metadata": {},
     "output_type": "execute_result"
    }
   ],
   "source": [
    "mask_entropy(gnn_feat_imp)"
   ]
  },
  {
   "cell_type": "code",
   "execution_count": 241,
   "id": "5c804111",
   "metadata": {},
   "outputs": [],
   "source": [
    "class CaptumWrapper(torch.nn.Module):\n",
    "    def __init__(self, encoder, A_hat, node_id=0):\n",
    "        super().__init__()\n",
    "        self.encoder = encoder\n",
    "        self.A_hat = A_hat\n",
    "        self.node_id = node_id\n",
    "\n",
    "    def forward(self, x, edge_index=None, *args, **kwargs):\n",
    "        Z = self.encoder(x, self.A_hat, training=False)\n",
    "        out = Z[self.node_id].mean()  # scalar\n",
    "        return out.unsqueeze(0)  # shape (1,)"
   ]
  },
  {
   "cell_type": "code",
   "execution_count": 247,
   "id": "100268bc",
   "metadata": {},
   "outputs": [],
   "source": [
    "def integrated_gradients(\n",
    "    encoder, path, event_vocab, zone_vocab, device=\"cpu\", node_id=0\n",
    "):\n",
    "    \"\"\"\n",
    "    Run Integrated Gradients on dense GAEEncoder model.\n",
    "\n",
    "    Args:\n",
    "        encoder: trained GAEEncoder instance\n",
    "        path: path to pickled graph file\n",
    "        event_vocab, zone_vocab: vocabularies used for feature encoding\n",
    "        device: 'cpu' or 'cuda'\n",
    "        node_id: node index to explain\n",
    "    \"\"\"\n",
    "    A_tf, A_dense, X = load_graph(path, event_vocab, zone_vocab)\n",
    "    with open(path, \"rb\") as f:\n",
    "        team_graph = pickle.load(f)\n",
    "\n",
    "    x = torch.tensor(X, dtype=torch.float32)\n",
    "    A_hat = torch.tensor(A_dense, dtype=torch.float32)\n",
    "\n",
    "    data = from_networkx(team_graph)\n",
    "\n",
    "    wrapped_model = CaptumWrapper(encoder.to(device), A_hat, node_id=node_id)\n",
    "\n",
    "    model_config = ModelConfig(\n",
    "        mode=\"regression\",\n",
    "        task_level=\"node\",\n",
    "        return_type=\"raw\",\n",
    "    )\n",
    "\n",
    "    algorithm = CaptumExplainer(captum.attr.IntegratedGradients)\n",
    "\n",
    "    explainer = Explainer(\n",
    "        model=wrapped_model,\n",
    "        algorithm=algorithm,\n",
    "        explanation_type=\"model\",\n",
    "        node_mask_type=\"attributes\",\n",
    "        edge_mask_type=None,\n",
    "        model_config=model_config,\n",
    "    )\n",
    "\n",
    "    explanation = explainer(\n",
    "        x=x.to(device),\n",
    "        edge_index=data.edge_index.to(device),\n",
    "        node_index=node_id,\n",
    "        target=None,\n",
    "    )\n",
    "\n",
    "    return (A_hat, x), explanation"
   ]
  },
  {
   "cell_type": "code",
   "execution_count": 262,
   "id": "b1d31d56",
   "metadata": {},
   "outputs": [
    {
     "data": {
      "application/vnd.jupyter.widget-view+json": {
       "model_id": "a8f789444d36442e82f5c7b5aa25ff16",
       "version_major": 2,
       "version_minor": 0
      },
      "text/plain": [
       "Computing global feature importance:   0%|          | 0/112 [00:00<?, ?it/s]"
      ]
     },
     "metadata": {},
     "output_type": "display_data"
    },
    {
     "data": {
      "application/vnd.jupyter.widget-view+json": {
       "model_id": "488da3c72d01498b8aaf8bd649ec3ae4",
       "version_major": 2,
       "version_minor": 0
      },
      "text/plain": [
       "Zones:   0%|          | 0/40 [00:00<?, ?it/s]"
      ]
     },
     "metadata": {},
     "output_type": "display_data"
    },
    {
     "ename": "AttributeError",
     "evalue": "'Tensor' object has no attribute 'eval'",
     "output_type": "error",
     "traceback": [
      "\u001b[1;31m---------------------------------------------------------------------------\u001b[0m",
      "\u001b[1;31mAttributeError\u001b[0m                            Traceback (most recent call last)",
      "Cell \u001b[1;32mIn[262], line 22\u001b[0m\n\u001b[0;32m     20\u001b[0m ig_data[\u001b[38;5;124m\"\u001b[39m\u001b[38;5;124mexp\u001b[39m\u001b[38;5;124m\"\u001b[39m]\u001b[38;5;241m.\u001b[39mappend(exp)\n\u001b[0;32m     21\u001b[0m ig_data[\u001b[38;5;124m\"\u001b[39m\u001b[38;5;124mall_masks\u001b[39m\u001b[38;5;124m\"\u001b[39m]\u001b[38;5;241m.\u001b[39mappend(exp\u001b[38;5;241m.\u001b[39mnode_mask\u001b[38;5;241m.\u001b[39mdetach()\u001b[38;5;241m.\u001b[39mcpu()\u001b[38;5;241m.\u001b[39mnumpy()\u001b[38;5;241m.\u001b[39mmean(axis\u001b[38;5;241m=\u001b[39m\u001b[38;5;241m0\u001b[39m))\n\u001b[1;32m---> 22\u001b[0m ig_data[\u001b[38;5;124m\"\u001b[39m\u001b[38;5;124mfidelity\u001b[39m\u001b[38;5;124m\"\u001b[39m]\u001b[38;5;241m.\u001b[39mappend(\u001b[43membedding_fidelity_old\u001b[49m\u001b[43m(\u001b[49m\u001b[43mencoder\u001b[49m\u001b[43m,\u001b[49m\u001b[43m \u001b[49m\u001b[43mA_hat\u001b[49m\u001b[43m,\u001b[49m\u001b[43m \u001b[49m\u001b[43mx\u001b[49m\u001b[43m,\u001b[49m\u001b[43m \u001b[49m\u001b[43mexp\u001b[49m\u001b[43m)\u001b[49m)\n",
      "Cell \u001b[1;32mIn[188], line 13\u001b[0m, in \u001b[0;36membedding_fidelity_old\u001b[1;34m(encoder, decoder, X, A_hat, device)\u001b[0m\n\u001b[0;32m      4\u001b[0m \u001b[38;5;250m\u001b[39m\u001b[38;5;124;03m\"\"\"\u001b[39;00m\n\u001b[0;32m      5\u001b[0m \u001b[38;5;124;03mCompute embedding fidelity metrics for a trained Graph Autoencoder.\u001b[39;00m\n\u001b[0;32m      6\u001b[0m \n\u001b[1;32m   (...)\u001b[0m\n\u001b[0;32m     10\u001b[0m \u001b[38;5;124;03m     and embedding similarity)\u001b[39;00m\n\u001b[0;32m     11\u001b[0m \u001b[38;5;124;03m\"\"\"\u001b[39;00m\n\u001b[0;32m     12\u001b[0m encoder\u001b[38;5;241m.\u001b[39meval()\n\u001b[1;32m---> 13\u001b[0m \u001b[43mdecoder\u001b[49m\u001b[38;5;241;43m.\u001b[39;49m\u001b[43meval\u001b[49m()\n\u001b[0;32m     14\u001b[0m \u001b[38;5;28;01mif\u001b[39;00m \u001b[38;5;129;01mnot\u001b[39;00m \u001b[38;5;28misinstance\u001b[39m(X, torch\u001b[38;5;241m.\u001b[39mTensor):\n\u001b[0;32m     15\u001b[0m     X \u001b[38;5;241m=\u001b[39m torch\u001b[38;5;241m.\u001b[39mtensor(X, dtype\u001b[38;5;241m=\u001b[39mtorch\u001b[38;5;241m.\u001b[39mfloat32)\n",
      "\u001b[1;31mAttributeError\u001b[0m: 'Tensor' object has no attribute 'eval'"
     ]
    }
   ],
   "source": [
    "ig_data = {\n",
    "    \"exp\": [],\n",
    "    \"all_masks\": [],\n",
    "    \"fidelity\": [],\n",
    "}\n",
    "for path in tqdm(\n",
    "    list_graph_paths(f\"graphs\"),\n",
    "    desc=f\"Computing global feature importance\",\n",
    "    position=tqdm._get_free_pos(),\n",
    "):\n",
    "    for node_id in tqdm(\n",
    "        range(40),\n",
    "        desc=\"Zones\",\n",
    "        position=tqdm._get_free_pos(),\n",
    "        leave=False,\n",
    "    ):\n",
    "        (A_hat, x), exp = integrated_gradients(\n",
    "            encoder, path, event_vocab, zone_vocab, node_id=node_id\n",
    "        )\n",
    "        ig_data[\"exp\"].append(exp)\n",
    "        ig_data[\"all_masks\"].append(exp.node_mask.detach().cpu().numpy().mean(axis=0))\n",
    "        ig_data[\"fidelity\"].append(embedding_fidelity_old(encoder, A_hat, x, exp))"
   ]
  },
  {
   "cell_type": "code",
   "execution_count": 260,
   "id": "2f38a4fa",
   "metadata": {},
   "outputs": [],
   "source": [
    "ig_masks = np.mean(ig_data[\"all_masks\"], axis=0)"
   ]
  },
  {
   "cell_type": "code",
   "execution_count": 261,
   "id": "86ca1533",
   "metadata": {},
   "outputs": [
    {
     "data": {
      "text/plain": [
       "0.010401285"
      ]
     },
     "execution_count": 261,
     "metadata": {},
     "output_type": "execute_result"
    }
   ],
   "source": [
    "mask_entropy(ig_masks)"
   ]
  },
  {
   "cell_type": "code",
   "execution_count": 267,
   "id": "f4a29a95",
   "metadata": {},
   "outputs": [
    {
     "data": {
      "image/png": "[encoded data removed]",
      "text/plain": [
       "<Figure size 1200x600 with 1 Axes>"
      ]
     },
     "metadata": {},
     "output_type": "display_data"
    }
   ],
   "source": [
    "normalized_ig_masks = np.abs(ig_masks / np.max(ig_masks) / 100)\n",
    "\n",
    "plt.figure(figsize=(12, 6))\n",
    "plt.bar(range(len(normalized_ig_masks)), normalized_ig_masks)\n",
    "plt.xticks(range(len(normalized_ig_masks)), feat_labels, rotation=90)\n",
    "plt.title(\"Feature importance (Integrated Gradients) for GCN node features\")\n",
    "plt.tight_layout()\n",
    "plt.show()"
   ]
  },
  {
   "cell_type": "markdown",
   "id": "706d514a",
   "metadata": {},
   "source": [
    "# Clustering"
   ]
  },
  {
   "cell_type": "code",
   "execution_count": 49,
   "id": "1c4fdc50",
   "metadata": {},
   "outputs": [
    {
     "name": "stdout",
     "output_type": "stream",
     "text": [
      "[1 4 4 4 1 1 4 0 4 1 2 2 2 0 0 0 2 2 2 0 2 3 3 3 2 2 2 2 3 2 4 4 0 0 0 4 4\n",
      " 4 4 1 2]\n"
     ]
    },
    {
     "name": "stderr",
     "output_type": "stream",
     "text": [
      "c:\\Users\\Simon.DESKTOP-JJ3ICI6\\AppData\\Local\\Programs\\Python\\Python310\\lib\\site-packages\\joblib\\externals\\loky\\backend\\context.py:131: UserWarning: Could not find the number of physical cores for the following reason:\n",
      "[WinError 2] The system cannot find the file specified\n",
      "Returning the number of logical cores instead. You can silence this warning by setting LOKY_MAX_CPU_COUNT to the number of cores you want to use.\n",
      "  warnings.warn(\n",
      "  File \"c:\\Users\\Simon.DESKTOP-JJ3ICI6\\AppData\\Local\\Programs\\Python\\Python310\\lib\\site-packages\\joblib\\externals\\loky\\backend\\context.py\", line 247, in _count_physical_cores\n",
      "    cpu_count_physical = _count_physical_cores_win32()\n",
      "  File \"c:\\Users\\Simon.DESKTOP-JJ3ICI6\\AppData\\Local\\Programs\\Python\\Python310\\lib\\site-packages\\joblib\\externals\\loky\\backend\\context.py\", line 299, in _count_physical_cores_win32\n",
      "    cpu_info = subprocess.run(\n",
      "  File \"c:\\Users\\Simon.DESKTOP-JJ3ICI6\\AppData\\Local\\Programs\\Python\\Python310\\lib\\subprocess.py\", line 501, in run\n",
      "    with Popen(*popenargs, **kwargs) as process:\n",
      "  File \"c:\\Users\\Simon.DESKTOP-JJ3ICI6\\AppData\\Local\\Programs\\Python\\Python310\\lib\\subprocess.py\", line 966, in __init__\n",
      "    self._execute_child(args, executable, preexec_fn, close_fds,\n",
      "  File \"c:\\Users\\Simon.DESKTOP-JJ3ICI6\\AppData\\Local\\Programs\\Python\\Python310\\lib\\subprocess.py\", line 1435, in _execute_child\n",
      "    hp, ht, pid, tid = _winapi.CreateProcess(executable, args,\n"
     ]
    }
   ],
   "source": [
    "path = \"graphs/graph_match2499719_team1609.pkl\"\n",
    "\n",
    "Z, node_order, G = get_graph_embedding(path, encoder, event_vocab, zone_vocab)\n",
    "\n",
    "clusters = cluster_graph_embedding(Z, n_clusters=5, random_state=42)\n",
    "\n",
    "print(clusters)"
   ]
  },
  {
   "cell_type": "markdown",
   "id": "7e7638f5",
   "metadata": {},
   "source": [
    "# Visualization"
   ]
  },
  {
   "cell_type": "code",
   "execution_count": 50,
   "id": "e980deda",
   "metadata": {},
   "outputs": [
    {
     "data": {
      "image/png": "[encoded data removed]",
      "text/plain": [
       "<Figure size 1200x800 with 1 Axes>"
      ]
     },
     "metadata": {},
     "output_type": "display_data"
    }
   ],
   "source": [
    "zt = ZoneTransformer()\n",
    "visualize_clusters(G, Z, clusters, zt)"
   ]
  },
  {
   "cell_type": "markdown",
   "id": "7da7cc77",
   "metadata": {},
   "source": [
    "### NMI"
   ]
  },
  {
   "cell_type": "code",
   "execution_count": 51,
   "id": "6d1c7168",
   "metadata": {},
   "outputs": [
    {
     "name": "stdout",
     "output_type": "stream",
     "text": [
      "Found 112 graphs\n",
      "\n",
      "Teams found:\n",
      "  Team 1609: 38 matches\n",
      "  Team 1625: 37 matches\n",
      "  Team 1612: 37 matches\n",
      "\n",
      "=== Processing Team 1609 ===\n",
      "Mean NMI: 0.4534, Std: 0.0650\n",
      "\n",
      "=== Processing Team 1625 ===\n",
      "Mean NMI: 0.4643, Std: 0.0766\n",
      "\n",
      "=== Processing Team 1612 ===\n",
      "Mean NMI: 0.4813, Std: 0.0685\n",
      "\n",
      "=== Overall NMI Summary ===\n",
      "Team 1609: Mean NMI = 0.4534, Std = 0.0650\n",
      "Team 1625: Mean NMI = 0.4643, Std = 0.0766\n",
      "Team 1612: Mean NMI = 0.4813, Std = 0.0685\n"
     ]
    }
   ],
   "source": [
    "import os\n",
    "import re\n",
    "import pickle\n",
    "import numpy as np\n",
    "from glob import glob\n",
    "from itertools import combinations\n",
    "from sklearn.cluster import KMeans\n",
    "from sklearn.metrics import normalized_mutual_info_score\n",
    "from sklearn.preprocessing import normalize\n",
    "\n",
    "# === 1. Find all graph files ===\n",
    "graph_files = sorted(glob('./graphs/*.pkl'))\n",
    "print(f\"Found {len(graph_files)} graphs\")\n",
    "\n",
    "# === 2. Group by team ===\n",
    "team_graphs = {}\n",
    "pattern = re.compile(r'team(\\d+)')\n",
    "\n",
    "for f in graph_files:\n",
    "    match = pattern.search(os.path.basename(f))\n",
    "    if match:\n",
    "        team_id = match.group(1)\n",
    "        team_graphs.setdefault(team_id, []).append(f)\n",
    "\n",
    "print(\"\\nTeams found:\")\n",
    "for team, files in team_graphs.items():\n",
    "    print(f\"  Team {team}: {len(files)} matches\")\n",
    "\n",
    "# === 3. Compute mean NMI per team ===\n",
    "team_nmi_summary = {}\n",
    "\n",
    "for team, files in team_graphs.items():\n",
    "    print(f\"\\n=== Processing Team {team} ===\")\n",
    "\n",
    "    cluster_labels = []\n",
    "\n",
    "    for file in sorted(files):\n",
    "        # with open(file, 'rb') as f:\n",
    "        #     G = pickle.load(f)\n",
    "\n",
    "        Z, node_order, G = get_graph_embedding(file, encoder, event_vocab, zone_vocab)\n",
    "\n",
    "        labels = cluster_graph_embedding(Z, 5, random.seed(42))\n",
    "\n",
    "        cluster_labels.append(labels)\n",
    "\n",
    "    # Compute pairwise NMI between matches of this team\n",
    "    nmi_scores = []\n",
    "    for (labels_i, labels_j) in combinations(cluster_labels, 2):\n",
    "        if len(labels_i) == len(labels_j):\n",
    "            nmi_scores.append(normalized_mutual_info_score(labels_i, labels_j))\n",
    "\n",
    "    # Store mean/std NMI\n",
    "    if nmi_scores:\n",
    "        mean_nmi = np.mean(nmi_scores)\n",
    "        std_nmi = np.std(nmi_scores)\n",
    "        team_nmi_summary[team] = (mean_nmi, std_nmi)\n",
    "        print(f\"Mean NMI: {mean_nmi:.4f}, Std: {std_nmi:.4f}\")\n",
    "    else:\n",
    "        print(\"Not enough comparable matches (different #nodes or only one match).\")\n",
    "\n",
    "# === 4. Print final summary ===\n",
    "print(\"\\n=== Overall NMI Summary ===\")\n",
    "for team, (mean_nmi, std_nmi) in team_nmi_summary.items():\n",
    "    print(f\"Team {team}: Mean NMI = {mean_nmi:.4f}, Std = {std_nmi:.4f}\")\n"
   ]
  }
 ],
 "metadata": {
  "kernelspec": {
   "display_name": "Python 3",
   "language": "python",
   "name": "python3"
  },
  "language_info": {
   "codemirror_mode": {
    "name": "ipython",
    "version": 3
   },
   "file_extension": ".py",
   "mimetype": "text/x-python",
   "name": "python",
   "nbconvert_exporter": "python",
   "pygments_lexer": "ipython3",
   "version": "3.10.0"
  }
 },
 "nbformat": 4,
 "nbformat_minor": 5
}
