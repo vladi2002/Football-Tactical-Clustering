{
 "cells": [
  {
   "cell_type": "markdown",
   "id": "ed516db4",
   "metadata": {},
   "source": [
    "Spectral Clustering"
   ]
  },
  {
   "cell_type": "code",
   "execution_count": 1,
   "id": "e3a0fcce",
   "metadata": {},
   "outputs": [],
   "source": [
    "import pickle\n",
    "import pandas as pd\n",
    "import numpy as np\n",
    "import matplotlib.pyplot as plt\n"
   ]
  },
  {
   "cell_type": "code",
   "execution_count": 2,
   "id": "b5c6376e",
   "metadata": {},
   "outputs": [
    {
     "name": "stdout",
     "output_type": "stream",
     "text": [
      "39\n",
      "{'event_count': 28, 'most_common_event': 'PASS', 'unique_players': 5, 'zone_name': 'OUTSIDE', 'role_distribution': array([0.2, 0.2, 0.6, 0. ])}\n",
      "293\n",
      "{'weight': 9, 'transition_frequency': 0.4090909090909091, 'most_common_event': 'PASS', 'start_zone_name': 'LEFT_WING_MID_THIRD_ATT', 'end_zone_name': 'LEFT_HALF_MID_THIRD_ATT'}\n"
     ]
    }
   ],
   "source": [
    "graph=pickle.load(open('./graphs/graph_match2499719_team1609.pkl','rb'))\n",
    "print(len(graph.nodes))\n",
    "print(graph.nodes[40])\n",
    "print(len(graph.edges))\n",
    "print(graph.edges[25, 26])"
   ]
  },
  {
   "cell_type": "markdown",
   "id": "deb22906",
   "metadata": {},
   "source": [
    "We have to encode all event types"
   ]
  },
  {
   "cell_type": "code",
   "execution_count": 3,
   "id": "5188e31c",
   "metadata": {},
   "outputs": [],
   "source": [
    "def encode_event_semantic(event_type):\n",
    "    \"\"\"Group events by semantic meaning\"\"\"\n",
    "    # Group related events\n",
    "    attacking_events = ['PASS', 'SHOT', 'CARRY', 'TAKE_ON']\n",
    "    defensive_events = ['CLEARANCE', 'INTERCEPTION', 'PRESSURE', 'RECOVERY', 'DUEL']\n",
    "    goalkeeper_events = ['GOALKEEPER']\n",
    "    disruption_events = ['FOUL_COMMITTED', 'CARD', 'MISCONTROL', 'BALL_OUT']\n",
    "    meta_events = ['FORMATION_CHANGE', 'SUBSTITUTION', 'PLAYER_ON', 'PLAYER_OFF']\n",
    "    \n",
    "    if event_type in attacking_events:\n",
    "        return [1, 0, 0, 0, 0, 0]  # Attacking\n",
    "    elif event_type in defensive_events:\n",
    "        return [0, 1, 0, 0, 0, 0]  # Defensive\n",
    "    elif event_type in goalkeeper_events:\n",
    "        return [0, 0, 1, 0, 0, 0]  # Goalkeeper\n",
    "    elif event_type in disruption_events:\n",
    "        return [0, 0, 0, 1, 0, 0]  # Disruption\n",
    "    elif event_type in meta_events:\n",
    "        return [0, 0, 0, 0, 1, 0]  # Meta\n",
    "    else:\n",
    "        return [0, 0, 0, 0, 0, 1]  # Generic/Other"
   ]
  },
  {
   "cell_type": "code",
   "execution_count": 29,
   "id": "de3d33e3",
   "metadata": {},
   "outputs": [],
   "source": [
    "from spectral_build_vizualization import discover_tactical_patterns\n",
    "\n",
    "labels, nodes = discover_tactical_patterns(graph, k=5)"
   ]
  },
  {
   "cell_type": "markdown",
   "id": "f552a90f",
   "metadata": {},
   "source": [
    "Louvaine"
   ]
  },
  {
   "cell_type": "code",
   "execution_count": 30,
   "id": "58706a74",
   "metadata": {},
   "outputs": [],
   "source": [
    "import community as community_louvain  # pip install python-louvain\n",
    "import numpy as np\n",
    "import networkx as nx\n",
    "\n",
    "graph_undirected = graph.to_undirected() if isinstance(graph, nx.DiGraph) else graph\n",
    "partition_louvain = community_louvain.best_partition(graph_undirected)\n",
    "labels_louvain = np.array([partition_louvain[node] for node in graph.nodes()])"
   ]
  },
  {
   "cell_type": "markdown",
   "id": "0e60b8e2",
   "metadata": {},
   "source": [
    "## Silhouette score\n",
    "\n",
    "The silhouette value is a measure of how similar an object is to its own cluster (cohesion) compared to other clusters (separation). The silhouette value ranges from −1 to +1, where a high value indicates that the object is well matched to its own cluster and poorly matched to neighboring clusters. If most objects have a high value, then the clustering configuration is appropriate. If many points have a low or negative value, then the clustering configuration may have too many or too few clusters. "
   ]
  },
  {
   "cell_type": "code",
   "execution_count": 31,
   "id": "d6289fa3",
   "metadata": {},
   "outputs": [
    {
     "name": "stdout",
     "output_type": "stream",
     "text": [
      "0.06744593697943813\n"
     ]
    }
   ],
   "source": [
    "from sklearn.metrics import silhouette_score\n",
    "from sklearn.preprocessing import StandardScaler\n",
    "scalar = StandardScaler()\n",
    "node_features = []\n",
    "for node in graph.nodes():\n",
    "    \n",
    "    node_data = graph.nodes[node]\n",
    "    \n",
    "    # Create feature vector from the node attributes\n",
    "    features = [\n",
    "        node_data['event_count'],\n",
    "        node_data['unique_players'],\n",
    "        *encode_event_semantic(node_data['most_common_event']),\n",
    "        *node_data['role_distribution']  # This unpacks the 4 values\n",
    "    ]\n",
    "    node_features.append(features)\n",
    "\n",
    "node_features = np.array(node_features)\n",
    "# Standardize features so as to have mean=0 and variance=1 \n",
    "# Otherwise, features with larger scales can dominate the distance calculations\n",
    "node_features = scalar.fit_transform(node_features)\n",
    "score = silhouette_score(node_features, np.array(labels))\n",
    "print(score)"
   ]
  },
  {
   "cell_type": "code",
   "execution_count": 32,
   "id": "a87dc2fd",
   "metadata": {},
   "outputs": [
    {
     "name": "stdout",
     "output_type": "stream",
     "text": [
      "-0.1579616440776901\n"
     ]
    }
   ],
   "source": [
    "\n",
    "score_louvain = silhouette_score(node_features, labels_louvain)\n",
    "print(score_louvain)"
   ]
  },
  {
   "cell_type": "markdown",
   "id": "352d2ed3",
   "metadata": {},
   "source": [
    "## Calinski–Harabasz (CH) Index\n",
    "Defined as the ratio of the between-cluster separation (BCSS) to the within-cluster dispersion (WCSS), normalized by their number of degrees of freedom. BCSS (Between-Cluster Sum of Squares) is the weighted sum of squared Euclidean distances between each cluster centroid (mean) and the overall data centroid (mean). WCSS (Within-Cluster Sum of Squares) is the sum of squared Euclidean distances between the data points and their respective cluster centroids.\n",
    "\n",
    "- < 10: Very poor separation\n",
    "- 10-50: Poor to moderate separation\n",
    "- 50-100: Moderate separation\n",
    "- 100+: Good separation\n",
    "- 1000+: Excellent separation"
   ]
  },
  {
   "cell_type": "code",
   "execution_count": 33,
   "id": "09a1ba92",
   "metadata": {},
   "outputs": [
    {
     "name": "stdout",
     "output_type": "stream",
     "text": [
      "4.845613062537386\n"
     ]
    }
   ],
   "source": [
    "from sklearn.metrics import calinski_harabasz_score\n",
    "from sklearn.preprocessing import StandardScaler\n",
    "scalar = StandardScaler()\n",
    "labels, nodes = discover_tactical_patterns(graph, k=4)\n",
    "node_features = []\n",
    "for node in graph.nodes():\n",
    "    \n",
    "    node_data = graph.nodes[node]\n",
    "    \n",
    "    # Create feature vector from the node attributes\n",
    "    features = [\n",
    "        node_data['event_count'],\n",
    "        node_data['unique_players'],\n",
    "        *encode_event_semantic(node_data['most_common_event']),\n",
    "        *node_data['role_distribution']  # This unpacks the 4 values\n",
    "    ]\n",
    "    node_features.append(features)\n",
    "\n",
    "node_features = np.array(node_features)\n",
    "node_features = scalar.fit_transform(node_features)\n",
    "ch_score = calinski_harabasz_score(node_features, np.array(labels))\n",
    "print(ch_score)"
   ]
  },
  {
   "cell_type": "code",
   "execution_count": 34,
   "id": "eab58f9d",
   "metadata": {},
   "outputs": [
    {
     "name": "stdout",
     "output_type": "stream",
     "text": [
      "2.0995861384397916\n"
     ]
    }
   ],
   "source": [
    "ch_score_louvain = calinski_harabasz_score(node_features, labels_louvain)\n",
    "print(ch_score_louvain)"
   ]
  },
  {
   "cell_type": "markdown",
   "id": "f9e6b53b",
   "metadata": {},
   "source": [
    "## Davies Bouldin Score"
   ]
  },
  {
   "cell_type": "markdown",
   "id": "54ab83be",
   "metadata": {},
   "source": [
    "| **DB Score** | **Interpretation** |\n",
    "|:-------------:|:------------------|\n",
    "| < 0.5 | Excellent separation and compactness |\n",
    "| 0.5 – 1.0 | Good clustering, well-separated |\n",
    "| 1.0 – 2.0 | Moderate clustering quality |\n",
    "| > 2.0 | Poor clustering — clusters overlap or are not compact |\n"
   ]
  },
  {
   "cell_type": "code",
   "execution_count": 35,
   "id": "cd94976e",
   "metadata": {},
   "outputs": [
    {
     "name": "stdout",
     "output_type": "stream",
     "text": [
      "2.179876664409763\n"
     ]
    }
   ],
   "source": [
    "from sklearn.metrics import davies_bouldin_score\n",
    "from sklearn.preprocessing import StandardScaler\n",
    "scalar = StandardScaler()\n",
    "labels, nodes = discover_tactical_patterns(graph, k=4)\n",
    "node_features = []\n",
    "for node in graph.nodes():\n",
    "    \n",
    "    node_data = graph.nodes[node]\n",
    "    \n",
    "    # Create feature vector from the node attributes\n",
    "    features = [\n",
    "        node_data['event_count'],\n",
    "        node_data['unique_players'],\n",
    "        *encode_event_semantic(node_data['most_common_event']),\n",
    "        *node_data['role_distribution']  # This unpacks the 4 values\n",
    "    ]\n",
    "    node_features.append(features)\n",
    "\n",
    "node_features = np.array(node_features)\n",
    "node_features = scalar.fit_transform(node_features)\n",
    "db_score = davies_bouldin_score(node_features, np.array(labels))\n",
    "print(db_score)"
   ]
  },
  {
   "cell_type": "code",
   "execution_count": 36,
   "id": "2dd84b66",
   "metadata": {},
   "outputs": [
    {
     "name": "stdout",
     "output_type": "stream",
     "text": [
      "2.6276015904342236\n"
     ]
    }
   ],
   "source": [
    "db_score_louvain = davies_bouldin_score(node_features, labels_louvain)\n",
    "print(db_score_louvain)"
   ]
  },
  {
   "cell_type": "markdown",
   "id": "6c4b55e9",
   "metadata": {},
   "source": [
    "## ANOVA (Analysis of Variance) \n",
    "Tests whether cluster means differ significantly across features. It tells you if your clusters are actually separating the data in meaningful ways. What ANOVA Tells You:\n",
    "\n",
    "- High F-statistic, Low p-value (<0.05): Feature significantly differs between clusters\n",
    "- Low F-statistic, High p-value (>0.05): Feature doesn't help distinguish clusters"
   ]
  },
  {
   "cell_type": "code",
   "execution_count": 37,
   "id": "20658747",
   "metadata": {},
   "outputs": [
    {
     "name": "stdout",
     "output_type": "stream",
     "text": [
      "       Feature  F-statistic      p-value Significant\n",
      "   event_count    23.074817 2.026728e-08         Yes\n",
      "unique_players    20.636997 7.111502e-08         Yes\n",
      "        role_2     4.322023 1.078288e-02         Yes\n",
      "    semantic_0     2.503939 7.516454e-02          No\n",
      "    semantic_1     2.503939 7.516454e-02          No\n",
      "        role_3     2.106765 1.170313e-01          No\n",
      "        role_0     1.929914 1.427285e-01          No\n",
      "        role_1     1.681839 1.886984e-01          No\n",
      "    semantic_2          NaN          NaN          No\n",
      "    semantic_3          NaN          NaN          No\n",
      "    semantic_4          NaN          NaN          No\n",
      "    semantic_5          NaN          NaN          No\n",
      "\n",
      "3/12 features significantly differ between clusters\n"
     ]
    },
    {
     "name": "stderr",
     "output_type": "stream",
     "text": [
      "/opt/anaconda3/envs/graphml/lib/python3.13/site-packages/scipy/stats/_axis_nan_policy.py:579: ConstantInputWarning: Each of the input arrays is constant; the F statistic is not defined or infinite\n",
      "  res = hypotest_fun_out(*samples, **kwds)\n"
     ]
    }
   ],
   "source": [
    "from scipy import stats\n",
    "from sklearn.preprocessing import StandardScaler\n",
    "scalar = StandardScaler()\n",
    "labels, nodes = discover_tactical_patterns(graph, k=4)\n",
    "node_features = []\n",
    "for node in graph.nodes():\n",
    "    \n",
    "    node_data = graph.nodes[node]\n",
    "    \n",
    "    # Create feature vector from the node attributes\n",
    "    features = [\n",
    "        node_data['event_count'],\n",
    "        node_data['unique_players'],\n",
    "        *encode_event_semantic(node_data['most_common_event']),\n",
    "        *node_data['role_distribution']  # This unpacks the 4 values\n",
    "    ]\n",
    "    node_features.append(features)\n",
    "\n",
    "node_features = np.array(node_features)\n",
    "node_features = scalar.fit_transform(node_features)\n",
    "\n",
    "def anova_test_clustering(features, labels, feature_names=None):\n",
    "    \"\"\"\n",
    "    Perform ANOVA test for each feature across clusters\n",
    "    \n",
    "    Args:\n",
    "        features: numpy array (n_samples, n_features)\n",
    "        labels: cluster labels\n",
    "        feature_names: list of feature names\n",
    "    \n",
    "    Returns:\n",
    "        DataFrame with F-statistics and p-values\n",
    "    \"\"\"\n",
    "    n_features = features.shape[1]\n",
    "    \n",
    "    if feature_names is None:\n",
    "        feature_names = [f'Feature_{i}' for i in range(n_features)]\n",
    "    \n",
    "    results = []\n",
    "    \n",
    "    for i in range(n_features):\n",
    "        # Split feature values by cluster\n",
    "        groups = [features[labels == cluster, i] for cluster in np.unique(labels)]\n",
    "        \n",
    "        # Perform one-way ANOVA\n",
    "        f_stat, p_value = stats.f_oneway(*groups)\n",
    "        \n",
    "        results.append({\n",
    "            'Feature': feature_names[i],\n",
    "            'F-statistic': f_stat,\n",
    "            'p-value': p_value,\n",
    "            'Significant': 'Yes' if p_value < 0.05 else 'No'\n",
    "        })\n",
    "    \n",
    "    return pd.DataFrame(results).sort_values('F-statistic', ascending=False)\n",
    "\n",
    "feature_names = (\n",
    "    ['event_count', 'unique_players'] + \n",
    "    [f'semantic_{i}' for i in range(6)] + \n",
    "    [f'role_{i}' for i in range(4)]\n",
    ")\n",
    "\n",
    "anova_results = anova_test_clustering(node_features, labels, feature_names)\n",
    "print(anova_results.to_string(index=False))\n",
    "\n",
    "# Summary\n",
    "significant_features = anova_results[anova_results['Significant'] == 'Yes']\n",
    "print(f\"\\n{len(significant_features)}/{len(feature_names)} features significantly differ between clusters\")"
   ]
  },
  {
   "cell_type": "code",
   "execution_count": 38,
   "id": "a162f84a",
   "metadata": {},
   "outputs": [
    {
     "name": "stdout",
     "output_type": "stream",
     "text": [
      "       Feature  F-statistic  p-value Significant\n",
      "   event_count     3.630442 0.014411         Yes\n",
      "unique_players     3.376068 0.019795         Yes\n",
      "        role_2     2.091791 0.103482          No\n",
      "        role_0     1.873603 0.137707          No\n",
      "        role_3     1.735801 0.164894          No\n",
      "    semantic_0     1.550968 0.209744          No\n",
      "    semantic_1     1.550968 0.209744          No\n",
      "        role_1     1.439084 0.242376          No\n",
      "    semantic_2          NaN      NaN          No\n",
      "    semantic_3          NaN      NaN          No\n",
      "    semantic_4          NaN      NaN          No\n",
      "    semantic_5          NaN      NaN          No\n",
      "\n",
      "2/12 features significantly differ between Louvain clusters\n"
     ]
    },
    {
     "name": "stderr",
     "output_type": "stream",
     "text": [
      "/opt/anaconda3/envs/graphml/lib/python3.13/site-packages/scipy/stats/_axis_nan_policy.py:579: ConstantInputWarning: Each of the input arrays is constant; the F statistic is not defined or infinite\n",
      "  res = hypotest_fun_out(*samples, **kwds)\n"
     ]
    }
   ],
   "source": [
    "anova_results_louvain = anova_test_clustering(node_features, labels_louvain, feature_names)\n",
    "print(anova_results_louvain.to_string(index=False))\n",
    "# Summary\n",
    "significant_features_louvain = anova_results_louvain[anova_results_louvain['Significant'] == 'Yes']\n",
    "print(f\"\\n{len(significant_features_louvain)}/{len(feature_names)} features significantly differ between Louvain clusters\")"
   ]
  },
  {
   "cell_type": "markdown",
   "id": "89d5e37f",
   "metadata": {},
   "source": [
    "## Modularity\n",
    "\n",
    "Modularity measures how well a network is divided into communities/clusters. It compares the number of edges within clusters vs what you'd expect in a random network.\n",
    "\n",
    "Range: -1 to 1\n",
    "\n",
    "- \\> 0.3: Good community structure\n",
    "- \\> 0.5: Strong community structure\n",
    "- \\> 0.7: Very strong community structure\n",
    "- < 0.3: Weak or no community structure\n",
    "Negative: Worse than random\n",
    "\n",
    "Key difference: Unlike Silhouette/CH, modularity uses the graph structure (edges), not just node features!"
   ]
  },
  {
   "cell_type": "code",
   "execution_count": 39,
   "id": "bd63640e",
   "metadata": {},
   "outputs": [
    {
     "name": "stdout",
     "output_type": "stream",
     "text": [
      "Modularity Score: 0.13335798625742812\n"
     ]
    }
   ],
   "source": [
    "import networkx as nx\n",
    "\n",
    "labels, nodes = discover_tactical_patterns(graph, k=4)\n",
    "\n",
    "def calculate_modularity(graph, labels):\n",
    "    \"\"\"\n",
    "    Calculate modularity for a clustering on a graph\n",
    "    \n",
    "    Args:\n",
    "        graph: NetworkX graph (DiGraph or Graph)\n",
    "        labels: cluster assignment for each node\n",
    "    \n",
    "    Returns:\n",
    "        modularity score\n",
    "    \"\"\"\n",
    "    # Create communities from labels\n",
    "    # NetworkX expects a list of sets, one set per community\n",
    "    unique_labels = np.unique(labels)\n",
    "    node_list = list(graph.nodes())\n",
    "    \n",
    "    communities = []\n",
    "    for label in unique_labels:\n",
    "        # Get nodes in this cluster\n",
    "        cluster_nodes = [node_list[i] for i, l in enumerate(labels) if l == label]\n",
    "        communities.append(set(cluster_nodes))\n",
    "    \n",
    "    # Calculate modularity\n",
    "    modularity = nx.community.modularity(graph, communities)\n",
    "    \n",
    "    return modularity\n",
    "\n",
    "modularity_score = calculate_modularity(graph, labels)\n",
    "print(f\"Modularity Score: {modularity_score}\")"
   ]
  },
  {
   "cell_type": "code",
   "execution_count": 40,
   "id": "681cc275",
   "metadata": {},
   "outputs": [
    {
     "name": "stdout",
     "output_type": "stream",
     "text": [
      "Louvain Modularity Score: 0.37729293693724686\n"
     ]
    }
   ],
   "source": [
    "modularity_score_louvain = calculate_modularity(graph, labels_louvain)\n",
    "print(f\"Louvain Modularity Score: {modularity_score_louvain}\")"
   ]
  },
  {
   "cell_type": "markdown",
   "id": "357bf07a",
   "metadata": {},
   "source": [
    "# More graph-based metrics\n",
    "### Conductance : Measures cluster boundary quality (lower = tighter clusters)\n",
    "\n",
    "Formula: boundary_edges / (internal_edges + boundary_edges)\n",
    "- Interpretation: < 0.3 is good, < 0.1 is excellent\n",
    "\n",
    "### Coverage: Fraction of edges within clusters (higher = better)\n",
    "\n",
    "Formula: internal_edges / total_edges\n",
    "- Interpretation: > 0.7 is good, > 0.9 is excellent\n",
    "\n",
    "\n",
    "### Internal Edge Density: Average density within clusters\n",
    "\n",
    "Shows how tightly connected nodes are within their clusters\n",
    "Higher values indicate more cohesive clusters"
   ]
  },
  {
   "cell_type": "code",
   "execution_count": 41,
   "id": "18aa4f49",
   "metadata": {},
   "outputs": [],
   "source": [
    "def compute_conductance(graph, labels):\n",
    "    \"\"\"Compute conductance for each cluster (lower is better)\"\"\"\n",
    "    node_list = list(graph.nodes())\n",
    "    conductances = []\n",
    "    \n",
    "    for label in np.unique(labels):\n",
    "        cluster_nodes = set([node_list[i] for i, l in enumerate(labels) if l == label])\n",
    "        \n",
    "        # Count edges within and across cluster boundary\n",
    "        internal_edges = 0\n",
    "        boundary_edges = 0\n",
    "        \n",
    "        for u, v in graph.edges():\n",
    "            if u in cluster_nodes and v in cluster_nodes:\n",
    "                internal_edges += 1\n",
    "            elif u in cluster_nodes or v in cluster_nodes:\n",
    "                boundary_edges += 1\n",
    "        \n",
    "        # Conductance = boundary / min(internal, external)\n",
    "        if internal_edges + boundary_edges > 0:\n",
    "            conductance = boundary_edges / (internal_edges + boundary_edges)\n",
    "        else:\n",
    "            conductance = 1.0\n",
    "        \n",
    "        conductances.append(conductance)\n",
    "    \n",
    "    return np.mean(conductances)\n",
    "\n"
   ]
  },
  {
   "cell_type": "code",
   "execution_count": 42,
   "id": "b9ad6205",
   "metadata": {},
   "outputs": [],
   "source": [
    "def compute_coverage(graph, labels):\n",
    "    \"\"\"Compute coverage: fraction of edges within clusters\"\"\"\n",
    "    node_list = list(graph.nodes())\n",
    "    total_edges = graph.number_of_edges()\n",
    "    internal_edges = 0\n",
    "    \n",
    "    for u, v in graph.edges():\n",
    "        u_idx = node_list.index(u)\n",
    "        v_idx = node_list.index(v)\n",
    "        if labels[u_idx] == labels[v_idx]:\n",
    "            internal_edges += 1\n",
    "    \n",
    "    return internal_edges / total_edges if total_edges > 0 else 0"
   ]
  },
  {
   "cell_type": "code",
   "execution_count": 43,
   "id": "ef9c9b50",
   "metadata": {},
   "outputs": [],
   "source": [
    "def compute_edge_density_ratio(graph, labels):\n",
    "    \"\"\"Ratio of internal to external edge density\"\"\"\n",
    "    node_list = list(graph.nodes())\n",
    "    \n",
    "    internal_density = []\n",
    "    for label in np.unique(labels):\n",
    "        cluster_nodes = [node_list[i] for i, l in enumerate(labels) if l == label]\n",
    "        if len(cluster_nodes) > 1:\n",
    "            subgraph = graph.subgraph(cluster_nodes)\n",
    "            internal_density.append(nx.density(subgraph))\n",
    "    \n",
    "    return np.mean(internal_density) if internal_density else 0"
   ]
  },
  {
   "cell_type": "code",
   "execution_count": 44,
   "id": "7b2cf6be",
   "metadata": {},
   "outputs": [
    {
     "name": "stdout",
     "output_type": "stream",
     "text": [
      "Conductance: 0.7937416585563241\n",
      "Coverage: 0.35494880546075086\n",
      "Edge Density Ratio: 0.34346764346764347\n"
     ]
    }
   ],
   "source": [
    "conductance = compute_conductance(graph, labels)\n",
    "coverage = compute_coverage(graph, labels)\n",
    "edge_density = compute_edge_density_ratio(graph, labels)\n",
    "\n",
    "print(f\"Conductance: {conductance}\")\n",
    "print(f\"Coverage: {coverage}\")\n",
    "print(f\"Edge Density Ratio: {edge_density}\")"
   ]
  },
  {
   "cell_type": "code",
   "execution_count": 45,
   "id": "6e264473",
   "metadata": {},
   "outputs": [
    {
     "name": "stdout",
     "output_type": "stream",
     "text": [
      "Louvain Conductance: 0.6772851142834373\n",
      "Louvain Coverage: 0.5460750853242321\n",
      "Louvain Edge Density Ratio: 0.742051282051282\n"
     ]
    }
   ],
   "source": [
    "conductance_louvain = compute_conductance(graph, labels_louvain)\n",
    "coverage_louvain = compute_coverage(graph, labels_louvain)\n",
    "edge_density_louvain = compute_edge_density_ratio(graph, labels_louvain)\n",
    "print(f\"Louvain Conductance: {conductance_louvain}\")\n",
    "print(f\"Louvain Coverage: {coverage_louvain}\")\n",
    "print(f\"Louvain Edge Density Ratio: {edge_density_louvain}\")"
   ]
  },
  {
   "cell_type": "markdown",
   "id": "2194c4d6",
   "metadata": {},
   "source": [
    "## Pairwise Comparisons\n",
    "\n",
    "Using normalised mutual information and adjusted random index\n",
    "\n",
    "### Normalized Mutual Information (NMI): Measures agreement between two clusterings\n",
    "\n",
    "Range: 0-1 (1 = perfect agreement)\n",
    "\n",
    "Use: Compare how similar different methods' results are\n",
    "\n",
    "### Adjusted Rand Index (ARI):\n",
    "\n",
    "Range: -1 to 1 (1 = perfect agreement, 0 = random)\n",
    "\n",
    "Adjusts for chance agreement"
   ]
  },
  {
   "cell_type": "code",
   "execution_count": 46,
   "id": "d4907278",
   "metadata": {},
   "outputs": [],
   "source": [
    "from sklearn.metrics import normalized_mutual_info_score, adjusted_rand_score"
   ]
  },
  {
   "cell_type": "code",
   "execution_count": 47,
   "id": "f2d397a2",
   "metadata": {},
   "outputs": [
    {
     "name": "stdout",
     "output_type": "stream",
     "text": [
      "NMI between Spectral and Louvain: 0.16859083378414486\n",
      "ARI between Spectral and Louvain: 0.03137254901960784\n"
     ]
    }
   ],
   "source": [
    "# Compare spectral clustering with Louvain\n",
    "nmi = normalized_mutual_info_score(labels, labels_louvain)\n",
    "ari = adjusted_rand_score(labels, labels_louvain)\n",
    "print(f\"NMI between Spectral and Louvain: {nmi}\")\n",
    "print(f\"ARI between Spectral and Louvain: {ari}\")\n"
   ]
  },
  {
   "cell_type": "markdown",
   "id": "6cf12f4b",
   "metadata": {},
   "source": [
    "## Node2Vec"
   ]
  },
  {
   "cell_type": "code",
   "execution_count": null,
   "id": "b9c7ef09",
   "metadata": {},
   "outputs": [
    {
     "name": "stderr",
     "output_type": "stream",
     "text": [
      "Computing transition probabilities: 100%|██████████| 39/39 [00:00<00:00, 7482.98it/s]\n",
      "Generating walks (CPU: 1): 100%|██████████| 200/200 [00:00<00:00, 1635.64it/s]\n"
     ]
    },
    {
     "name": "stdout",
     "output_type": "stream",
     "text": [
      "✓ Clustered zones into 5 groups\n"
     ]
    }
   ],
   "source": [
    "from node2vec import Node2Vec\n",
    "from sklearn.cluster import KMeans\n",
    "\n",
    "node2vec = Node2Vec(\n",
    "    graph,\n",
    "    dimensions=64,        # Embedding size\n",
    "    walk_length=30,       # Length of random walks\n",
    "    num_walks=200,        # Number of walks per node\n",
    "    p=1.0,                # Return parameter (likelihood of returning to previous node)\n",
    "    q=1.0,                # In-out parameter (BFS vs DFS)\n",
    "    workers=1,            # Set to 1 to avoid multiprocessing issues\n",
    "    quiet=False           # Show progress\n",
    ")\n",
    "\n",
    "model = node2vec.fit(\n",
    "    window=10,            # Context window size\n",
    "    min_count=1,          # Minimum word count\n",
    "    batch_words=4,        # Batch size\n",
    "    epochs=10             # Training epochs\n",
    ")\n",
    "\n",
    "embeddings = {}\n",
    "for node in graph.nodes():\n",
    "    try:\n",
    "        embeddings[node] = model.wv[str(node)]\n",
    "    except KeyError:\n",
    "        # Handle isolated nodes\n",
    "        embeddings[node] = np.zeros(64)\n",
    "\n",
    "nodes = sorted(embeddings.keys())\n",
    "X = np.array([embeddings[node] for node in nodes])\n",
    "\n",
    "# Perform K-means clustering\n",
    "n_clusters = 5\n",
    "kmeans = KMeans(n_clusters=n_clusters, random_state=42, n_init=10)\n",
    "node2vec_labels = kmeans.fit_predict(X)\n",
    "\n",
    "\n",
    "print(f\"✓ Clustered zones into {n_clusters} groups\")\n"
   ]
  },
  {
   "cell_type": "code",
   "execution_count": 50,
   "id": "4dcc0f28",
   "metadata": {},
   "outputs": [
    {
     "name": "stdout",
     "output_type": "stream",
     "text": [
      "-0.24008584847754988\n"
     ]
    }
   ],
   "source": [
    "score_node2vec = silhouette_score(node_features, np.array(node2vec_labels))\n",
    "print(score_node2vec)"
   ]
  },
  {
   "cell_type": "code",
   "execution_count": 52,
   "id": "0d175a15",
   "metadata": {},
   "outputs": [
    {
     "name": "stdout",
     "output_type": "stream",
     "text": [
      "score=0.419 | dims=128 walk=20 nwalks=50 p=0.5 q=1.0 win=5 ep=10 k=5\n"
     ]
    },
    {
     "name": "stderr",
     "output_type": "stream",
     "text": [
      "Exception ignored in: 'gensim.models.word2vec_inner.our_dot_float'\n"
     ]
    },
    {
     "name": "stdout",
     "output_type": "stream",
     "text": [
      "score=0.286 | dims=128 walk=20 nwalks=50 p=0.5 q=1.0 win=5 ep=20 k=5\n",
      "score=0.392 | dims=128 walk=20 nwalks=50 p=0.5 q=1.0 win=10 ep=10 k=5\n",
      "score=0.279 | dims=128 walk=20 nwalks=50 p=0.5 q=1.0 win=10 ep=20 k=5\n",
      "score=0.439 | dims=128 walk=20 nwalks=50 p=0.5 q=2.0 win=5 ep=10 k=5\n",
      "score=0.311 | dims=128 walk=20 nwalks=50 p=0.5 q=2.0 win=5 ep=20 k=5\n",
      "score=0.434 | dims=128 walk=20 nwalks=50 p=0.5 q=2.0 win=10 ep=10 k=5\n",
      "score=0.331 | dims=128 walk=20 nwalks=50 p=0.5 q=2.0 win=10 ep=20 k=5\n",
      "score=0.338 | dims=128 walk=20 nwalks=50 p=0.5 q=4.0 win=5 ep=10 k=5\n",
      "score=0.270 | dims=128 walk=20 nwalks=50 p=0.5 q=4.0 win=5 ep=20 k=5\n",
      "score=0.354 | dims=128 walk=20 nwalks=50 p=0.5 q=4.0 win=10 ep=10 k=5\n"
     ]
    },
    {
     "name": "stderr",
     "output_type": "stream",
     "text": [
      "Exception ignored in: 'gensim.models.word2vec_inner.our_dot_float'\n"
     ]
    },
    {
     "name": "stdout",
     "output_type": "stream",
     "text": [
      "score=0.259 | dims=128 walk=20 nwalks=50 p=0.5 q=4.0 win=10 ep=20 k=5\n",
      "score=0.465 | dims=128 walk=20 nwalks=50 p=1.0 q=1.0 win=5 ep=10 k=5\n",
      "score=0.332 | dims=128 walk=20 nwalks=50 p=1.0 q=1.0 win=5 ep=20 k=5\n",
      "score=0.439 | dims=128 walk=20 nwalks=50 p=1.0 q=1.0 win=10 ep=10 k=5\n",
      "score=0.293 | dims=128 walk=20 nwalks=50 p=1.0 q=1.0 win=10 ep=20 k=5\n",
      "score=0.415 | dims=128 walk=20 nwalks=50 p=1.0 q=2.0 win=5 ep=10 k=5\n",
      "score=0.286 | dims=128 walk=20 nwalks=50 p=1.0 q=2.0 win=5 ep=20 k=5\n",
      "score=0.389 | dims=128 walk=20 nwalks=50 p=1.0 q=2.0 win=10 ep=10 k=5\n",
      "score=0.301 | dims=128 walk=20 nwalks=50 p=1.0 q=2.0 win=10 ep=20 k=5\n",
      "score=0.450 | dims=128 walk=20 nwalks=50 p=1.0 q=4.0 win=5 ep=10 k=5\n"
     ]
    },
    {
     "name": "stderr",
     "output_type": "stream",
     "text": [
      "Exception ignored in: 'gensim.models.word2vec_inner.our_dot_float'\n"
     ]
    },
    {
     "name": "stdout",
     "output_type": "stream",
     "text": [
      "score=0.282 | dims=128 walk=20 nwalks=50 p=1.0 q=4.0 win=5 ep=20 k=5\n",
      "score=0.417 | dims=128 walk=20 nwalks=50 p=1.0 q=4.0 win=10 ep=10 k=5\n",
      "score=0.336 | dims=128 walk=20 nwalks=50 p=1.0 q=4.0 win=10 ep=20 k=5\n",
      "score=0.546 | dims=128 walk=20 nwalks=50 p=2.0 q=1.0 win=5 ep=10 k=5\n",
      "score=0.366 | dims=128 walk=20 nwalks=50 p=2.0 q=1.0 win=5 ep=20 k=5\n",
      "score=0.506 | dims=128 walk=20 nwalks=50 p=2.0 q=1.0 win=10 ep=10 k=5\n",
      "score=0.335 | dims=128 walk=20 nwalks=50 p=2.0 q=1.0 win=10 ep=20 k=5\n",
      "score=0.492 | dims=128 walk=20 nwalks=50 p=2.0 q=2.0 win=5 ep=10 k=5\n",
      "score=0.332 | dims=128 walk=20 nwalks=50 p=2.0 q=2.0 win=5 ep=20 k=5\n",
      "score=0.424 | dims=128 walk=20 nwalks=50 p=2.0 q=2.0 win=10 ep=10 k=5\n",
      "score=0.370 | dims=128 walk=20 nwalks=50 p=2.0 q=2.0 win=10 ep=20 k=5\n",
      "score=0.504 | dims=128 walk=20 nwalks=50 p=2.0 q=4.0 win=5 ep=10 k=5\n",
      "score=0.341 | dims=128 walk=20 nwalks=50 p=2.0 q=4.0 win=5 ep=20 k=5\n",
      "score=0.469 | dims=128 walk=20 nwalks=50 p=2.0 q=4.0 win=10 ep=10 k=5\n",
      "score=0.350 | dims=128 walk=20 nwalks=50 p=2.0 q=4.0 win=10 ep=20 k=5\n",
      "score=0.300 | dims=128 walk=20 nwalks=100 p=0.5 q=1.0 win=5 ep=10 k=5\n",
      "score=0.218 | dims=128 walk=20 nwalks=100 p=0.5 q=1.0 win=5 ep=20 k=5\n",
      "score=0.255 | dims=128 walk=20 nwalks=100 p=0.5 q=1.0 win=10 ep=10 k=5\n",
      "score=0.236 | dims=128 walk=20 nwalks=100 p=0.5 q=1.0 win=10 ep=20 k=5\n",
      "score=0.324 | dims=128 walk=20 nwalks=100 p=0.5 q=2.0 win=5 ep=10 k=5\n",
      "score=0.257 | dims=128 walk=20 nwalks=100 p=0.5 q=2.0 win=5 ep=20 k=5\n",
      "score=0.336 | dims=128 walk=20 nwalks=100 p=0.5 q=2.0 win=10 ep=10 k=5\n",
      "score=0.233 | dims=128 walk=20 nwalks=100 p=0.5 q=2.0 win=10 ep=20 k=5\n",
      "score=0.306 | dims=128 walk=20 nwalks=100 p=0.5 q=4.0 win=5 ep=10 k=5\n",
      "score=0.266 | dims=128 walk=20 nwalks=100 p=0.5 q=4.0 win=5 ep=20 k=5\n",
      "score=0.290 | dims=128 walk=20 nwalks=100 p=0.5 q=4.0 win=10 ep=10 k=5\n"
     ]
    },
    {
     "name": "stderr",
     "output_type": "stream",
     "text": [
      "Exception ignored in: 'gensim.models.word2vec_inner.our_dot_float'\n"
     ]
    },
    {
     "name": "stdout",
     "output_type": "stream",
     "text": [
      "score=0.253 | dims=128 walk=20 nwalks=100 p=0.5 q=4.0 win=10 ep=20 k=5\n",
      "score=0.343 | dims=128 walk=20 nwalks=100 p=1.0 q=1.0 win=5 ep=10 k=5\n",
      "score=0.248 | dims=128 walk=20 nwalks=100 p=1.0 q=1.0 win=5 ep=20 k=5\n",
      "score=0.337 | dims=128 walk=20 nwalks=100 p=1.0 q=1.0 win=10 ep=10 k=5\n",
      "score=0.228 | dims=128 walk=20 nwalks=100 p=1.0 q=1.0 win=10 ep=20 k=5\n",
      "score=0.339 | dims=128 walk=20 nwalks=100 p=1.0 q=2.0 win=5 ep=10 k=5\n",
      "score=0.261 | dims=128 walk=20 nwalks=100 p=1.0 q=2.0 win=5 ep=20 k=5\n",
      "score=0.318 | dims=128 walk=20 nwalks=100 p=1.0 q=2.0 win=10 ep=10 k=5\n",
      "score=0.229 | dims=128 walk=20 nwalks=100 p=1.0 q=2.0 win=10 ep=20 k=5\n",
      "score=0.320 | dims=128 walk=20 nwalks=100 p=1.0 q=4.0 win=5 ep=10 k=5\n",
      "score=0.216 | dims=128 walk=20 nwalks=100 p=1.0 q=4.0 win=5 ep=20 k=5\n",
      "score=0.343 | dims=128 walk=20 nwalks=100 p=1.0 q=4.0 win=10 ep=10 k=5\n",
      "score=0.260 | dims=128 walk=20 nwalks=100 p=1.0 q=4.0 win=10 ep=20 k=5\n",
      "score=0.347 | dims=128 walk=20 nwalks=100 p=2.0 q=1.0 win=5 ep=10 k=5\n",
      "score=0.234 | dims=128 walk=20 nwalks=100 p=2.0 q=1.0 win=5 ep=20 k=5\n",
      "score=0.356 | dims=128 walk=20 nwalks=100 p=2.0 q=1.0 win=10 ep=10 k=5\n",
      "score=0.236 | dims=128 walk=20 nwalks=100 p=2.0 q=1.0 win=10 ep=20 k=5\n",
      "score=0.320 | dims=128 walk=20 nwalks=100 p=2.0 q=2.0 win=5 ep=10 k=5\n"
     ]
    },
    {
     "name": "stderr",
     "output_type": "stream",
     "text": [
      "Exception ignored in: 'gensim.models.word2vec_inner.our_dot_float'\n"
     ]
    },
    {
     "name": "stdout",
     "output_type": "stream",
     "text": [
      "score=0.262 | dims=128 walk=20 nwalks=100 p=2.0 q=2.0 win=5 ep=20 k=5\n",
      "score=0.310 | dims=128 walk=20 nwalks=100 p=2.0 q=2.0 win=10 ep=10 k=5\n",
      "score=0.242 | dims=128 walk=20 nwalks=100 p=2.0 q=2.0 win=10 ep=20 k=5\n",
      "score=0.365 | dims=128 walk=20 nwalks=100 p=2.0 q=4.0 win=5 ep=10 k=5\n",
      "score=0.280 | dims=128 walk=20 nwalks=100 p=2.0 q=4.0 win=5 ep=20 k=5\n",
      "score=0.351 | dims=128 walk=20 nwalks=100 p=2.0 q=4.0 win=10 ep=10 k=5\n",
      "score=0.238 | dims=128 walk=20 nwalks=100 p=2.0 q=4.0 win=10 ep=20 k=5\n",
      "score=0.252 | dims=128 walk=20 nwalks=200 p=0.5 q=1.0 win=5 ep=10 k=5\n",
      "score=0.204 | dims=128 walk=20 nwalks=200 p=0.5 q=1.0 win=5 ep=20 k=5\n",
      "score=0.213 | dims=128 walk=20 nwalks=200 p=0.5 q=1.0 win=10 ep=10 k=5\n",
      "score=0.202 | dims=128 walk=20 nwalks=200 p=0.5 q=1.0 win=10 ep=20 k=5\n",
      "score=0.264 | dims=128 walk=20 nwalks=200 p=0.5 q=2.0 win=5 ep=10 k=5\n",
      "score=0.228 | dims=128 walk=20 nwalks=200 p=0.5 q=2.0 win=5 ep=20 k=5\n",
      "score=0.275 | dims=128 walk=20 nwalks=200 p=0.5 q=2.0 win=10 ep=10 k=5\n",
      "score=0.214 | dims=128 walk=20 nwalks=200 p=0.5 q=2.0 win=10 ep=20 k=5\n",
      "score=0.232 | dims=128 walk=20 nwalks=200 p=0.5 q=4.0 win=5 ep=10 k=5\n",
      "score=0.235 | dims=128 walk=20 nwalks=200 p=0.5 q=4.0 win=5 ep=20 k=5\n",
      "score=0.267 | dims=128 walk=20 nwalks=200 p=0.5 q=4.0 win=10 ep=10 k=5\n",
      "score=0.219 | dims=128 walk=20 nwalks=200 p=0.5 q=4.0 win=10 ep=20 k=5\n"
     ]
    },
    {
     "name": "stderr",
     "output_type": "stream",
     "text": [
      "Exception ignored in: 'gensim.models.word2vec_inner.our_dot_float'\n"
     ]
    },
    {
     "name": "stdout",
     "output_type": "stream",
     "text": [
      "score=0.242 | dims=128 walk=20 nwalks=200 p=1.0 q=1.0 win=5 ep=10 k=5\n",
      "score=0.224 | dims=128 walk=20 nwalks=200 p=1.0 q=1.0 win=5 ep=20 k=5\n",
      "score=0.262 | dims=128 walk=20 nwalks=200 p=1.0 q=1.0 win=10 ep=10 k=5\n",
      "score=0.202 | dims=128 walk=20 nwalks=200 p=1.0 q=1.0 win=10 ep=20 k=5\n",
      "score=0.244 | dims=128 walk=20 nwalks=200 p=1.0 q=2.0 win=5 ep=10 k=5\n",
      "score=0.231 | dims=128 walk=20 nwalks=200 p=1.0 q=2.0 win=5 ep=20 k=5\n",
      "score=0.245 | dims=128 walk=20 nwalks=200 p=1.0 q=2.0 win=10 ep=10 k=5\n",
      "score=0.209 | dims=128 walk=20 nwalks=200 p=1.0 q=2.0 win=10 ep=20 k=5\n",
      "score=0.292 | dims=128 walk=20 nwalks=200 p=1.0 q=4.0 win=5 ep=10 k=5\n",
      "score=0.253 | dims=128 walk=20 nwalks=200 p=1.0 q=4.0 win=5 ep=20 k=5\n",
      "score=0.275 | dims=128 walk=20 nwalks=200 p=1.0 q=4.0 win=10 ep=10 k=5\n",
      "score=0.206 | dims=128 walk=20 nwalks=200 p=1.0 q=4.0 win=10 ep=20 k=5\n",
      "score=0.289 | dims=128 walk=20 nwalks=200 p=2.0 q=1.0 win=5 ep=10 k=5\n",
      "score=0.240 | dims=128 walk=20 nwalks=200 p=2.0 q=1.0 win=5 ep=20 k=5\n",
      "score=0.276 | dims=128 walk=20 nwalks=200 p=2.0 q=1.0 win=10 ep=10 k=5\n",
      "score=0.211 | dims=128 walk=20 nwalks=200 p=2.0 q=1.0 win=10 ep=20 k=5\n",
      "score=0.290 | dims=128 walk=20 nwalks=200 p=2.0 q=2.0 win=5 ep=10 k=5\n",
      "score=0.205 | dims=128 walk=20 nwalks=200 p=2.0 q=2.0 win=5 ep=20 k=5\n"
     ]
    },
    {
     "name": "stderr",
     "output_type": "stream",
     "text": [
      "Exception ignored in: 'gensim.models.word2vec_inner.our_dot_float'\n"
     ]
    },
    {
     "name": "stdout",
     "output_type": "stream",
     "text": [
      "score=0.274 | dims=128 walk=20 nwalks=200 p=2.0 q=2.0 win=10 ep=10 k=5\n",
      "score=0.207 | dims=128 walk=20 nwalks=200 p=2.0 q=2.0 win=10 ep=20 k=5\n",
      "score=0.284 | dims=128 walk=20 nwalks=200 p=2.0 q=4.0 win=5 ep=10 k=5\n",
      "score=0.253 | dims=128 walk=20 nwalks=200 p=2.0 q=4.0 win=5 ep=20 k=5\n"
     ]
    },
    {
     "name": "stderr",
     "output_type": "stream",
     "text": [
      "Exception ignored in: 'gensim.models.word2vec_inner.our_dot_float'\n"
     ]
    },
    {
     "name": "stdout",
     "output_type": "stream",
     "text": [
      "score=0.267 | dims=128 walk=20 nwalks=200 p=2.0 q=4.0 win=10 ep=10 k=5\n"
     ]
    },
    {
     "name": "stderr",
     "output_type": "stream",
     "text": [
      "Exception ignored in: 'gensim.models.word2vec_inner.our_dot_float'\n"
     ]
    },
    {
     "name": "stdout",
     "output_type": "stream",
     "text": [
      "score=0.229 | dims=128 walk=20 nwalks=200 p=2.0 q=4.0 win=10 ep=20 k=5\n",
      "score=0.358 | dims=128 walk=30 nwalks=50 p=0.5 q=1.0 win=5 ep=10 k=5\n",
      "score=0.252 | dims=128 walk=30 nwalks=50 p=0.5 q=1.0 win=5 ep=20 k=5\n",
      "score=0.290 | dims=128 walk=30 nwalks=50 p=0.5 q=1.0 win=10 ep=10 k=5\n",
      "score=0.242 | dims=128 walk=30 nwalks=50 p=0.5 q=1.0 win=10 ep=20 k=5\n",
      "score=0.357 | dims=128 walk=30 nwalks=50 p=0.5 q=2.0 win=5 ep=10 k=5\n",
      "score=0.258 | dims=128 walk=30 nwalks=50 p=0.5 q=2.0 win=5 ep=20 k=5\n",
      "score=0.365 | dims=128 walk=30 nwalks=50 p=0.5 q=2.0 win=10 ep=10 k=5\n",
      "score=0.261 | dims=128 walk=30 nwalks=50 p=0.5 q=2.0 win=10 ep=20 k=5\n",
      "score=0.370 | dims=128 walk=30 nwalks=50 p=0.5 q=4.0 win=5 ep=10 k=5\n",
      "score=0.284 | dims=128 walk=30 nwalks=50 p=0.5 q=4.0 win=5 ep=20 k=5\n",
      "score=0.313 | dims=128 walk=30 nwalks=50 p=0.5 q=4.0 win=10 ep=10 k=5\n",
      "score=0.272 | dims=128 walk=30 nwalks=50 p=0.5 q=4.0 win=10 ep=20 k=5\n",
      "score=0.392 | dims=128 walk=30 nwalks=50 p=1.0 q=1.0 win=5 ep=10 k=5\n",
      "score=0.257 | dims=128 walk=30 nwalks=50 p=1.0 q=1.0 win=5 ep=20 k=5\n",
      "score=0.367 | dims=128 walk=30 nwalks=50 p=1.0 q=1.0 win=10 ep=10 k=5\n",
      "score=0.277 | dims=128 walk=30 nwalks=50 p=1.0 q=1.0 win=10 ep=20 k=5\n",
      "score=0.427 | dims=128 walk=30 nwalks=50 p=1.0 q=2.0 win=5 ep=10 k=5\n",
      "score=0.310 | dims=128 walk=30 nwalks=50 p=1.0 q=2.0 win=5 ep=20 k=5\n",
      "score=0.325 | dims=128 walk=30 nwalks=50 p=1.0 q=2.0 win=10 ep=10 k=5\n",
      "score=0.308 | dims=128 walk=30 nwalks=50 p=1.0 q=2.0 win=10 ep=20 k=5\n",
      "score=0.361 | dims=128 walk=30 nwalks=50 p=1.0 q=4.0 win=5 ep=10 k=5\n",
      "score=0.294 | dims=128 walk=30 nwalks=50 p=1.0 q=4.0 win=5 ep=20 k=5\n",
      "score=0.378 | dims=128 walk=30 nwalks=50 p=1.0 q=4.0 win=10 ep=10 k=5\n",
      "score=0.247 | dims=128 walk=30 nwalks=50 p=1.0 q=4.0 win=10 ep=20 k=5\n",
      "score=0.504 | dims=128 walk=30 nwalks=50 p=2.0 q=1.0 win=5 ep=10 k=5\n",
      "score=0.320 | dims=128 walk=30 nwalks=50 p=2.0 q=1.0 win=5 ep=20 k=5\n",
      "score=0.427 | dims=128 walk=30 nwalks=50 p=2.0 q=1.0 win=10 ep=10 k=5\n",
      "score=0.287 | dims=128 walk=30 nwalks=50 p=2.0 q=1.0 win=10 ep=20 k=5\n",
      "score=0.482 | dims=128 walk=30 nwalks=50 p=2.0 q=2.0 win=5 ep=10 k=5\n",
      "score=0.325 | dims=128 walk=30 nwalks=50 p=2.0 q=2.0 win=5 ep=20 k=5\n",
      "score=0.506 | dims=128 walk=30 nwalks=50 p=2.0 q=2.0 win=10 ep=10 k=5\n",
      "score=0.314 | dims=128 walk=30 nwalks=50 p=2.0 q=2.0 win=10 ep=20 k=5\n",
      "score=0.472 | dims=128 walk=30 nwalks=50 p=2.0 q=4.0 win=5 ep=10 k=5\n",
      "score=0.333 | dims=128 walk=30 nwalks=50 p=2.0 q=4.0 win=5 ep=20 k=5\n",
      "score=0.423 | dims=128 walk=30 nwalks=50 p=2.0 q=4.0 win=10 ep=10 k=5\n",
      "score=0.317 | dims=128 walk=30 nwalks=50 p=2.0 q=4.0 win=10 ep=20 k=5\n",
      "score=0.256 | dims=128 walk=30 nwalks=100 p=0.5 q=1.0 win=5 ep=10 k=5\n",
      "score=0.220 | dims=128 walk=30 nwalks=100 p=0.5 q=1.0 win=5 ep=20 k=5\n",
      "score=0.258 | dims=128 walk=30 nwalks=100 p=0.5 q=1.0 win=10 ep=10 k=5\n",
      "score=0.214 | dims=128 walk=30 nwalks=100 p=0.5 q=1.0 win=10 ep=20 k=5\n",
      "score=0.296 | dims=128 walk=30 nwalks=100 p=0.5 q=2.0 win=5 ep=10 k=5\n"
     ]
    },
    {
     "name": "stderr",
     "output_type": "stream",
     "text": [
      "Exception ignored in: 'gensim.models.word2vec_inner.our_dot_float'\n"
     ]
    },
    {
     "name": "stdout",
     "output_type": "stream",
     "text": [
      "score=0.256 | dims=128 walk=30 nwalks=100 p=0.5 q=2.0 win=5 ep=20 k=5\n",
      "score=0.288 | dims=128 walk=30 nwalks=100 p=0.5 q=2.0 win=10 ep=10 k=5\n"
     ]
    },
    {
     "name": "stderr",
     "output_type": "stream",
     "text": [
      "Exception ignored in: 'gensim.models.word2vec_inner.our_dot_float'\n"
     ]
    },
    {
     "name": "stdout",
     "output_type": "stream",
     "text": [
      "score=0.229 | dims=128 walk=30 nwalks=100 p=0.5 q=2.0 win=10 ep=20 k=5\n",
      "score=0.281 | dims=128 walk=30 nwalks=100 p=0.5 q=4.0 win=5 ep=10 k=5\n",
      "score=0.272 | dims=128 walk=30 nwalks=100 p=0.5 q=4.0 win=5 ep=20 k=5\n",
      "score=0.292 | dims=128 walk=30 nwalks=100 p=0.5 q=4.0 win=10 ep=10 k=5\n",
      "score=0.263 | dims=128 walk=30 nwalks=100 p=0.5 q=4.0 win=10 ep=20 k=5\n",
      "score=0.316 | dims=128 walk=30 nwalks=100 p=1.0 q=1.0 win=5 ep=10 k=5\n",
      "score=0.240 | dims=128 walk=30 nwalks=100 p=1.0 q=1.0 win=5 ep=20 k=5\n",
      "score=0.272 | dims=128 walk=30 nwalks=100 p=1.0 q=1.0 win=10 ep=10 k=5\n",
      "score=0.218 | dims=128 walk=30 nwalks=100 p=1.0 q=1.0 win=10 ep=20 k=5\n",
      "score=0.314 | dims=128 walk=30 nwalks=100 p=1.0 q=2.0 win=5 ep=10 k=5\n",
      "score=0.266 | dims=128 walk=30 nwalks=100 p=1.0 q=2.0 win=5 ep=20 k=5\n",
      "score=0.297 | dims=128 walk=30 nwalks=100 p=1.0 q=2.0 win=10 ep=10 k=5\n",
      "score=0.244 | dims=128 walk=30 nwalks=100 p=1.0 q=2.0 win=10 ep=20 k=5\n",
      "score=0.285 | dims=128 walk=30 nwalks=100 p=1.0 q=4.0 win=5 ep=10 k=5\n"
     ]
    },
    {
     "name": "stderr",
     "output_type": "stream",
     "text": [
      "Exception ignored in: 'gensim.models.word2vec_inner.our_dot_float'\n"
     ]
    },
    {
     "name": "stdout",
     "output_type": "stream",
     "text": [
      "score=0.221 | dims=128 walk=30 nwalks=100 p=1.0 q=4.0 win=5 ep=20 k=5\n",
      "score=0.258 | dims=128 walk=30 nwalks=100 p=1.0 q=4.0 win=10 ep=10 k=5\n",
      "score=0.234 | dims=128 walk=30 nwalks=100 p=1.0 q=4.0 win=10 ep=20 k=5\n",
      "score=0.314 | dims=128 walk=30 nwalks=100 p=2.0 q=1.0 win=5 ep=10 k=5\n",
      "score=0.242 | dims=128 walk=30 nwalks=100 p=2.0 q=1.0 win=5 ep=20 k=5\n"
     ]
    },
    {
     "name": "stderr",
     "output_type": "stream",
     "text": [
      "Exception ignored in: 'gensim.models.word2vec_inner.our_dot_float'\n"
     ]
    },
    {
     "name": "stdout",
     "output_type": "stream",
     "text": [
      "score=0.322 | dims=128 walk=30 nwalks=100 p=2.0 q=1.0 win=10 ep=10 k=5\n"
     ]
    },
    {
     "name": "stderr",
     "output_type": "stream",
     "text": [
      "Exception ignored in: 'gensim.models.word2vec_inner.our_dot_float'\n",
      "Exception ignored in: 'gensim.models.word2vec_inner.our_dot_float'\n"
     ]
    },
    {
     "name": "stdout",
     "output_type": "stream",
     "text": [
      "score=0.252 | dims=128 walk=30 nwalks=100 p=2.0 q=1.0 win=10 ep=20 k=5\n",
      "score=0.338 | dims=128 walk=30 nwalks=100 p=2.0 q=2.0 win=5 ep=10 k=5\n",
      "score=0.266 | dims=128 walk=30 nwalks=100 p=2.0 q=2.0 win=5 ep=20 k=5\n",
      "score=0.345 | dims=128 walk=30 nwalks=100 p=2.0 q=2.0 win=10 ep=10 k=5\n"
     ]
    },
    {
     "name": "stderr",
     "output_type": "stream",
     "text": [
      "Exception ignored in: 'gensim.models.word2vec_inner.our_dot_float'\n"
     ]
    },
    {
     "name": "stdout",
     "output_type": "stream",
     "text": [
      "score=0.277 | dims=128 walk=30 nwalks=100 p=2.0 q=2.0 win=10 ep=20 k=5\n",
      "score=0.323 | dims=128 walk=30 nwalks=100 p=2.0 q=4.0 win=5 ep=10 k=5\n"
     ]
    },
    {
     "name": "stderr",
     "output_type": "stream",
     "text": [
      "Exception ignored in: 'gensim.models.word2vec_inner.our_dot_float'\n"
     ]
    },
    {
     "name": "stdout",
     "output_type": "stream",
     "text": [
      "score=0.259 | dims=128 walk=30 nwalks=100 p=2.0 q=4.0 win=5 ep=20 k=5\n",
      "score=0.319 | dims=128 walk=30 nwalks=100 p=2.0 q=4.0 win=10 ep=10 k=5\n",
      "score=0.239 | dims=128 walk=30 nwalks=100 p=2.0 q=4.0 win=10 ep=20 k=5\n",
      "score=0.220 | dims=128 walk=30 nwalks=200 p=0.5 q=1.0 win=5 ep=10 k=5\n"
     ]
    },
    {
     "name": "stderr",
     "output_type": "stream",
     "text": [
      "Exception ignored in: 'gensim.models.word2vec_inner.our_dot_float'\n",
      "Exception ignored in: 'gensim.models.word2vec_inner.our_dot_float'\n"
     ]
    },
    {
     "name": "stdout",
     "output_type": "stream",
     "text": [
      "score=0.173 | dims=128 walk=30 nwalks=200 p=0.5 q=1.0 win=5 ep=20 k=5\n",
      "score=0.220 | dims=128 walk=30 nwalks=200 p=0.5 q=1.0 win=10 ep=10 k=5\n",
      "score=0.254 | dims=128 walk=30 nwalks=200 p=0.5 q=1.0 win=10 ep=20 k=5\n",
      "score=0.257 | dims=128 walk=30 nwalks=200 p=0.5 q=2.0 win=5 ep=10 k=5\n",
      "score=0.237 | dims=128 walk=30 nwalks=200 p=0.5 q=2.0 win=5 ep=20 k=5\n",
      "score=0.248 | dims=128 walk=30 nwalks=200 p=0.5 q=2.0 win=10 ep=10 k=5\n"
     ]
    },
    {
     "name": "stderr",
     "output_type": "stream",
     "text": [
      "Exception ignored in: 'gensim.models.word2vec_inner.our_dot_float'\n",
      "Exception ignored in: 'gensim.models.word2vec_inner.our_dot_float'\n"
     ]
    },
    {
     "name": "stdout",
     "output_type": "stream",
     "text": [
      "score=0.239 | dims=128 walk=30 nwalks=200 p=0.5 q=2.0 win=10 ep=20 k=5\n"
     ]
    },
    {
     "name": "stderr",
     "output_type": "stream",
     "text": [
      "Exception ignored in: 'gensim.models.word2vec_inner.our_dot_float'\n"
     ]
    },
    {
     "name": "stdout",
     "output_type": "stream",
     "text": [
      "score=0.277 | dims=128 walk=30 nwalks=200 p=0.5 q=4.0 win=5 ep=10 k=5\n",
      "score=0.228 | dims=128 walk=30 nwalks=200 p=0.5 q=4.0 win=5 ep=20 k=5\n",
      "score=0.246 | dims=128 walk=30 nwalks=200 p=0.5 q=4.0 win=10 ep=10 k=5\n"
     ]
    },
    {
     "name": "stderr",
     "output_type": "stream",
     "text": [
      "Exception ignored in: 'gensim.models.word2vec_inner.our_dot_float'\n"
     ]
    },
    {
     "name": "stdout",
     "output_type": "stream",
     "text": [
      "score=0.247 | dims=128 walk=30 nwalks=200 p=0.5 q=4.0 win=10 ep=20 k=5\n",
      "score=0.237 | dims=128 walk=30 nwalks=200 p=1.0 q=1.0 win=5 ep=10 k=5\n",
      "score=0.234 | dims=128 walk=30 nwalks=200 p=1.0 q=1.0 win=5 ep=20 k=5\n",
      "score=0.238 | dims=128 walk=30 nwalks=200 p=1.0 q=1.0 win=10 ep=10 k=5\n",
      "score=0.228 | dims=128 walk=30 nwalks=200 p=1.0 q=1.0 win=10 ep=20 k=5\n",
      "score=0.263 | dims=128 walk=30 nwalks=200 p=1.0 q=2.0 win=5 ep=10 k=5\n",
      "score=0.255 | dims=128 walk=30 nwalks=200 p=1.0 q=2.0 win=5 ep=20 k=5\n",
      "score=0.262 | dims=128 walk=30 nwalks=200 p=1.0 q=2.0 win=10 ep=10 k=5\n",
      "score=0.247 | dims=128 walk=30 nwalks=200 p=1.0 q=2.0 win=10 ep=20 k=5\n",
      "score=0.258 | dims=128 walk=30 nwalks=200 p=1.0 q=4.0 win=5 ep=10 k=5\n",
      "score=0.222 | dims=128 walk=30 nwalks=200 p=1.0 q=4.0 win=5 ep=20 k=5\n",
      "score=0.246 | dims=128 walk=30 nwalks=200 p=1.0 q=4.0 win=10 ep=10 k=5\n",
      "score=0.266 | dims=128 walk=30 nwalks=200 p=1.0 q=4.0 win=10 ep=20 k=5\n",
      "score=0.274 | dims=128 walk=30 nwalks=200 p=2.0 q=1.0 win=5 ep=10 k=5\n"
     ]
    },
    {
     "name": "stderr",
     "output_type": "stream",
     "text": [
      "Exception ignored in: 'gensim.models.word2vec_inner.our_dot_float'\n"
     ]
    },
    {
     "name": "stdout",
     "output_type": "stream",
     "text": [
      "score=0.225 | dims=128 walk=30 nwalks=200 p=2.0 q=1.0 win=5 ep=20 k=5\n",
      "score=0.276 | dims=128 walk=30 nwalks=200 p=2.0 q=1.0 win=10 ep=10 k=5\n"
     ]
    },
    {
     "name": "stderr",
     "output_type": "stream",
     "text": [
      "Exception ignored in: 'gensim.models.word2vec_inner.our_dot_float'\n"
     ]
    },
    {
     "name": "stdout",
     "output_type": "stream",
     "text": [
      "score=0.223 | dims=128 walk=30 nwalks=200 p=2.0 q=1.0 win=10 ep=20 k=5\n",
      "score=0.262 | dims=128 walk=30 nwalks=200 p=2.0 q=2.0 win=5 ep=10 k=5\n",
      "score=0.248 | dims=128 walk=30 nwalks=200 p=2.0 q=2.0 win=5 ep=20 k=5\n",
      "score=0.274 | dims=128 walk=30 nwalks=200 p=2.0 q=2.0 win=10 ep=10 k=5\n",
      "score=0.251 | dims=128 walk=30 nwalks=200 p=2.0 q=2.0 win=10 ep=20 k=5\n",
      "score=0.272 | dims=128 walk=30 nwalks=200 p=2.0 q=4.0 win=5 ep=10 k=5\n"
     ]
    },
    {
     "name": "stderr",
     "output_type": "stream",
     "text": [
      "Exception ignored in: 'gensim.models.word2vec_inner.our_dot_float'\n"
     ]
    },
    {
     "name": "stdout",
     "output_type": "stream",
     "text": [
      "score=0.265 | dims=128 walk=30 nwalks=200 p=2.0 q=4.0 win=5 ep=20 k=5\n",
      "score=0.277 | dims=128 walk=30 nwalks=200 p=2.0 q=4.0 win=10 ep=10 k=5\n",
      "score=0.246 | dims=128 walk=30 nwalks=200 p=2.0 q=4.0 win=10 ep=20 k=5\n",
      "\n",
      "Best: (0.54637610912323, {'dims': 128, 'walk': 20, 'nwalks': 50, 'p': 2.0, 'q': 1.0, 'win': 5, 'ep': 10, 'k': 5})\n"
     ]
    }
   ],
   "source": [
    "from itertools import product\n",
    "from node2vec import Node2Vec\n",
    "from sklearn.cluster import KMeans\n",
    "from sklearn.metrics import silhouette_score\n",
    "from sklearn.preprocessing import normalize\n",
    "import numpy as np\n",
    "\n",
    "def eval_config(G, dims, walk_len, n_walks, p, q, window, epochs, k_values, weight_key='transition_frequency'):\n",
    "    n2v = Node2Vec(\n",
    "        G, dimensions=dims, walk_length=walk_len, num_walks=n_walks,\n",
    "        p=p, q=q, weight_key=weight_key, workers=1, quiet=True, seed=42\n",
    "    )\n",
    "    model = n2v.fit(window=window, min_count=1, batch_words=4, epochs=epochs)\n",
    "    nodes = list(G.nodes())\n",
    "    X = np.array([model.wv[str(n)] for n in nodes])\n",
    "    X = normalize(X)  # cosine-friendly\n",
    "    best = {'score': -1}\n",
    "    for k in k_values:\n",
    "        labels = KMeans(n_clusters=k, random_state=42, n_init=10).fit_predict(X)\n",
    "        if len(set(labels)) <= 1: \n",
    "            continue\n",
    "        score = silhouette_score(X, labels, metric='cosine')\n",
    "        if score > best['score']:\n",
    "            best = {'score': score, 'k': k, 'labels': labels, 'X': X, 'nodes': nodes}\n",
    "    return best\n",
    "\n",
    "dims_list = [128]\n",
    "walk_list = [20, 30]\n",
    "nwalks_list = [50, 100, 200]\n",
    "p_list = [0.5, 1.0, 2.0]\n",
    "q_list = [1.0, 2.0, 4.0]  # higher q = more local (often better for communities)\n",
    "window_list = [5, 10]\n",
    "epochs_list = [5, 10]\n",
    "k_values = [5]\n",
    "\n",
    "results = []\n",
    "for dims, walk, nwalks, p, q, win, ep in product(dims_list, walk_list, nwalks_list, p_list, q_list, window_list, epochs_list):\n",
    "    res = eval_config(graph, dims, walk, nwalks, p, q, win, ep, k_values, weight_key='transition_frequency')\n",
    "    results.append((res['score'], {'dims': dims, 'walk': walk, 'nwalks': nwalks, 'p': p, 'q': q, 'win': win, 'ep': ep, 'k': res.get('k')}))\n",
    "    print(f\"score={res['score']:.3f} | dims={dims} walk={walk} nwalks={nwalks} p={p} q={q} win={win} ep={ep} k={res.get('k')}\")\n",
    "\n",
    "best = max(results, key=lambda x: x[0])\n",
    "print(\"\\nBest:\", best)"
   ]
  },
  {
   "cell_type": "markdown",
   "id": "48470963",
   "metadata": {},
   "source": [
    "Best: (0.54637610912323, {'dims': 128, 'walk': 20, 'nwalks': 50, 'p': 2.0, 'q': 1.0, 'win': 5, 'ep': 10, 'k': 5}"
   ]
  },
  {
   "cell_type": "code",
   "execution_count": 54,
   "id": "61d2aeaf",
   "metadata": {},
   "outputs": [
    {
     "name": "stdout",
     "output_type": "stream",
     "text": [
      "score=0.240 | dims=16 walk=10 nwalks=30 p=0.5 q=1.0 win=5 ep=5 k=5\n",
      "score=0.554 | dims=16 walk=10 nwalks=30 p=0.5 q=1.0 win=5 ep=10 k=5\n",
      "score=0.348 | dims=16 walk=10 nwalks=30 p=0.5 q=1.0 win=10 ep=5 k=5\n",
      "score=0.536 | dims=16 walk=10 nwalks=30 p=0.5 q=1.0 win=10 ep=10 k=5\n",
      "score=0.415 | dims=16 walk=10 nwalks=30 p=0.5 q=2.0 win=5 ep=5 k=5\n",
      "score=0.566 | dims=16 walk=10 nwalks=30 p=0.5 q=2.0 win=5 ep=10 k=5\n",
      "score=0.386 | dims=16 walk=10 nwalks=30 p=0.5 q=2.0 win=10 ep=5 k=5\n",
      "score=0.560 | dims=16 walk=10 nwalks=30 p=0.5 q=2.0 win=10 ep=10 k=5\n",
      "score=0.304 | dims=16 walk=10 nwalks=30 p=0.5 q=4.0 win=5 ep=5 k=5\n",
      "score=0.525 | dims=16 walk=10 nwalks=30 p=0.5 q=4.0 win=5 ep=10 k=5\n",
      "score=0.377 | dims=16 walk=10 nwalks=30 p=0.5 q=4.0 win=10 ep=5 k=5\n",
      "score=0.541 | dims=16 walk=10 nwalks=30 p=0.5 q=4.0 win=10 ep=10 k=5\n",
      "score=0.225 | dims=16 walk=10 nwalks=30 p=1.0 q=1.0 win=5 ep=5 k=5\n",
      "score=0.580 | dims=16 walk=10 nwalks=30 p=1.0 q=1.0 win=5 ep=10 k=5\n",
      "score=0.260 | dims=16 walk=10 nwalks=30 p=1.0 q=1.0 win=10 ep=5 k=5\n",
      "score=0.572 | dims=16 walk=10 nwalks=30 p=1.0 q=1.0 win=10 ep=10 k=5\n",
      "score=0.287 | dims=16 walk=10 nwalks=30 p=1.0 q=2.0 win=5 ep=5 k=5\n",
      "score=0.557 | dims=16 walk=10 nwalks=30 p=1.0 q=2.0 win=5 ep=10 k=5\n",
      "score=0.448 | dims=16 walk=10 nwalks=30 p=1.0 q=2.0 win=10 ep=5 k=5\n",
      "score=0.604 | dims=16 walk=10 nwalks=30 p=1.0 q=2.0 win=10 ep=10 k=5\n",
      "score=0.459 | dims=16 walk=10 nwalks=30 p=1.0 q=4.0 win=5 ep=5 k=5\n",
      "score=0.550 | dims=16 walk=10 nwalks=30 p=1.0 q=4.0 win=5 ep=10 k=5\n",
      "score=0.516 | dims=16 walk=10 nwalks=30 p=1.0 q=4.0 win=10 ep=5 k=5\n",
      "score=0.609 | dims=16 walk=10 nwalks=30 p=1.0 q=4.0 win=10 ep=10 k=5\n",
      "score=0.184 | dims=16 walk=10 nwalks=30 p=2.0 q=1.0 win=5 ep=5 k=5\n",
      "score=0.537 | dims=16 walk=10 nwalks=30 p=2.0 q=1.0 win=5 ep=10 k=5\n",
      "score=0.226 | dims=16 walk=10 nwalks=30 p=2.0 q=1.0 win=10 ep=5 k=5\n",
      "score=0.581 | dims=16 walk=10 nwalks=30 p=2.0 q=1.0 win=10 ep=10 k=5\n",
      "score=0.336 | dims=16 walk=10 nwalks=30 p=2.0 q=2.0 win=5 ep=5 k=5\n",
      "score=0.545 | dims=16 walk=10 nwalks=30 p=2.0 q=2.0 win=5 ep=10 k=5\n",
      "score=0.265 | dims=16 walk=10 nwalks=30 p=2.0 q=2.0 win=10 ep=5 k=5\n",
      "score=0.622 | dims=16 walk=10 nwalks=30 p=2.0 q=2.0 win=10 ep=10 k=5\n",
      "score=0.409 | dims=16 walk=10 nwalks=30 p=2.0 q=4.0 win=5 ep=5 k=5\n",
      "score=0.555 | dims=16 walk=10 nwalks=30 p=2.0 q=4.0 win=5 ep=10 k=5\n",
      "score=0.383 | dims=16 walk=10 nwalks=30 p=2.0 q=4.0 win=10 ep=5 k=5\n",
      "score=0.521 | dims=16 walk=10 nwalks=30 p=2.0 q=4.0 win=10 ep=10 k=5\n",
      "score=0.479 | dims=16 walk=10 nwalks=40 p=0.5 q=1.0 win=5 ep=5 k=5\n",
      "score=0.494 | dims=16 walk=10 nwalks=40 p=0.5 q=1.0 win=5 ep=10 k=5\n",
      "score=0.505 | dims=16 walk=10 nwalks=40 p=0.5 q=1.0 win=10 ep=5 k=5\n",
      "score=0.519 | dims=16 walk=10 nwalks=40 p=0.5 q=1.0 win=10 ep=10 k=5\n",
      "score=0.406 | dims=16 walk=10 nwalks=40 p=0.5 q=2.0 win=5 ep=5 k=5\n",
      "score=0.508 | dims=16 walk=10 nwalks=40 p=0.5 q=2.0 win=5 ep=10 k=5\n",
      "score=0.497 | dims=16 walk=10 nwalks=40 p=0.5 q=2.0 win=10 ep=5 k=5\n",
      "score=0.479 | dims=16 walk=10 nwalks=40 p=0.5 q=2.0 win=10 ep=10 k=5\n",
      "score=0.364 | dims=16 walk=10 nwalks=40 p=0.5 q=4.0 win=5 ep=5 k=5\n",
      "score=0.516 | dims=16 walk=10 nwalks=40 p=0.5 q=4.0 win=5 ep=10 k=5\n",
      "score=0.554 | dims=16 walk=10 nwalks=40 p=0.5 q=4.0 win=10 ep=5 k=5\n",
      "score=0.451 | dims=16 walk=10 nwalks=40 p=0.5 q=4.0 win=10 ep=10 k=5\n",
      "score=0.441 | dims=16 walk=10 nwalks=40 p=1.0 q=1.0 win=5 ep=5 k=5\n",
      "score=0.581 | dims=16 walk=10 nwalks=40 p=1.0 q=1.0 win=5 ep=10 k=5\n",
      "score=0.481 | dims=16 walk=10 nwalks=40 p=1.0 q=1.0 win=10 ep=5 k=5\n",
      "score=0.591 | dims=16 walk=10 nwalks=40 p=1.0 q=1.0 win=10 ep=10 k=5\n",
      "score=0.430 | dims=16 walk=10 nwalks=40 p=1.0 q=2.0 win=5 ep=5 k=5\n",
      "score=0.517 | dims=16 walk=10 nwalks=40 p=1.0 q=2.0 win=5 ep=10 k=5\n",
      "score=0.487 | dims=16 walk=10 nwalks=40 p=1.0 q=2.0 win=10 ep=5 k=5\n",
      "score=0.447 | dims=16 walk=10 nwalks=40 p=1.0 q=2.0 win=10 ep=10 k=5\n",
      "score=0.534 | dims=16 walk=10 nwalks=40 p=1.0 q=4.0 win=5 ep=5 k=5\n",
      "score=0.492 | dims=16 walk=10 nwalks=40 p=1.0 q=4.0 win=5 ep=10 k=5\n",
      "score=0.544 | dims=16 walk=10 nwalks=40 p=1.0 q=4.0 win=10 ep=5 k=5\n",
      "score=0.462 | dims=16 walk=10 nwalks=40 p=1.0 q=4.0 win=10 ep=10 k=5\n",
      "score=0.463 | dims=16 walk=10 nwalks=40 p=2.0 q=1.0 win=5 ep=5 k=5\n",
      "score=0.613 | dims=16 walk=10 nwalks=40 p=2.0 q=1.0 win=5 ep=10 k=5\n",
      "score=0.395 | dims=16 walk=10 nwalks=40 p=2.0 q=1.0 win=10 ep=5 k=5\n",
      "score=0.486 | dims=16 walk=10 nwalks=40 p=2.0 q=1.0 win=10 ep=10 k=5\n",
      "score=0.400 | dims=16 walk=10 nwalks=40 p=2.0 q=2.0 win=5 ep=5 k=5\n",
      "score=0.598 | dims=16 walk=10 nwalks=40 p=2.0 q=2.0 win=5 ep=10 k=5\n",
      "score=0.364 | dims=16 walk=10 nwalks=40 p=2.0 q=2.0 win=10 ep=5 k=5\n",
      "score=0.537 | dims=16 walk=10 nwalks=40 p=2.0 q=2.0 win=10 ep=10 k=5\n",
      "score=0.424 | dims=16 walk=10 nwalks=40 p=2.0 q=4.0 win=5 ep=5 k=5\n",
      "score=0.590 | dims=16 walk=10 nwalks=40 p=2.0 q=4.0 win=5 ep=10 k=5\n",
      "score=0.463 | dims=16 walk=10 nwalks=40 p=2.0 q=4.0 win=10 ep=5 k=5\n",
      "score=0.638 | dims=16 walk=10 nwalks=40 p=2.0 q=4.0 win=10 ep=10 k=5\n",
      "score=0.520 | dims=16 walk=15 nwalks=30 p=0.5 q=1.0 win=5 ep=5 k=5\n",
      "score=0.424 | dims=16 walk=15 nwalks=30 p=0.5 q=1.0 win=5 ep=10 k=5\n",
      "score=0.476 | dims=16 walk=15 nwalks=30 p=0.5 q=1.0 win=10 ep=5 k=5\n",
      "score=0.497 | dims=16 walk=15 nwalks=30 p=0.5 q=1.0 win=10 ep=10 k=5\n",
      "score=0.513 | dims=16 walk=15 nwalks=30 p=0.5 q=2.0 win=5 ep=5 k=5\n",
      "score=0.476 | dims=16 walk=15 nwalks=30 p=0.5 q=2.0 win=5 ep=10 k=5\n",
      "score=0.498 | dims=16 walk=15 nwalks=30 p=0.5 q=2.0 win=10 ep=5 k=5\n",
      "score=0.508 | dims=16 walk=15 nwalks=30 p=0.5 q=2.0 win=10 ep=10 k=5\n",
      "score=0.393 | dims=16 walk=15 nwalks=30 p=0.5 q=4.0 win=5 ep=5 k=5\n",
      "score=0.502 | dims=16 walk=15 nwalks=30 p=0.5 q=4.0 win=5 ep=10 k=5\n",
      "score=0.482 | dims=16 walk=15 nwalks=30 p=0.5 q=4.0 win=10 ep=5 k=5\n",
      "score=0.475 | dims=16 walk=15 nwalks=30 p=0.5 q=4.0 win=10 ep=10 k=5\n",
      "score=0.463 | dims=16 walk=15 nwalks=30 p=1.0 q=1.0 win=5 ep=5 k=5\n",
      "score=0.452 | dims=16 walk=15 nwalks=30 p=1.0 q=1.0 win=5 ep=10 k=5\n",
      "score=0.539 | dims=16 walk=15 nwalks=30 p=1.0 q=1.0 win=10 ep=5 k=5\n",
      "score=0.469 | dims=16 walk=15 nwalks=30 p=1.0 q=1.0 win=10 ep=10 k=5\n",
      "score=0.441 | dims=16 walk=15 nwalks=30 p=1.0 q=2.0 win=5 ep=5 k=5\n",
      "score=0.508 | dims=16 walk=15 nwalks=30 p=1.0 q=2.0 win=5 ep=10 k=5\n",
      "score=0.464 | dims=16 walk=15 nwalks=30 p=1.0 q=2.0 win=10 ep=5 k=5\n",
      "score=0.420 | dims=16 walk=15 nwalks=30 p=1.0 q=2.0 win=10 ep=10 k=5\n",
      "score=0.511 | dims=16 walk=15 nwalks=30 p=1.0 q=4.0 win=5 ep=5 k=5\n",
      "score=0.533 | dims=16 walk=15 nwalks=30 p=1.0 q=4.0 win=5 ep=10 k=5\n",
      "score=0.502 | dims=16 walk=15 nwalks=30 p=1.0 q=4.0 win=10 ep=5 k=5\n",
      "score=0.474 | dims=16 walk=15 nwalks=30 p=1.0 q=4.0 win=10 ep=10 k=5\n",
      "score=0.419 | dims=16 walk=15 nwalks=30 p=2.0 q=1.0 win=5 ep=5 k=5\n",
      "score=0.474 | dims=16 walk=15 nwalks=30 p=2.0 q=1.0 win=5 ep=10 k=5\n",
      "score=0.433 | dims=16 walk=15 nwalks=30 p=2.0 q=1.0 win=10 ep=5 k=5\n",
      "score=0.551 | dims=16 walk=15 nwalks=30 p=2.0 q=1.0 win=10 ep=10 k=5\n",
      "score=0.511 | dims=16 walk=15 nwalks=30 p=2.0 q=2.0 win=5 ep=5 k=5\n",
      "score=0.498 | dims=16 walk=15 nwalks=30 p=2.0 q=2.0 win=5 ep=10 k=5\n",
      "score=0.492 | dims=16 walk=15 nwalks=30 p=2.0 q=2.0 win=10 ep=5 k=5\n",
      "score=0.518 | dims=16 walk=15 nwalks=30 p=2.0 q=2.0 win=10 ep=10 k=5\n",
      "score=0.448 | dims=16 walk=15 nwalks=30 p=2.0 q=4.0 win=5 ep=5 k=5\n",
      "score=0.545 | dims=16 walk=15 nwalks=30 p=2.0 q=4.0 win=5 ep=10 k=5\n",
      "score=0.526 | dims=16 walk=15 nwalks=30 p=2.0 q=4.0 win=10 ep=5 k=5\n",
      "score=0.531 | dims=16 walk=15 nwalks=30 p=2.0 q=4.0 win=10 ep=10 k=5\n",
      "score=0.569 | dims=16 walk=15 nwalks=40 p=0.5 q=1.0 win=5 ep=5 k=5\n",
      "score=0.376 | dims=16 walk=15 nwalks=40 p=0.5 q=1.0 win=5 ep=10 k=5\n",
      "score=0.545 | dims=16 walk=15 nwalks=40 p=0.5 q=1.0 win=10 ep=5 k=5\n",
      "score=0.388 | dims=16 walk=15 nwalks=40 p=0.5 q=1.0 win=10 ep=10 k=5\n",
      "score=0.581 | dims=16 walk=15 nwalks=40 p=0.5 q=2.0 win=5 ep=5 k=5\n",
      "score=0.396 | dims=16 walk=15 nwalks=40 p=0.5 q=2.0 win=5 ep=10 k=5\n",
      "score=0.510 | dims=16 walk=15 nwalks=40 p=0.5 q=2.0 win=10 ep=5 k=5\n",
      "score=0.385 | dims=16 walk=15 nwalks=40 p=0.5 q=2.0 win=10 ep=10 k=5\n",
      "score=0.467 | dims=16 walk=15 nwalks=40 p=0.5 q=4.0 win=5 ep=5 k=5\n",
      "score=0.438 | dims=16 walk=15 nwalks=40 p=0.5 q=4.0 win=5 ep=10 k=5\n",
      "score=0.446 | dims=16 walk=15 nwalks=40 p=0.5 q=4.0 win=10 ep=5 k=5\n",
      "score=0.430 | dims=16 walk=15 nwalks=40 p=0.5 q=4.0 win=10 ep=10 k=5\n",
      "score=0.493 | dims=16 walk=15 nwalks=40 p=1.0 q=1.0 win=5 ep=5 k=5\n",
      "score=0.362 | dims=16 walk=15 nwalks=40 p=1.0 q=1.0 win=5 ep=10 k=5\n",
      "score=0.488 | dims=16 walk=15 nwalks=40 p=1.0 q=1.0 win=10 ep=5 k=5\n",
      "score=0.365 | dims=16 walk=15 nwalks=40 p=1.0 q=1.0 win=10 ep=10 k=5\n",
      "score=0.604 | dims=16 walk=15 nwalks=40 p=1.0 q=2.0 win=5 ep=5 k=5\n",
      "score=0.415 | dims=16 walk=15 nwalks=40 p=1.0 q=2.0 win=5 ep=10 k=5\n",
      "score=0.551 | dims=16 walk=15 nwalks=40 p=1.0 q=2.0 win=10 ep=5 k=5\n",
      "score=0.416 | dims=16 walk=15 nwalks=40 p=1.0 q=2.0 win=10 ep=10 k=5\n",
      "score=0.579 | dims=16 walk=15 nwalks=40 p=1.0 q=4.0 win=5 ep=5 k=5\n",
      "score=0.479 | dims=16 walk=15 nwalks=40 p=1.0 q=4.0 win=5 ep=10 k=5\n",
      "score=0.583 | dims=16 walk=15 nwalks=40 p=1.0 q=4.0 win=10 ep=5 k=5\n",
      "score=0.490 | dims=16 walk=15 nwalks=40 p=1.0 q=4.0 win=10 ep=10 k=5\n",
      "score=0.422 | dims=16 walk=15 nwalks=40 p=2.0 q=1.0 win=5 ep=5 k=5\n",
      "score=0.427 | dims=16 walk=15 nwalks=40 p=2.0 q=1.0 win=5 ep=10 k=5\n",
      "score=0.493 | dims=16 walk=15 nwalks=40 p=2.0 q=1.0 win=10 ep=5 k=5\n",
      "score=0.425 | dims=16 walk=15 nwalks=40 p=2.0 q=1.0 win=10 ep=10 k=5\n",
      "score=0.579 | dims=16 walk=15 nwalks=40 p=2.0 q=2.0 win=5 ep=5 k=5\n",
      "score=0.493 | dims=16 walk=15 nwalks=40 p=2.0 q=2.0 win=5 ep=10 k=5\n",
      "score=0.603 | dims=16 walk=15 nwalks=40 p=2.0 q=2.0 win=10 ep=5 k=5\n",
      "score=0.521 | dims=16 walk=15 nwalks=40 p=2.0 q=2.0 win=10 ep=10 k=5\n",
      "score=0.376 | dims=16 walk=15 nwalks=40 p=2.0 q=4.0 win=5 ep=5 k=5\n",
      "score=0.500 | dims=16 walk=15 nwalks=40 p=2.0 q=4.0 win=5 ep=10 k=5\n",
      "score=0.437 | dims=16 walk=15 nwalks=40 p=2.0 q=4.0 win=10 ep=5 k=5\n",
      "score=0.481 | dims=16 walk=15 nwalks=40 p=2.0 q=4.0 win=10 ep=10 k=5\n",
      "score=0.412 | dims=16 walk=20 nwalks=30 p=0.5 q=1.0 win=5 ep=5 k=5\n",
      "score=0.431 | dims=16 walk=20 nwalks=30 p=0.5 q=1.0 win=5 ep=10 k=5\n",
      "score=0.385 | dims=16 walk=20 nwalks=30 p=0.5 q=1.0 win=10 ep=5 k=5\n",
      "score=0.414 | dims=16 walk=20 nwalks=30 p=0.5 q=1.0 win=10 ep=10 k=5\n",
      "score=0.520 | dims=16 walk=20 nwalks=30 p=0.5 q=2.0 win=5 ep=5 k=5\n",
      "score=0.395 | dims=16 walk=20 nwalks=30 p=0.5 q=2.0 win=5 ep=10 k=5\n",
      "score=0.500 | dims=16 walk=20 nwalks=30 p=0.5 q=2.0 win=10 ep=5 k=5\n",
      "score=0.403 | dims=16 walk=20 nwalks=30 p=0.5 q=2.0 win=10 ep=10 k=5\n",
      "score=0.444 | dims=16 walk=20 nwalks=30 p=0.5 q=4.0 win=5 ep=5 k=5\n",
      "score=0.420 | dims=16 walk=20 nwalks=30 p=0.5 q=4.0 win=5 ep=10 k=5\n",
      "score=0.406 | dims=16 walk=20 nwalks=30 p=0.5 q=4.0 win=10 ep=5 k=5\n",
      "score=0.370 | dims=16 walk=20 nwalks=30 p=0.5 q=4.0 win=10 ep=10 k=5\n",
      "score=0.585 | dims=16 walk=20 nwalks=30 p=1.0 q=1.0 win=5 ep=5 k=5\n",
      "score=0.581 | dims=16 walk=20 nwalks=30 p=1.0 q=1.0 win=5 ep=10 k=5\n",
      "score=0.519 | dims=16 walk=20 nwalks=30 p=1.0 q=1.0 win=10 ep=5 k=5\n",
      "score=0.429 | dims=16 walk=20 nwalks=30 p=1.0 q=1.0 win=10 ep=10 k=5\n",
      "score=0.550 | dims=16 walk=20 nwalks=30 p=1.0 q=2.0 win=5 ep=5 k=5\n",
      "score=0.385 | dims=16 walk=20 nwalks=30 p=1.0 q=2.0 win=5 ep=10 k=5\n",
      "score=0.475 | dims=16 walk=20 nwalks=30 p=1.0 q=2.0 win=10 ep=5 k=5\n",
      "score=0.360 | dims=16 walk=20 nwalks=30 p=1.0 q=2.0 win=10 ep=10 k=5\n",
      "score=0.542 | dims=16 walk=20 nwalks=30 p=1.0 q=4.0 win=5 ep=5 k=5\n",
      "score=0.451 | dims=16 walk=20 nwalks=30 p=1.0 q=4.0 win=5 ep=10 k=5\n",
      "score=0.480 | dims=16 walk=20 nwalks=30 p=1.0 q=4.0 win=10 ep=5 k=5\n",
      "score=0.447 | dims=16 walk=20 nwalks=30 p=1.0 q=4.0 win=10 ep=10 k=5\n",
      "score=0.510 | dims=16 walk=20 nwalks=30 p=2.0 q=1.0 win=5 ep=5 k=5\n",
      "score=0.439 | dims=16 walk=20 nwalks=30 p=2.0 q=1.0 win=5 ep=10 k=5\n",
      "score=0.480 | dims=16 walk=20 nwalks=30 p=2.0 q=1.0 win=10 ep=5 k=5\n",
      "score=0.419 | dims=16 walk=20 nwalks=30 p=2.0 q=1.0 win=10 ep=10 k=5\n",
      "score=0.481 | dims=16 walk=20 nwalks=30 p=2.0 q=2.0 win=5 ep=5 k=5\n",
      "score=0.474 | dims=16 walk=20 nwalks=30 p=2.0 q=2.0 win=5 ep=10 k=5\n",
      "score=0.474 | dims=16 walk=20 nwalks=30 p=2.0 q=2.0 win=10 ep=5 k=5\n",
      "score=0.455 | dims=16 walk=20 nwalks=30 p=2.0 q=2.0 win=10 ep=10 k=5\n",
      "score=0.517 | dims=16 walk=20 nwalks=30 p=2.0 q=4.0 win=5 ep=5 k=5\n",
      "score=0.485 | dims=16 walk=20 nwalks=30 p=2.0 q=4.0 win=5 ep=10 k=5\n",
      "score=0.523 | dims=16 walk=20 nwalks=30 p=2.0 q=4.0 win=10 ep=5 k=5\n",
      "score=0.488 | dims=16 walk=20 nwalks=30 p=2.0 q=4.0 win=10 ep=10 k=5\n",
      "score=0.494 | dims=16 walk=20 nwalks=40 p=0.5 q=1.0 win=5 ep=5 k=5\n",
      "score=0.389 | dims=16 walk=20 nwalks=40 p=0.5 q=1.0 win=5 ep=10 k=5\n",
      "score=0.530 | dims=16 walk=20 nwalks=40 p=0.5 q=1.0 win=10 ep=5 k=5\n",
      "score=0.377 | dims=16 walk=20 nwalks=40 p=0.5 q=1.0 win=10 ep=10 k=5\n",
      "score=0.437 | dims=16 walk=20 nwalks=40 p=0.5 q=2.0 win=5 ep=5 k=5\n",
      "score=0.439 | dims=16 walk=20 nwalks=40 p=0.5 q=2.0 win=5 ep=10 k=5\n",
      "score=0.452 | dims=16 walk=20 nwalks=40 p=0.5 q=2.0 win=10 ep=5 k=5\n",
      "score=0.416 | dims=16 walk=20 nwalks=40 p=0.5 q=2.0 win=10 ep=10 k=5\n",
      "score=0.437 | dims=16 walk=20 nwalks=40 p=0.5 q=4.0 win=5 ep=5 k=5\n",
      "score=0.364 | dims=16 walk=20 nwalks=40 p=0.5 q=4.0 win=5 ep=10 k=5\n",
      "score=0.392 | dims=16 walk=20 nwalks=40 p=0.5 q=4.0 win=10 ep=5 k=5\n",
      "score=0.310 | dims=16 walk=20 nwalks=40 p=0.5 q=4.0 win=10 ep=10 k=5\n",
      "score=0.491 | dims=16 walk=20 nwalks=40 p=1.0 q=1.0 win=5 ep=5 k=5\n",
      "score=0.407 | dims=16 walk=20 nwalks=40 p=1.0 q=1.0 win=5 ep=10 k=5\n",
      "score=0.523 | dims=16 walk=20 nwalks=40 p=1.0 q=1.0 win=10 ep=5 k=5\n",
      "score=0.384 | dims=16 walk=20 nwalks=40 p=1.0 q=1.0 win=10 ep=10 k=5\n",
      "score=0.493 | dims=16 walk=20 nwalks=40 p=1.0 q=2.0 win=5 ep=5 k=5\n",
      "score=0.392 | dims=16 walk=20 nwalks=40 p=1.0 q=2.0 win=5 ep=10 k=5\n",
      "score=0.520 | dims=16 walk=20 nwalks=40 p=1.0 q=2.0 win=10 ep=5 k=5\n",
      "score=0.389 | dims=16 walk=20 nwalks=40 p=1.0 q=2.0 win=10 ep=10 k=5\n",
      "score=0.486 | dims=16 walk=20 nwalks=40 p=1.0 q=4.0 win=5 ep=5 k=5\n",
      "score=0.457 | dims=16 walk=20 nwalks=40 p=1.0 q=4.0 win=5 ep=10 k=5\n",
      "score=0.497 | dims=16 walk=20 nwalks=40 p=1.0 q=4.0 win=10 ep=5 k=5\n",
      "score=0.459 | dims=16 walk=20 nwalks=40 p=1.0 q=4.0 win=10 ep=10 k=5\n",
      "score=0.509 | dims=16 walk=20 nwalks=40 p=2.0 q=1.0 win=5 ep=5 k=5\n",
      "score=0.503 | dims=16 walk=20 nwalks=40 p=2.0 q=1.0 win=5 ep=10 k=5\n",
      "score=0.450 | dims=16 walk=20 nwalks=40 p=2.0 q=1.0 win=10 ep=5 k=5\n",
      "score=0.396 | dims=16 walk=20 nwalks=40 p=2.0 q=1.0 win=10 ep=10 k=5\n",
      "score=0.529 | dims=16 walk=20 nwalks=40 p=2.0 q=2.0 win=5 ep=5 k=5\n",
      "score=0.418 | dims=16 walk=20 nwalks=40 p=2.0 q=2.0 win=5 ep=10 k=5\n",
      "score=0.534 | dims=16 walk=20 nwalks=40 p=2.0 q=2.0 win=10 ep=5 k=5\n",
      "score=0.392 | dims=16 walk=20 nwalks=40 p=2.0 q=2.0 win=10 ep=10 k=5\n",
      "score=0.500 | dims=16 walk=20 nwalks=40 p=2.0 q=4.0 win=5 ep=5 k=5\n",
      "score=0.454 | dims=16 walk=20 nwalks=40 p=2.0 q=4.0 win=5 ep=10 k=5\n",
      "score=0.442 | dims=16 walk=20 nwalks=40 p=2.0 q=4.0 win=10 ep=5 k=5\n",
      "score=0.452 | dims=16 walk=20 nwalks=40 p=2.0 q=4.0 win=10 ep=10 k=5\n",
      "score=0.253 | dims=32 walk=10 nwalks=30 p=0.5 q=1.0 win=5 ep=5 k=5\n",
      "score=0.582 | dims=32 walk=10 nwalks=30 p=0.5 q=1.0 win=5 ep=10 k=5\n",
      "score=0.310 | dims=32 walk=10 nwalks=30 p=0.5 q=1.0 win=10 ep=5 k=5\n",
      "score=0.528 | dims=32 walk=10 nwalks=30 p=0.5 q=1.0 win=10 ep=10 k=5\n",
      "score=0.349 | dims=32 walk=10 nwalks=30 p=0.5 q=2.0 win=5 ep=5 k=5\n",
      "score=0.410 | dims=32 walk=10 nwalks=30 p=0.5 q=2.0 win=5 ep=10 k=5\n",
      "score=0.396 | dims=32 walk=10 nwalks=30 p=0.5 q=2.0 win=10 ep=5 k=5\n",
      "score=0.575 | dims=32 walk=10 nwalks=30 p=0.5 q=2.0 win=10 ep=10 k=5\n",
      "score=0.427 | dims=32 walk=10 nwalks=30 p=0.5 q=4.0 win=5 ep=5 k=5\n",
      "score=0.512 | dims=32 walk=10 nwalks=30 p=0.5 q=4.0 win=5 ep=10 k=5\n",
      "score=0.479 | dims=32 walk=10 nwalks=30 p=0.5 q=4.0 win=10 ep=5 k=5\n",
      "score=0.552 | dims=32 walk=10 nwalks=30 p=0.5 q=4.0 win=10 ep=10 k=5\n",
      "score=0.266 | dims=32 walk=10 nwalks=30 p=1.0 q=1.0 win=5 ep=5 k=5\n",
      "score=0.618 | dims=32 walk=10 nwalks=30 p=1.0 q=1.0 win=5 ep=10 k=5\n",
      "score=0.339 | dims=32 walk=10 nwalks=30 p=1.0 q=1.0 win=10 ep=5 k=5\n",
      "score=0.526 | dims=32 walk=10 nwalks=30 p=1.0 q=1.0 win=10 ep=10 k=5\n",
      "score=0.289 | dims=32 walk=10 nwalks=30 p=1.0 q=2.0 win=5 ep=5 k=5\n",
      "score=0.580 | dims=32 walk=10 nwalks=30 p=1.0 q=2.0 win=5 ep=10 k=5\n",
      "score=0.349 | dims=32 walk=10 nwalks=30 p=1.0 q=2.0 win=10 ep=5 k=5\n",
      "score=0.579 | dims=32 walk=10 nwalks=30 p=1.0 q=2.0 win=10 ep=10 k=5\n",
      "score=0.338 | dims=32 walk=10 nwalks=30 p=1.0 q=4.0 win=5 ep=5 k=5\n",
      "score=0.499 | dims=32 walk=10 nwalks=30 p=1.0 q=4.0 win=5 ep=10 k=5\n",
      "score=0.394 | dims=32 walk=10 nwalks=30 p=1.0 q=4.0 win=10 ep=5 k=5\n",
      "score=0.593 | dims=32 walk=10 nwalks=30 p=1.0 q=4.0 win=10 ep=10 k=5\n",
      "score=0.143 | dims=32 walk=10 nwalks=30 p=2.0 q=1.0 win=5 ep=5 k=5\n",
      "score=0.545 | dims=32 walk=10 nwalks=30 p=2.0 q=1.0 win=5 ep=10 k=5\n",
      "score=0.167 | dims=32 walk=10 nwalks=30 p=2.0 q=1.0 win=10 ep=5 k=5\n",
      "score=0.548 | dims=32 walk=10 nwalks=30 p=2.0 q=1.0 win=10 ep=10 k=5\n",
      "score=0.296 | dims=32 walk=10 nwalks=30 p=2.0 q=2.0 win=5 ep=5 k=5\n",
      "score=0.584 | dims=32 walk=10 nwalks=30 p=2.0 q=2.0 win=5 ep=10 k=5\n",
      "score=0.355 | dims=32 walk=10 nwalks=30 p=2.0 q=2.0 win=10 ep=5 k=5\n",
      "score=0.594 | dims=32 walk=10 nwalks=30 p=2.0 q=2.0 win=10 ep=10 k=5\n",
      "score=0.388 | dims=32 walk=10 nwalks=30 p=2.0 q=4.0 win=5 ep=5 k=5\n",
      "score=0.574 | dims=32 walk=10 nwalks=30 p=2.0 q=4.0 win=5 ep=10 k=5\n",
      "score=0.399 | dims=32 walk=10 nwalks=30 p=2.0 q=4.0 win=10 ep=5 k=5\n"
     ]
    },
    {
     "name": "stderr",
     "output_type": "stream",
     "text": [
      "Exception ignored in: 'gensim.models.word2vec_inner.our_dot_float'\n"
     ]
    },
    {
     "name": "stdout",
     "output_type": "stream",
     "text": [
      "score=0.617 | dims=32 walk=10 nwalks=30 p=2.0 q=4.0 win=10 ep=10 k=5\n",
      "score=0.382 | dims=32 walk=10 nwalks=40 p=0.5 q=1.0 win=5 ep=5 k=5\n",
      "score=0.535 | dims=32 walk=10 nwalks=40 p=0.5 q=1.0 win=5 ep=10 k=5\n",
      "score=0.367 | dims=32 walk=10 nwalks=40 p=0.5 q=1.0 win=10 ep=5 k=5\n",
      "score=0.562 | dims=32 walk=10 nwalks=40 p=0.5 q=1.0 win=10 ep=10 k=5\n",
      "score=0.494 | dims=32 walk=10 nwalks=40 p=0.5 q=2.0 win=5 ep=5 k=5\n",
      "score=0.502 | dims=32 walk=10 nwalks=40 p=0.5 q=2.0 win=5 ep=10 k=5\n",
      "score=0.534 | dims=32 walk=10 nwalks=40 p=0.5 q=2.0 win=10 ep=5 k=5\n",
      "score=0.481 | dims=32 walk=10 nwalks=40 p=0.5 q=2.0 win=10 ep=10 k=5\n",
      "score=0.467 | dims=32 walk=10 nwalks=40 p=0.5 q=4.0 win=5 ep=5 k=5\n",
      "score=0.548 | dims=32 walk=10 nwalks=40 p=0.5 q=4.0 win=5 ep=10 k=5\n",
      "score=0.500 | dims=32 walk=10 nwalks=40 p=0.5 q=4.0 win=10 ep=5 k=5\n",
      "score=0.479 | dims=32 walk=10 nwalks=40 p=0.5 q=4.0 win=10 ep=10 k=5\n",
      "score=0.327 | dims=32 walk=10 nwalks=40 p=1.0 q=1.0 win=5 ep=5 k=5\n",
      "score=0.520 | dims=32 walk=10 nwalks=40 p=1.0 q=1.0 win=5 ep=10 k=5\n",
      "score=0.361 | dims=32 walk=10 nwalks=40 p=1.0 q=1.0 win=10 ep=5 k=5\n",
      "score=0.577 | dims=32 walk=10 nwalks=40 p=1.0 q=1.0 win=10 ep=10 k=5\n",
      "score=0.435 | dims=32 walk=10 nwalks=40 p=1.0 q=2.0 win=5 ep=5 k=5\n",
      "score=0.623 | dims=32 walk=10 nwalks=40 p=1.0 q=2.0 win=5 ep=10 k=5\n",
      "score=0.479 | dims=32 walk=10 nwalks=40 p=1.0 q=2.0 win=10 ep=5 k=5\n",
      "score=0.553 | dims=32 walk=10 nwalks=40 p=1.0 q=2.0 win=10 ep=10 k=5\n",
      "score=0.475 | dims=32 walk=10 nwalks=40 p=1.0 q=4.0 win=5 ep=5 k=5\n",
      "score=0.618 | dims=32 walk=10 nwalks=40 p=1.0 q=4.0 win=5 ep=10 k=5\n",
      "score=0.500 | dims=32 walk=10 nwalks=40 p=1.0 q=4.0 win=10 ep=5 k=5\n",
      "score=0.515 | dims=32 walk=10 nwalks=40 p=1.0 q=4.0 win=10 ep=10 k=5\n",
      "score=0.354 | dims=32 walk=10 nwalks=40 p=2.0 q=1.0 win=5 ep=5 k=5\n",
      "score=0.634 | dims=32 walk=10 nwalks=40 p=2.0 q=1.0 win=5 ep=10 k=5\n",
      "score=0.344 | dims=32 walk=10 nwalks=40 p=2.0 q=1.0 win=10 ep=5 k=5\n",
      "score=0.510 | dims=32 walk=10 nwalks=40 p=2.0 q=1.0 win=10 ep=10 k=5\n",
      "score=0.380 | dims=32 walk=10 nwalks=40 p=2.0 q=2.0 win=5 ep=5 k=5\n",
      "score=0.583 | dims=32 walk=10 nwalks=40 p=2.0 q=2.0 win=5 ep=10 k=5\n",
      "score=0.413 | dims=32 walk=10 nwalks=40 p=2.0 q=2.0 win=10 ep=5 k=5\n",
      "score=0.577 | dims=32 walk=10 nwalks=40 p=2.0 q=2.0 win=10 ep=10 k=5\n",
      "score=0.428 | dims=32 walk=10 nwalks=40 p=2.0 q=4.0 win=5 ep=5 k=5\n",
      "score=0.513 | dims=32 walk=10 nwalks=40 p=2.0 q=4.0 win=5 ep=10 k=5\n",
      "score=0.469 | dims=32 walk=10 nwalks=40 p=2.0 q=4.0 win=10 ep=5 k=5\n",
      "score=0.657 | dims=32 walk=10 nwalks=40 p=2.0 q=4.0 win=10 ep=10 k=5\n",
      "score=0.489 | dims=32 walk=15 nwalks=30 p=0.5 q=1.0 win=5 ep=5 k=5\n",
      "score=0.448 | dims=32 walk=15 nwalks=30 p=0.5 q=1.0 win=5 ep=10 k=5\n",
      "score=0.565 | dims=32 walk=15 nwalks=30 p=0.5 q=1.0 win=10 ep=5 k=5\n",
      "score=0.517 | dims=32 walk=15 nwalks=30 p=0.5 q=1.0 win=10 ep=10 k=5\n",
      "score=0.543 | dims=32 walk=15 nwalks=30 p=0.5 q=2.0 win=5 ep=5 k=5\n",
      "score=0.520 | dims=32 walk=15 nwalks=30 p=0.5 q=2.0 win=5 ep=10 k=5\n",
      "score=0.512 | dims=32 walk=15 nwalks=30 p=0.5 q=2.0 win=10 ep=5 k=5\n",
      "score=0.463 | dims=32 walk=15 nwalks=30 p=0.5 q=2.0 win=10 ep=10 k=5\n",
      "score=0.546 | dims=32 walk=15 nwalks=30 p=0.5 q=4.0 win=5 ep=5 k=5\n",
      "score=0.425 | dims=32 walk=15 nwalks=30 p=0.5 q=4.0 win=5 ep=10 k=5\n",
      "score=0.448 | dims=32 walk=15 nwalks=30 p=0.5 q=4.0 win=10 ep=5 k=5\n",
      "score=0.458 | dims=32 walk=15 nwalks=30 p=0.5 q=4.0 win=10 ep=10 k=5\n",
      "score=0.558 | dims=32 walk=15 nwalks=30 p=1.0 q=1.0 win=5 ep=5 k=5\n",
      "score=0.584 | dims=32 walk=15 nwalks=30 p=1.0 q=1.0 win=5 ep=10 k=5\n",
      "score=0.530 | dims=32 walk=15 nwalks=30 p=1.0 q=1.0 win=10 ep=5 k=5\n",
      "score=0.537 | dims=32 walk=15 nwalks=30 p=1.0 q=1.0 win=10 ep=10 k=5\n",
      "score=0.461 | dims=32 walk=15 nwalks=30 p=1.0 q=2.0 win=5 ep=5 k=5\n",
      "score=0.535 | dims=32 walk=15 nwalks=30 p=1.0 q=2.0 win=5 ep=10 k=5\n",
      "score=0.463 | dims=32 walk=15 nwalks=30 p=1.0 q=2.0 win=10 ep=5 k=5\n",
      "score=0.423 | dims=32 walk=15 nwalks=30 p=1.0 q=2.0 win=10 ep=10 k=5\n",
      "score=0.522 | dims=32 walk=15 nwalks=30 p=1.0 q=4.0 win=5 ep=5 k=5\n",
      "score=0.548 | dims=32 walk=15 nwalks=30 p=1.0 q=4.0 win=5 ep=10 k=5\n",
      "score=0.488 | dims=32 walk=15 nwalks=30 p=1.0 q=4.0 win=10 ep=5 k=5\n",
      "score=0.469 | dims=32 walk=15 nwalks=30 p=1.0 q=4.0 win=10 ep=10 k=5\n",
      "score=0.465 | dims=32 walk=15 nwalks=30 p=2.0 q=1.0 win=5 ep=5 k=5\n",
      "score=0.456 | dims=32 walk=15 nwalks=30 p=2.0 q=1.0 win=5 ep=10 k=5\n",
      "score=0.424 | dims=32 walk=15 nwalks=30 p=2.0 q=1.0 win=10 ep=5 k=5\n",
      "score=0.588 | dims=32 walk=15 nwalks=30 p=2.0 q=1.0 win=10 ep=10 k=5\n",
      "score=0.486 | dims=32 walk=15 nwalks=30 p=2.0 q=2.0 win=5 ep=5 k=5\n",
      "score=0.465 | dims=32 walk=15 nwalks=30 p=2.0 q=2.0 win=5 ep=10 k=5\n",
      "score=0.441 | dims=32 walk=15 nwalks=30 p=2.0 q=2.0 win=10 ep=5 k=5\n",
      "score=0.477 | dims=32 walk=15 nwalks=30 p=2.0 q=2.0 win=10 ep=10 k=5\n",
      "score=0.497 | dims=32 walk=15 nwalks=30 p=2.0 q=4.0 win=5 ep=5 k=5\n",
      "score=0.537 | dims=32 walk=15 nwalks=30 p=2.0 q=4.0 win=5 ep=10 k=5\n",
      "score=0.547 | dims=32 walk=15 nwalks=30 p=2.0 q=4.0 win=10 ep=5 k=5\n",
      "score=0.533 | dims=32 walk=15 nwalks=30 p=2.0 q=4.0 win=10 ep=10 k=5\n",
      "score=0.553 | dims=32 walk=15 nwalks=40 p=0.5 q=1.0 win=5 ep=5 k=5\n",
      "score=0.504 | dims=32 walk=15 nwalks=40 p=0.5 q=1.0 win=5 ep=10 k=5\n",
      "score=0.586 | dims=32 walk=15 nwalks=40 p=0.5 q=1.0 win=10 ep=5 k=5\n",
      "score=0.372 | dims=32 walk=15 nwalks=40 p=0.5 q=1.0 win=10 ep=10 k=5\n",
      "score=0.567 | dims=32 walk=15 nwalks=40 p=0.5 q=2.0 win=5 ep=5 k=5\n",
      "score=0.391 | dims=32 walk=15 nwalks=40 p=0.5 q=2.0 win=5 ep=10 k=5\n",
      "score=0.517 | dims=32 walk=15 nwalks=40 p=0.5 q=2.0 win=10 ep=5 k=5\n",
      "score=0.376 | dims=32 walk=15 nwalks=40 p=0.5 q=2.0 win=10 ep=10 k=5\n",
      "score=0.446 | dims=32 walk=15 nwalks=40 p=0.5 q=4.0 win=5 ep=5 k=5\n",
      "score=0.444 | dims=32 walk=15 nwalks=40 p=0.5 q=4.0 win=5 ep=10 k=5\n",
      "score=0.482 | dims=32 walk=15 nwalks=40 p=0.5 q=4.0 win=10 ep=5 k=5\n",
      "score=0.435 | dims=32 walk=15 nwalks=40 p=0.5 q=4.0 win=10 ep=10 k=5\n",
      "score=0.520 | dims=32 walk=15 nwalks=40 p=1.0 q=1.0 win=5 ep=5 k=5\n",
      "score=0.371 | dims=32 walk=15 nwalks=40 p=1.0 q=1.0 win=5 ep=10 k=5\n",
      "score=0.554 | dims=32 walk=15 nwalks=40 p=1.0 q=1.0 win=10 ep=5 k=5\n",
      "score=0.427 | dims=32 walk=15 nwalks=40 p=1.0 q=1.0 win=10 ep=10 k=5\n",
      "score=0.550 | dims=32 walk=15 nwalks=40 p=1.0 q=2.0 win=5 ep=5 k=5\n",
      "score=0.427 | dims=32 walk=15 nwalks=40 p=1.0 q=2.0 win=5 ep=10 k=5\n",
      "score=0.566 | dims=32 walk=15 nwalks=40 p=1.0 q=2.0 win=10 ep=5 k=5\n",
      "score=0.438 | dims=32 walk=15 nwalks=40 p=1.0 q=2.0 win=10 ep=10 k=5\n",
      "score=0.541 | dims=32 walk=15 nwalks=40 p=1.0 q=4.0 win=5 ep=5 k=5\n",
      "score=0.483 | dims=32 walk=15 nwalks=40 p=1.0 q=4.0 win=5 ep=10 k=5\n",
      "score=0.585 | dims=32 walk=15 nwalks=40 p=1.0 q=4.0 win=10 ep=5 k=5\n",
      "score=0.471 | dims=32 walk=15 nwalks=40 p=1.0 q=4.0 win=10 ep=10 k=5\n",
      "score=0.473 | dims=32 walk=15 nwalks=40 p=2.0 q=1.0 win=5 ep=5 k=5\n",
      "score=0.558 | dims=32 walk=15 nwalks=40 p=2.0 q=1.0 win=5 ep=10 k=5\n",
      "score=0.545 | dims=32 walk=15 nwalks=40 p=2.0 q=1.0 win=10 ep=5 k=5\n",
      "score=0.547 | dims=32 walk=15 nwalks=40 p=2.0 q=1.0 win=10 ep=10 k=5\n",
      "score=0.551 | dims=32 walk=15 nwalks=40 p=2.0 q=2.0 win=5 ep=5 k=5\n",
      "score=0.492 | dims=32 walk=15 nwalks=40 p=2.0 q=2.0 win=5 ep=10 k=5\n",
      "score=0.591 | dims=32 walk=15 nwalks=40 p=2.0 q=2.0 win=10 ep=5 k=5\n",
      "score=0.541 | dims=32 walk=15 nwalks=40 p=2.0 q=2.0 win=10 ep=10 k=5\n",
      "score=0.453 | dims=32 walk=15 nwalks=40 p=2.0 q=4.0 win=5 ep=5 k=5\n",
      "score=0.511 | dims=32 walk=15 nwalks=40 p=2.0 q=4.0 win=5 ep=10 k=5\n",
      "score=0.475 | dims=32 walk=15 nwalks=40 p=2.0 q=4.0 win=10 ep=5 k=5\n",
      "score=0.488 | dims=32 walk=15 nwalks=40 p=2.0 q=4.0 win=10 ep=10 k=5\n",
      "score=0.441 | dims=32 walk=20 nwalks=30 p=0.5 q=1.0 win=5 ep=5 k=5\n",
      "score=0.449 | dims=32 walk=20 nwalks=30 p=0.5 q=1.0 win=5 ep=10 k=5\n",
      "score=0.391 | dims=32 walk=20 nwalks=30 p=0.5 q=1.0 win=10 ep=5 k=5\n",
      "score=0.440 | dims=32 walk=20 nwalks=30 p=0.5 q=1.0 win=10 ep=10 k=5\n",
      "score=0.531 | dims=32 walk=20 nwalks=30 p=0.5 q=2.0 win=5 ep=5 k=5\n",
      "score=0.414 | dims=32 walk=20 nwalks=30 p=0.5 q=2.0 win=5 ep=10 k=5\n",
      "score=0.375 | dims=32 walk=20 nwalks=30 p=0.5 q=2.0 win=10 ep=5 k=5\n",
      "score=0.354 | dims=32 walk=20 nwalks=30 p=0.5 q=2.0 win=10 ep=10 k=5\n",
      "score=0.563 | dims=32 walk=20 nwalks=30 p=0.5 q=4.0 win=5 ep=5 k=5\n",
      "score=0.427 | dims=32 walk=20 nwalks=30 p=0.5 q=4.0 win=5 ep=10 k=5\n",
      "score=0.525 | dims=32 walk=20 nwalks=30 p=0.5 q=4.0 win=10 ep=5 k=5\n",
      "score=0.416 | dims=32 walk=20 nwalks=30 p=0.5 q=4.0 win=10 ep=10 k=5\n",
      "score=0.546 | dims=32 walk=20 nwalks=30 p=1.0 q=1.0 win=5 ep=5 k=5\n",
      "score=0.427 | dims=32 walk=20 nwalks=30 p=1.0 q=1.0 win=5 ep=10 k=5\n",
      "score=0.521 | dims=32 walk=20 nwalks=30 p=1.0 q=1.0 win=10 ep=5 k=5\n",
      "score=0.482 | dims=32 walk=20 nwalks=30 p=1.0 q=1.0 win=10 ep=10 k=5\n",
      "score=0.592 | dims=32 walk=20 nwalks=30 p=1.0 q=2.0 win=5 ep=5 k=5\n",
      "score=0.403 | dims=32 walk=20 nwalks=30 p=1.0 q=2.0 win=5 ep=10 k=5\n",
      "score=0.554 | dims=32 walk=20 nwalks=30 p=1.0 q=2.0 win=10 ep=5 k=5\n",
      "score=0.380 | dims=32 walk=20 nwalks=30 p=1.0 q=2.0 win=10 ep=10 k=5\n",
      "score=0.600 | dims=32 walk=20 nwalks=30 p=1.0 q=4.0 win=5 ep=5 k=5\n",
      "score=0.462 | dims=32 walk=20 nwalks=30 p=1.0 q=4.0 win=5 ep=10 k=5\n",
      "score=0.463 | dims=32 walk=20 nwalks=30 p=1.0 q=4.0 win=10 ep=5 k=5\n",
      "score=0.440 | dims=32 walk=20 nwalks=30 p=1.0 q=4.0 win=10 ep=10 k=5\n",
      "score=0.450 | dims=32 walk=20 nwalks=30 p=2.0 q=1.0 win=5 ep=5 k=5\n",
      "score=0.535 | dims=32 walk=20 nwalks=30 p=2.0 q=1.0 win=5 ep=10 k=5\n",
      "score=0.439 | dims=32 walk=20 nwalks=30 p=2.0 q=1.0 win=10 ep=5 k=5\n",
      "score=0.378 | dims=32 walk=20 nwalks=30 p=2.0 q=1.0 win=10 ep=10 k=5\n",
      "score=0.466 | dims=32 walk=20 nwalks=30 p=2.0 q=2.0 win=5 ep=5 k=5\n",
      "score=0.462 | dims=32 walk=20 nwalks=30 p=2.0 q=2.0 win=5 ep=10 k=5\n",
      "score=0.504 | dims=32 walk=20 nwalks=30 p=2.0 q=2.0 win=10 ep=5 k=5\n",
      "score=0.505 | dims=32 walk=20 nwalks=30 p=2.0 q=2.0 win=10 ep=10 k=5\n",
      "score=0.544 | dims=32 walk=20 nwalks=30 p=2.0 q=4.0 win=5 ep=5 k=5\n",
      "score=0.472 | dims=32 walk=20 nwalks=30 p=2.0 q=4.0 win=5 ep=10 k=5\n",
      "score=0.550 | dims=32 walk=20 nwalks=30 p=2.0 q=4.0 win=10 ep=5 k=5\n",
      "score=0.458 | dims=32 walk=20 nwalks=30 p=2.0 q=4.0 win=10 ep=10 k=5\n",
      "score=0.387 | dims=32 walk=20 nwalks=40 p=0.5 q=1.0 win=5 ep=5 k=5\n",
      "score=0.395 | dims=32 walk=20 nwalks=40 p=0.5 q=1.0 win=5 ep=10 k=5\n",
      "score=0.545 | dims=32 walk=20 nwalks=40 p=0.5 q=1.0 win=10 ep=5 k=5\n",
      "score=0.380 | dims=32 walk=20 nwalks=40 p=0.5 q=1.0 win=10 ep=10 k=5\n",
      "score=0.453 | dims=32 walk=20 nwalks=40 p=0.5 q=2.0 win=5 ep=5 k=5\n",
      "score=0.423 | dims=32 walk=20 nwalks=40 p=0.5 q=2.0 win=5 ep=10 k=5\n",
      "score=0.431 | dims=32 walk=20 nwalks=40 p=0.5 q=2.0 win=10 ep=5 k=5\n",
      "score=0.403 | dims=32 walk=20 nwalks=40 p=0.5 q=2.0 win=10 ep=10 k=5\n",
      "score=0.443 | dims=32 walk=20 nwalks=40 p=0.5 q=4.0 win=5 ep=5 k=5\n",
      "score=0.352 | dims=32 walk=20 nwalks=40 p=0.5 q=4.0 win=5 ep=10 k=5\n",
      "score=0.481 | dims=32 walk=20 nwalks=40 p=0.5 q=4.0 win=10 ep=5 k=5\n",
      "score=0.334 | dims=32 walk=20 nwalks=40 p=0.5 q=4.0 win=10 ep=10 k=5\n",
      "score=0.578 | dims=32 walk=20 nwalks=40 p=1.0 q=1.0 win=5 ep=5 k=5\n",
      "score=0.406 | dims=32 walk=20 nwalks=40 p=1.0 q=1.0 win=5 ep=10 k=5\n",
      "score=0.517 | dims=32 walk=20 nwalks=40 p=1.0 q=1.0 win=10 ep=5 k=5\n",
      "score=0.416 | dims=32 walk=20 nwalks=40 p=1.0 q=1.0 win=10 ep=10 k=5\n",
      "score=0.517 | dims=32 walk=20 nwalks=40 p=1.0 q=2.0 win=5 ep=5 k=5\n",
      "score=0.411 | dims=32 walk=20 nwalks=40 p=1.0 q=2.0 win=5 ep=10 k=5\n",
      "score=0.488 | dims=32 walk=20 nwalks=40 p=1.0 q=2.0 win=10 ep=5 k=5\n",
      "score=0.396 | dims=32 walk=20 nwalks=40 p=1.0 q=2.0 win=10 ep=10 k=5\n",
      "score=0.480 | dims=32 walk=20 nwalks=40 p=1.0 q=4.0 win=5 ep=5 k=5\n",
      "score=0.456 | dims=32 walk=20 nwalks=40 p=1.0 q=4.0 win=5 ep=10 k=5\n",
      "score=0.523 | dims=32 walk=20 nwalks=40 p=1.0 q=4.0 win=10 ep=5 k=5\n",
      "score=0.458 | dims=32 walk=20 nwalks=40 p=1.0 q=4.0 win=10 ep=10 k=5\n",
      "score=0.567 | dims=32 walk=20 nwalks=40 p=2.0 q=1.0 win=5 ep=5 k=5\n",
      "score=0.548 | dims=32 walk=20 nwalks=40 p=2.0 q=1.0 win=5 ep=10 k=5\n",
      "score=0.495 | dims=32 walk=20 nwalks=40 p=2.0 q=1.0 win=10 ep=5 k=5\n",
      "score=0.410 | dims=32 walk=20 nwalks=40 p=2.0 q=1.0 win=10 ep=10 k=5\n",
      "score=0.530 | dims=32 walk=20 nwalks=40 p=2.0 q=2.0 win=5 ep=5 k=5\n",
      "score=0.452 | dims=32 walk=20 nwalks=40 p=2.0 q=2.0 win=5 ep=10 k=5\n",
      "score=0.563 | dims=32 walk=20 nwalks=40 p=2.0 q=2.0 win=10 ep=5 k=5\n",
      "score=0.400 | dims=32 walk=20 nwalks=40 p=2.0 q=2.0 win=10 ep=10 k=5\n",
      "score=0.537 | dims=32 walk=20 nwalks=40 p=2.0 q=4.0 win=5 ep=5 k=5\n",
      "score=0.449 | dims=32 walk=20 nwalks=40 p=2.0 q=4.0 win=5 ep=10 k=5\n",
      "score=0.487 | dims=32 walk=20 nwalks=40 p=2.0 q=4.0 win=10 ep=5 k=5\n",
      "score=0.441 | dims=32 walk=20 nwalks=40 p=2.0 q=4.0 win=10 ep=10 k=5\n",
      "\n",
      "Best: (0.657311737537384, {'dims': 32, 'walk': 10, 'nwalks': 40, 'p': 2.0, 'q': 4.0, 'win': 10, 'ep': 10, 'k': 5})\n"
     ]
    }
   ],
   "source": [
    "\n",
    "dims_list = [16, 32]\n",
    "walk_list = [10, 15, 20]\n",
    "nwalks_list = [30, 40]\n",
    "p_list = [0.5, 1.0, 2.0]\n",
    "q_list = [1.0, 2.0, 4.0]  # higher q = more local (often better for communities)\n",
    "window_list = [5, 10]\n",
    "epochs_list = [5, 10]\n",
    "k_values = [5]\n",
    "\n",
    "results = []\n",
    "for dims, walk, nwalks, p, q, win, ep in product(dims_list, walk_list, nwalks_list, p_list, q_list, window_list, epochs_list):\n",
    "    res = eval_config(graph, dims, walk, nwalks, p, q, win, ep, k_values, weight_key='transition_frequency')\n",
    "    results.append((res['score'], {'dims': dims, 'walk': walk, 'nwalks': nwalks, 'p': p, 'q': q, 'win': win, 'ep': ep, 'k': res.get('k')}))\n",
    "    print(f\"score={res['score']:.3f} | dims={dims} walk={walk} nwalks={nwalks} p={p} q={q} win={win} ep={ep} k={res.get('k')}\")\n",
    "\n",
    "best = max(results, key=lambda x: x[0])\n",
    "print(\"\\nBest:\", best)"
   ]
  },
  {
   "cell_type": "markdown",
   "id": "d37697c7",
   "metadata": {},
   "source": [
    "Best: (0.657311737537384, {'dims': 32, 'walk': 10, 'nwalks': 40, 'p': 2.0, 'q': 4.0, 'win': 10, 'ep': 10, 'k': 5}"
   ]
  },
  {
   "cell_type": "markdown",
   "id": "bffc8d5e",
   "metadata": {},
   "source": [
    "### Best visualization"
   ]
  },
  {
   "cell_type": "code",
   "execution_count": null,
   "id": "adc04727",
   "metadata": {},
   "outputs": [
    {
     "name": "stderr",
     "output_type": "stream",
     "text": [
      "Computing transition probabilities: 100%|██████████| 39/39 [00:00<00:00, 12307.42it/s]\n",
      "Generating walks (CPU: 1): 100%|██████████| 40/40 [00:00<00:00, 2686.93it/s]\n"
     ]
    },
    {
     "name": "stdout",
     "output_type": "stream",
     "text": [
      "0.657311737537384\n"
     ]
    }
   ],
   "source": [
    "node2vec = Node2Vec(\n",
    "    graph,\n",
    "    dimensions=32,        # Embedding size\n",
    "    walk_length=10,       # Length of random walks\n",
    "    num_walks=40,        # Number of walks per node\n",
    "    p=2.0,                # Return parameter (likelihood of returning to previous node)\n",
    "    q=4.0,                # In-out parameter (BFS vs DFS)\n",
    "    workers=1,            # Set to 1 to avoid multiprocessing issues\n",
    "    quiet=False,\n",
    "    seed=42           \n",
    ")\n",
    "\n",
    "model = node2vec.fit(\n",
    "    window=10,            # Context window size\n",
    "    min_count=1,          # Minimum word count\n",
    "    batch_words=4,        # Batch size\n",
    "    epochs=10             # Training epochs\n",
    ")\n",
    "\n",
    "# Perform K-means clustering\n",
    "n_clusters = 5\n",
    "kmeans = KMeans(n_clusters=n_clusters, random_state=42, n_init=10)\n",
    "node2vec_labels = kmeans.fit_predict(X)\n",
    "\n",
    "nodes = list(graph.nodes())\n",
    "X = np.array([model.wv[str(n)] for n in nodes])\n",
    "X = normalize(X)\n",
    "\n",
    "score = silhouette_score(X, node2vec_labels, metric='cosine')\n",
    "print(score)"
   ]
  },
  {
   "cell_type": "code",
   "execution_count": 78,
   "id": "b080fdca",
   "metadata": {},
   "outputs": [
    {
     "name": "stdout",
     "output_type": "stream",
     "text": [
      "Found 112 graphs\n",
      "\n",
      "Processing graph 1/112: ./graphs/graph_match2499719_team1609.pkl\n",
      "Silhouette score for graph 1: 0.6573\n",
      "\n",
      "Processing graph 2/112: ./graphs/graph_match2499720_team1625.pkl\n",
      "Silhouette score for graph 2: 0.6538\n",
      "\n",
      "Processing graph 3/112: ./graphs/graph_match2499727_team1612.pkl\n",
      "Silhouette score for graph 3: 0.6071\n",
      "\n",
      "Processing graph 4/112: ./graphs/graph_match2499733_team1612.pkl\n",
      "Silhouette score for graph 4: 0.6064\n",
      "\n",
      "Processing graph 5/112: ./graphs/graph_match2499734_team1625.pkl\n",
      "Silhouette score for graph 5: 0.6531\n",
      "\n",
      "Processing graph 6/112: ./graphs/graph_match2499735_team1609.pkl\n",
      "Silhouette score for graph 6: 0.5911\n",
      "\n",
      "Processing graph 7/112: ./graphs/graph_match2499739_team1625.pkl\n",
      "Silhouette score for graph 7: 0.6174\n",
      "\n",
      "Processing graph 8/112: ./graphs/graph_match2499743_team1609.pkl\n",
      "Silhouette score for graph 8: 0.5033\n",
      "\n",
      "Processing graph 9/112: ./graphs/graph_match2499743_team1612.pkl\n"
     ]
    },
    {
     "name": "stderr",
     "output_type": "stream",
     "text": [
      "Exception ignored in: 'gensim.models.word2vec_inner.our_dot_float'\n"
     ]
    },
    {
     "name": "stdout",
     "output_type": "stream",
     "text": [
      "Silhouette score for graph 9: 0.5606\n",
      "\n",
      "Processing graph 10/112: ./graphs/graph_match2499749_team1609.pkl\n",
      "Silhouette score for graph 10: 0.5280\n",
      "\n",
      "Processing graph 11/112: ./graphs/graph_match2499754_team1612.pkl\n",
      "Silhouette score for graph 11: 0.6237\n",
      "\n",
      "Processing graph 12/112: ./graphs/graph_match2499754_team1625.pkl\n",
      "Silhouette score for graph 12: 0.4923\n",
      "\n",
      "Processing graph 13/112: ./graphs/graph_match2499760_team1609.pkl\n",
      "Silhouette score for graph 13: 0.5713\n",
      "\n",
      "Processing graph 14/112: ./graphs/graph_match2499763_team1612.pkl\n",
      "Silhouette score for graph 14: 0.5297\n",
      "\n",
      "Processing graph 15/112: ./graphs/graph_match2499767_team1625.pkl\n",
      "Silhouette score for graph 15: 0.6068\n",
      "\n",
      "Processing graph 16/112: ./graphs/graph_match2499769_team1609.pkl\n",
      "Silhouette score for graph 16: 0.6002\n",
      "\n",
      "Processing graph 17/112: ./graphs/graph_match2499773_team1612.pkl\n",
      "Silhouette score for graph 17: 0.5806\n",
      "\n",
      "Processing graph 18/112: ./graphs/graph_match2499774_team1625.pkl\n",
      "Silhouette score for graph 18: 0.4850\n",
      "\n",
      "Processing graph 19/112: ./graphs/graph_match2499780_team1609.pkl\n",
      "Silhouette score for graph 19: 0.5261\n",
      "\n",
      "Processing graph 20/112: ./graphs/graph_match2499781_team1625.pkl\n",
      "Silhouette score for graph 20: 0.5709\n",
      "\n",
      "Processing graph 21/112: ./graphs/graph_match2499785_team1612.pkl\n",
      "Silhouette score for graph 21: 0.5884\n",
      "\n",
      "Processing graph 22/112: ./graphs/graph_match2499793_team1612.pkl\n",
      "Silhouette score for graph 22: 0.5934\n",
      "\n",
      "Processing graph 23/112: ./graphs/graph_match2499794_team1625.pkl\n",
      "Silhouette score for graph 23: 0.5371\n",
      "\n",
      "Processing graph 24/112: ./graphs/graph_match2499798_team1609.pkl\n",
      "Silhouette score for graph 24: 0.5603\n",
      "\n",
      "Processing graph 25/112: ./graphs/graph_match2499800_team1609.pkl\n",
      "Silhouette score for graph 25: 0.5955\n",
      "\n",
      "Processing graph 26/112: ./graphs/graph_match2499802_team1625.pkl\n",
      "Silhouette score for graph 26: 0.5445\n",
      "\n",
      "Processing graph 27/112: ./graphs/graph_match2499807_team1612.pkl\n",
      "Silhouette score for graph 27: 0.5238\n",
      "\n",
      "Processing graph 28/112: ./graphs/graph_match2499810_team1609.pkl\n",
      "Silhouette score for graph 28: 0.5379\n",
      "\n",
      "Processing graph 29/112: ./graphs/graph_match2499815_team1612.pkl\n",
      "Silhouette score for graph 29: 0.5708\n",
      "\n",
      "Processing graph 30/112: ./graphs/graph_match2499818_team1625.pkl\n"
     ]
    },
    {
     "name": "stderr",
     "output_type": "stream",
     "text": [
      "Exception ignored in: 'gensim.models.word2vec_inner.our_dot_float'\n"
     ]
    },
    {
     "name": "stdout",
     "output_type": "stream",
     "text": [
      "Silhouette score for graph 30: 0.5220\n",
      "\n",
      "Processing graph 31/112: ./graphs/graph_match2499822_team1609.pkl\n",
      "Silhouette score for graph 31: 0.5783\n",
      "\n",
      "Processing graph 32/112: ./graphs/graph_match2499822_team1625.pkl\n",
      "Silhouette score for graph 32: 0.6383\n",
      "\n",
      "Processing graph 33/112: ./graphs/graph_match2499828_team1612.pkl\n",
      "Silhouette score for graph 33: 0.5118\n",
      "\n",
      "Processing graph 34/112: ./graphs/graph_match2499830_team1609.pkl\n",
      "Silhouette score for graph 34: 0.5439\n",
      "\n",
      "Processing graph 35/112: ./graphs/graph_match2499834_team1625.pkl\n",
      "Silhouette score for graph 35: 0.5653\n",
      "\n",
      "Processing graph 36/112: ./graphs/graph_match2499835_team1612.pkl\n",
      "Silhouette score for graph 36: 0.5354\n",
      "\n",
      "Processing graph 37/112: ./graphs/graph_match2499839_team1609.pkl\n"
     ]
    },
    {
     "name": "stderr",
     "output_type": "stream",
     "text": [
      "Exception ignored in: 'gensim.models.word2vec_inner.our_dot_float'\n"
     ]
    },
    {
     "name": "stdout",
     "output_type": "stream",
     "text": [
      "Silhouette score for graph 37: 0.5329\n",
      "\n",
      "Processing graph 38/112: ./graphs/graph_match2499841_team1625.pkl\n",
      "Silhouette score for graph 38: 0.5093\n",
      "\n",
      "Processing graph 39/112: ./graphs/graph_match2499842_team1612.pkl\n",
      "Silhouette score for graph 39: 0.5623\n",
      "\n",
      "Processing graph 40/112: ./graphs/graph_match2499850_team1609.pkl\n",
      "Silhouette score for graph 40: 0.5883\n",
      "\n",
      "Processing graph 41/112: ./graphs/graph_match2499857_team1625.pkl\n",
      "Silhouette score for graph 41: 0.5640\n",
      "\n",
      "Processing graph 42/112: ./graphs/graph_match2499858_team1612.pkl\n",
      "Silhouette score for graph 42: 0.5844\n",
      "\n",
      "Processing graph 43/112: ./graphs/graph_match2499860_team1609.pkl\n",
      "Silhouette score for graph 43: 0.5604\n",
      "\n",
      "Processing graph 44/112: ./graphs/graph_match2499861_team1612.pkl\n",
      "Silhouette score for graph 44: 0.5219\n",
      "\n",
      "Processing graph 45/112: ./graphs/graph_match2499865_team1625.pkl\n",
      "Silhouette score for graph 45: 0.5270\n",
      "\n",
      "Processing graph 46/112: ./graphs/graph_match2499872_team1612.pkl\n",
      "Silhouette score for graph 46: 0.5119\n",
      "\n",
      "Processing graph 47/112: ./graphs/graph_match2499873_team1625.pkl\n",
      "Silhouette score for graph 47: 0.5053\n",
      "\n",
      "Processing graph 48/112: ./graphs/graph_match2499875_team1609.pkl\n",
      "Silhouette score for graph 48: 0.4927\n",
      "\n",
      "Processing graph 49/112: ./graphs/graph_match2499881_team1625.pkl\n",
      "Silhouette score for graph 49: 0.5468\n",
      "\n",
      "Processing graph 50/112: ./graphs/graph_match2499882_team1609.pkl\n"
     ]
    },
    {
     "name": "stderr",
     "output_type": "stream",
     "text": [
      "Exception ignored in: 'gensim.models.word2vec_inner.our_dot_float'\n"
     ]
    },
    {
     "name": "stdout",
     "output_type": "stream",
     "text": [
      "Silhouette score for graph 50: 0.5248\n",
      "\n",
      "Processing graph 51/112: ./graphs/graph_match2499887_team1612.pkl\n",
      "Silhouette score for graph 51: 0.5613\n",
      "\n",
      "Processing graph 52/112: ./graphs/graph_match2499889_team1612.pkl\n",
      "Silhouette score for graph 52: 0.5508\n",
      "\n",
      "Processing graph 53/112: ./graphs/graph_match2499890_team1609.pkl\n",
      "Silhouette score for graph 53: 0.5280\n",
      "\n",
      "Processing graph 54/112: ./graphs/graph_match2499895_team1625.pkl\n",
      "Silhouette score for graph 54: 0.6236\n",
      "\n",
      "Processing graph 55/112: ./graphs/graph_match2499899_team1609.pkl\n",
      "Silhouette score for graph 55: 0.6441\n",
      "\n",
      "Processing graph 56/112: ./graphs/graph_match2499899_team1612.pkl\n",
      "Silhouette score for graph 56: 0.5940\n",
      "\n",
      "Processing graph 57/112: ./graphs/graph_match2499904_team1625.pkl\n",
      "Silhouette score for graph 57: 0.4746\n",
      "\n",
      "Processing graph 58/112: ./graphs/graph_match2499911_team1609.pkl\n",
      "Silhouette score for graph 58: 0.5701\n",
      "\n",
      "Processing graph 59/112: ./graphs/graph_match2499913_team1612.pkl\n",
      "Silhouette score for graph 59: 0.6658\n",
      "\n",
      "Processing graph 60/112: ./graphs/graph_match2499915_team1625.pkl\n",
      "Silhouette score for graph 60: 0.6039\n",
      "\n",
      "Processing graph 61/112: ./graphs/graph_match2499921_team1625.pkl\n",
      "Silhouette score for graph 61: 0.4690\n",
      "\n",
      "Processing graph 62/112: ./graphs/graph_match2499923_team1612.pkl\n",
      "Silhouette score for graph 62: 0.5352\n",
      "\n",
      "Processing graph 63/112: ./graphs/graph_match2499928_team1609.pkl\n",
      "Silhouette score for graph 63: 0.5724\n",
      "\n",
      "Processing graph 64/112: ./graphs/graph_match2499929_team1609.pkl\n",
      "Silhouette score for graph 64: 0.5310\n",
      "\n",
      "Processing graph 65/112: ./graphs/graph_match2499931_team1612.pkl\n",
      "Silhouette score for graph 65: 0.4146\n",
      "\n",
      "Processing graph 66/112: ./graphs/graph_match2499934_team1625.pkl\n",
      "Silhouette score for graph 66: 0.5232\n",
      "\n",
      "Processing graph 67/112: ./graphs/graph_match2499939_team1609.pkl\n",
      "Silhouette score for graph 67: 0.5894\n",
      "\n",
      "Processing graph 68/112: ./graphs/graph_match2499943_team1612.pkl\n",
      "Silhouette score for graph 68: 0.5848\n",
      "\n",
      "Processing graph 69/112: ./graphs/graph_match2499943_team1625.pkl\n",
      "Silhouette score for graph 69: 0.5824\n",
      "\n",
      "Processing graph 70/112: ./graphs/graph_match2499949_team1609.pkl\n",
      "Silhouette score for graph 70: 0.6448\n",
      "\n",
      "Processing graph 71/112: ./graphs/graph_match2499954_team1625.pkl\n",
      "Silhouette score for graph 71: 0.4966\n",
      "\n",
      "Processing graph 72/112: ./graphs/graph_match2499957_team1612.pkl\n",
      "Silhouette score for graph 72: 0.6250\n",
      "\n",
      "Processing graph 73/112: ./graphs/graph_match2499959_team1612.pkl\n",
      "Silhouette score for graph 73: 0.5250\n",
      "\n",
      "Processing graph 74/112: ./graphs/graph_match2499960_team1609.pkl\n",
      "Silhouette score for graph 74: 0.5575\n",
      "\n",
      "Processing graph 75/112: ./graphs/graph_match2499966_team1625.pkl\n",
      "Silhouette score for graph 75: 0.6474\n",
      "\n",
      "Processing graph 76/112: ./graphs/graph_match2499970_team1609.pkl\n",
      "Silhouette score for graph 76: 0.5878\n",
      "\n",
      "Processing graph 77/112: ./graphs/graph_match2499972_team1625.pkl\n",
      "Silhouette score for graph 77: 0.4794\n",
      "\n",
      "Processing graph 78/112: ./graphs/graph_match2499975_team1612.pkl\n"
     ]
    },
    {
     "name": "stderr",
     "output_type": "stream",
     "text": [
      "Exception ignored in: 'gensim.models.word2vec_inner.our_dot_float'\n"
     ]
    },
    {
     "name": "stdout",
     "output_type": "stream",
     "text": [
      "Silhouette score for graph 78: 0.4688\n",
      "\n",
      "Processing graph 79/112: ./graphs/graph_match2499982_team1625.pkl\n",
      "Silhouette score for graph 79: 0.5489\n",
      "\n",
      "Processing graph 80/112: ./graphs/graph_match2499984_team1612.pkl\n",
      "Silhouette score for graph 80: 0.6409\n",
      "\n",
      "Processing graph 81/112: ./graphs/graph_match2499987_team1609.pkl\n",
      "Silhouette score for graph 81: 0.5875\n",
      "\n",
      "Processing graph 82/112: ./graphs/graph_match2499990_team1609.pkl\n",
      "Silhouette score for graph 82: 0.5447\n",
      "\n",
      "Processing graph 83/112: ./graphs/graph_match2499990_team1625.pkl\n",
      "Silhouette score for graph 83: 0.5363\n",
      "\n",
      "Processing graph 84/112: ./graphs/graph_match2499995_team1612.pkl\n",
      "Silhouette score for graph 84: 0.5753\n",
      "\n",
      "Processing graph 85/112: ./graphs/graph_match2499999_team1609.pkl\n",
      "Silhouette score for graph 85: 0.5259\n",
      "\n",
      "Processing graph 86/112: ./graphs/graph_match2500003_team1612.pkl\n",
      "Silhouette score for graph 86: 0.4882\n",
      "\n",
      "Processing graph 87/112: ./graphs/graph_match2500004_team1625.pkl\n",
      "Silhouette score for graph 87: 0.5222\n",
      "\n",
      "Processing graph 88/112: ./graphs/graph_match2500010_team1609.pkl\n",
      "Silhouette score for graph 88: 0.5840\n",
      "\n",
      "Processing graph 89/112: ./graphs/graph_match2500014_team1612.pkl\n",
      "Silhouette score for graph 89: 0.6313\n",
      "\n",
      "Processing graph 90/112: ./graphs/graph_match2500016_team1625.pkl\n",
      "Silhouette score for graph 90: 0.5084\n",
      "\n",
      "Processing graph 91/112: ./graphs/graph_match2500022_team1609.pkl\n",
      "Silhouette score for graph 91: 0.5757\n",
      "\n",
      "Processing graph 92/112: ./graphs/graph_match2500023_team1612.pkl\n",
      "Silhouette score for graph 92: 0.4946\n",
      "\n",
      "Processing graph 93/112: ./graphs/graph_match2500024_team1625.pkl\n",
      "Silhouette score for graph 93: 0.5903\n",
      "\n",
      "Processing graph 94/112: ./graphs/graph_match2500029_team1609.pkl\n",
      "Silhouette score for graph 94: 0.5737\n",
      "\n",
      "Processing graph 95/112: ./graphs/graph_match2500032_team1612.pkl\n",
      "Silhouette score for graph 95: 0.5100\n",
      "\n",
      "Processing graph 96/112: ./graphs/graph_match2500040_team1609.pkl\n",
      "Silhouette score for graph 96: 0.5916\n",
      "\n",
      "Processing graph 97/112: ./graphs/graph_match2500045_team1625.pkl\n",
      "Silhouette score for graph 97: 0.4755\n",
      "\n",
      "Processing graph 98/112: ./graphs/graph_match2500052_team1612.pkl\n",
      "Silhouette score for graph 98: 0.5894\n",
      "\n",
      "Processing graph 99/112: ./graphs/graph_match2500054_team1609.pkl\n",
      "Silhouette score for graph 99: 0.5856\n",
      "\n",
      "Processing graph 100/112: ./graphs/graph_match2500057_team1625.pkl\n",
      "Silhouette score for graph 100: 0.5056\n",
      "\n",
      "Processing graph 101/112: ./graphs/graph_match2500060_team1609.pkl\n"
     ]
    },
    {
     "name": "stderr",
     "output_type": "stream",
     "text": [
      "Exception ignored in: 'gensim.models.word2vec_inner.our_dot_float'\n"
     ]
    },
    {
     "name": "stdout",
     "output_type": "stream",
     "text": [
      "Silhouette score for graph 101: 0.5014\n",
      "\n",
      "Processing graph 102/112: ./graphs/graph_match2500065_team1625.pkl\n",
      "Silhouette score for graph 102: 0.4966\n",
      "\n",
      "Processing graph 103/112: ./graphs/graph_match2500068_team1612.pkl\n",
      "Silhouette score for graph 103: 0.5463\n",
      "\n",
      "Processing graph 104/112: ./graphs/graph_match2500072_team1612.pkl\n",
      "Silhouette score for graph 104: 0.5035\n",
      "\n",
      "Processing graph 105/112: ./graphs/graph_match2500073_team1609.pkl\n",
      "Silhouette score for graph 105: 0.5597\n",
      "\n",
      "Processing graph 106/112: ./graphs/graph_match2500078_team1625.pkl\n",
      "Silhouette score for graph 106: 0.6222\n",
      "\n",
      "Processing graph 107/112: ./graphs/graph_match2500080_team1609.pkl\n",
      "Silhouette score for graph 107: 0.4664\n",
      "\n",
      "Processing graph 108/112: ./graphs/graph_match2500082_team1612.pkl\n",
      "Silhouette score for graph 108: 0.5951\n",
      "\n",
      "Processing graph 109/112: ./graphs/graph_match2500085_team1625.pkl\n",
      "Silhouette score for graph 109: 0.5591\n",
      "\n",
      "Processing graph 110/112: ./graphs/graph_match2500091_team1609.pkl\n",
      "Silhouette score for graph 110: 0.6080\n",
      "\n",
      "Processing graph 111/112: ./graphs/graph_match2500092_team1612.pkl\n",
      "Silhouette score for graph 111: 0.5256\n",
      "\n",
      "Processing graph 112/112: ./graphs/graph_match2500095_team1625.pkl\n",
      "Silhouette score for graph 112: 0.4686\n",
      "\n",
      "=== Summary ===\n",
      "Mean Silhouette Score: 0.5565\n",
      "Standard Deviation:    0.0504\n"
     ]
    }
   ],
   "source": [
    "import pickle\n",
    "import numpy as np\n",
    "from glob import glob\n",
    "from node2vec import Node2Vec\n",
    "from sklearn.cluster import KMeans\n",
    "from sklearn.metrics import silhouette_score\n",
    "from sklearn.preprocessing import normalize\n",
    "\n",
    "# Find all graph files\n",
    "graph_files = sorted(glob('./graphs/*.pkl'))\n",
    "print(f\"Found {len(graph_files)} graphs\")\n",
    "\n",
    "silhouette_scores = []\n",
    "\n",
    "for i, file in enumerate(graph_files, start=1):\n",
    "    with open(file, 'rb') as f:\n",
    "        G = pickle.load(f)\n",
    "\n",
    "    print(f\"\\nProcessing graph {i}/{len(graph_files)}: {file}\")\n",
    "\n",
    "    # Train Node2Vec on the current graph\n",
    "    node2vec = Node2Vec(\n",
    "        G,\n",
    "        dimensions=32,\n",
    "        walk_length=10,\n",
    "        num_walks=40,\n",
    "        p=2.0,\n",
    "        q=4.0,\n",
    "        workers=1,\n",
    "        quiet=True,\n",
    "        seed=42\n",
    "    )\n",
    "\n",
    "    model = node2vec.fit(\n",
    "        window=10,\n",
    "        min_count=1,\n",
    "        batch_words=4,\n",
    "        epochs=10\n",
    "    )\n",
    "\n",
    "    # Extract embeddings\n",
    "    nodes = list(G.nodes())\n",
    "    X = np.array([model.wv[str(n)] for n in nodes])\n",
    "    X = normalize(X)\n",
    "\n",
    "    # Perform K-means clustering\n",
    "    n_clusters = 5\n",
    "    kmeans = KMeans(n_clusters=n_clusters, random_state=42, n_init=10)\n",
    "    labels = kmeans.fit_predict(X)\n",
    "\n",
    "    # Compute silhouette score (using cosine distance)\n",
    "    score = silhouette_score(X, labels, metric='cosine')\n",
    "    silhouette_scores.append(score)\n",
    "\n",
    "    print(f\"Silhouette score for graph {i}: {score:.4f}\")\n",
    "\n",
    "# Compute mean and standard deviation\n",
    "mean_score = np.mean(silhouette_scores)\n",
    "std_score = np.std(silhouette_scores)\n",
    "\n",
    "print(\"\\n=== Summary ===\")\n",
    "print(f\"Mean Silhouette Score: {mean_score:.4f}\")\n",
    "print(f\"Standard Deviation:    {std_score:.4f}\")\n"
   ]
  },
  {
   "cell_type": "markdown",
   "id": "634eb3f0",
   "metadata": {},
   "source": [
    "=== Summary ===\n",
    "\n",
    "Mean Silhouette Score: 0.5565\n",
    "\n",
    "Standard Deviation:    0.0504"
   ]
  }
 ],
 "metadata": {
  "kernelspec": {
   "display_name": "graphml",
   "language": "python",
   "name": "python3"
  },
  "language_info": {
   "codemirror_mode": {
    "name": "ipython",
    "version": 3
   },
   "file_extension": ".py",
   "mimetype": "text/x-python",
   "name": "python",
   "nbconvert_exporter": "python",
   "pygments_lexer": "ipython3",
   "version": "3.13.7"
  }
 },
 "nbformat": 4,
 "nbformat_minor": 5
}
